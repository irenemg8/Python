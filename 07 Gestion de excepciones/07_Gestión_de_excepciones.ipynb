{
  "cells": [
    {
      "cell_type": "markdown",
      "metadata": {
        "id": "1H66kHdNDFw6"
      },
      "source": [
        "**NOTA**: Si detectas algún error en este Colab, pon un mensaje en el foro para que lo podamos solucionar o envía un correo."
      ]
    },
    {
      "cell_type": "markdown",
      "metadata": {
        "id": "8Gr10IsShneK"
      },
      "source": [
        "#1 Gestión de excepciones"
      ]
    },
    {
      "cell_type": "markdown",
      "metadata": {
        "id": "YzaiUK4Hhqdh"
      },
      "source": [
        "Los errores son una parte fundamental en cualquier lenguaje de programación. En general, podemos clasificar los tipos de errores de programación en dos grandes bloques:\n",
        "\n",
        "*   **Errores sintácticos**: son errores que se deben a la sintaxis propia del lenguaje y que pueden ser identificados antes de ejecutar un programa (p.e. si utilizas un plugin para resaltar la sintaxis, te lo marcará como un error). Ejemplos de estos errores pueden ser: escribir `wile` en vez de `while`, olvidar cerrar unos paréntesis u olvidar poner los dos puntos después de la definición de una función.\n",
        "*   **Errores semánticos**: son errores que se deben a un funcionamiento incorrecto del código. Sintácticamente, es un código correcto, pero cuando se ejecuta produce algún fallo. Este tipo de errores son más difíciles de identificar antes de ejecutar un programa (al menos, automáticamente). Ejemplos de estos errores pueden ser: acceder a una posición inexistente de una lista (null pointer exception / index out of range), llamar a una función desde si misma de manera infinita (stack overflow), abrir a un fichero que no existe (file not found exception) o dividir un número por cero (division by zero). En general, estos errores son conocidos como **excepciones**, puesto que pueden provocar que la ejecución continúe.\n",
        "\n",
        "En este sentido, es importante controlar las distintas excepciones que pueda producir nuestro código para que el programa no termine abruptamente, sino que pueda continuar o terminar de manera controlada. Estas excepciones se pueden controlar de varias maneras. Una de ellas es mediante la **prevención** (p.e. comprobando que un fichero existe antes de intentar abrirlo) y otra manera es mediante la **gestión** (p.e. intentar abrir un fichero y si falla, hacer algo)."
      ]
    },
    {
      "cell_type": "code",
      "execution_count": null,
      "metadata": {
        "id": "FlcR06WbjJ_i"
      },
      "outputs": [],
      "source": [
        "#Ejemplos de excepciones:\n",
        "\n",
        "#stack overflow\n",
        "#def hola():\n",
        "#    hola()\n",
        "\n",
        "#hola()\n",
        "\n",
        "#out of range\n",
        "#lista = [4, 5, 1, 3]\n",
        "#print(lista[5])\n",
        "\n",
        "#division by zero\n",
        "#3/0"
      ]
    },
    {
      "cell_type": "markdown",
      "metadata": {
        "id": "DRBG6Ym18tj8"
      },
      "source": [
        "## 1.1 Captura de excepciones"
      ]
    },
    {
      "cell_type": "markdown",
      "metadata": {
        "id": "ds-oeq-xljEa"
      },
      "source": [
        "Vamos a comprobar cómo podemos realizar una gestión de excepciones mediante un ejemplo. Observa el siguiente código y piensa qué pasará antes de ejecutarlo."
      ]
    },
    {
      "cell_type": "code",
      "execution_count": 1,
      "metadata": {
        "id": "ATb6vmDxlxex"
      },
      "outputs": [
        {
          "name": "stdout",
          "output_type": "stream",
          "text": [
            "inicio\n"
          ]
        },
        {
          "ename": "IndexError",
          "evalue": "list index out of range",
          "output_type": "error",
          "traceback": [
            "\u001b[0;31m---------------------------------------------------------------------------\u001b[0m",
            "\u001b[0;31mIndexError\u001b[0m                                Traceback (most recent call last)",
            "Cell \u001b[0;32mIn[1], line 5\u001b[0m\n\u001b[1;32m      1\u001b[0m lista \u001b[38;5;241m=\u001b[39m [\u001b[38;5;241m4\u001b[39m, \u001b[38;5;241m5\u001b[39m, \u001b[38;5;241m1\u001b[39m, \u001b[38;5;241m3\u001b[39m]\n\u001b[1;32m      3\u001b[0m \u001b[38;5;28mprint\u001b[39m(\u001b[38;5;124m\"\u001b[39m\u001b[38;5;124minicio\u001b[39m\u001b[38;5;124m\"\u001b[39m)\n\u001b[0;32m----> 5\u001b[0m \u001b[38;5;28mprint\u001b[39m(\u001b[43mlista\u001b[49m\u001b[43m[\u001b[49m\u001b[38;5;241;43m4\u001b[39;49m\u001b[43m]\u001b[49m)\n\u001b[1;32m      7\u001b[0m \u001b[38;5;28mprint\u001b[39m(\u001b[38;5;124m\"\u001b[39m\u001b[38;5;124mfin\u001b[39m\u001b[38;5;124m\"\u001b[39m)\n",
            "\u001b[0;31mIndexError\u001b[0m: list index out of range"
          ]
        }
      ],
      "source": [
        "lista = [4, 5, 1, 3]\n",
        "\n",
        "print(\"inicio\")\n",
        "\n",
        "print(lista[4])\n",
        "\n",
        "print(\"fin\")"
      ]
    },
    {
      "cell_type": "markdown",
      "metadata": {
        "id": "zVnhH-Rul1Z9"
      },
      "source": [
        "Como habrás podido comprobar, el código anterior produce una excepción porque estamos intentando acceder a una posición inexistente de la lista. En este caso, la execución produce una excepción del tipo **IndexError**. Esta excepción, provoca que el programa termine abruptamente en el segundo `print`, y por tanto, no se muestra el `print` del final.\n",
        "\n",
        "Vamos a intentar controlar este tipo de excepciones para que, cuando se produzcan, el programa pueda continuar y no terminar abruptamente. Como hemos comentando antes, podríamos **prevenir** este tipo de excepción comprobando si la posición a la que queremos acceder está dentro del rango de posiciones la lista (de 0 a 3 en el ejemplo). No obstante, vamos a centrarnos en cómo podríamos **gestionar** esta excepción en caso de que se produzca. Para ello, Python nos ofrece la estructura `try-except` que nos permite **capturar** una excepción cuando se produce. Observa cómo lo haríamos:\n"
      ]
    },
    {
      "cell_type": "code",
      "execution_count": null,
      "metadata": {
        "id": "xwMDaIZonQa5"
      },
      "outputs": [],
      "source": [
        "lista = [4, 5, 1, 3]\n",
        "\n",
        "print(\"inicio\")\n",
        "\n",
        "try:\n",
        "    print(lista[4])\n",
        "except:\n",
        "    print(\"se ha producido una excepción\")\n",
        "\n",
        "print(\"fin\")"
      ]
    },
    {
      "cell_type": "markdown",
      "metadata": {
        "id": "kmvQl1qsn8ZJ"
      },
      "source": [
        "Como puedes observar, englobamos dentro del `try` el código que es susceptible de provocar una excepción. Se intenta ejecutar este código y si se produce una excepción, se ejecutará el código que hay dentro de `except` y el programa continuará.\n",
        "\n",
        "También podemos utilizar la cláusula `else` que sólo se ejecutará si no ocurre ninguna excepción:"
      ]
    },
    {
      "cell_type": "code",
      "execution_count": null,
      "metadata": {
        "id": "d2bFwV2U4K3M"
      },
      "outputs": [],
      "source": [
        "lista = [4, 5, 1, 3]\n",
        "\n",
        "print(\"inicio\")\n",
        "\n",
        "try:\n",
        "    print(lista[4])\n",
        "except:\n",
        "    print(\"se ha producido una excepción\")\n",
        "else:\n",
        "    print(\"este fin se muestra si no se produce excepción\")"
      ]
    },
    {
      "cell_type": "markdown",
      "metadata": {
        "id": "QQG1q0E06Ji2"
      },
      "source": [
        "También podemos utilizar la cláusula `finally` justo al final de todos los `except` y `else` (en caso que haya). El código que pongamos en el `finally` se ejecutará justo después del bloque entero `try-except`, y se ejecutará tanto si entra por `try` como si entra por `except`:"
      ]
    },
    {
      "cell_type": "code",
      "execution_count": 2,
      "metadata": {
        "id": "_LXP_jIz60If"
      },
      "outputs": [
        {
          "name": "stdout",
          "output_type": "stream",
          "text": [
            "inicio de la función\n",
            "se ha producido una excepción\n",
            "el código del finally se ejecuta siempre\n"
          ]
        },
        {
          "data": {
            "text/plain": [
              "-1"
            ]
          },
          "execution_count": 2,
          "metadata": {},
          "output_type": "execute_result"
        }
      ],
      "source": [
        "def mostrar_elemento():\n",
        "  lista = [4, 5, 1, 3]\n",
        "\n",
        "  print(\"inicio de la función\")\n",
        "\n",
        "  try:\n",
        "    print(lista[4])\n",
        "  except:\n",
        "    print(\"se ha producido una excepción\")\n",
        "    return -1\n",
        "  else:\n",
        "    print(\"este fin se muestra si no se produce excepción\")\n",
        "  finally:\n",
        "    print(\"el código del finally se ejecuta siempre\")\n",
        "\n",
        "  print(\"fin de la función\")\n",
        "  return 1\n",
        "\n",
        "#------------main-------------\n",
        "\n",
        "mostrar_elemento()"
      ]
    },
    {
      "cell_type": "markdown",
      "metadata": {
        "id": "cphbeZVl7mNW"
      },
      "source": [
        "El código que hay dentro del `finally` se ejecuta aunque dentro del `try-except` haya un **return** o un **break** que rompa un bucle. Se suele utilizar para realizar cualquier tipo de gestión antes de terminar (p.e. cerrar un fichero o una conexión de base de datos)."
      ]
    },
    {
      "cell_type": "markdown",
      "metadata": {
        "id": "63dBbiK88YTm"
      },
      "source": [
        "## 1.2 Múltiples excepciones"
      ]
    },
    {
      "cell_type": "markdown",
      "metadata": {
        "id": "alO5KAok4JKN"
      },
      "source": [
        "Es importante tener en cuenta que podemos definir los tipos de errores que queremos capturar con `except`, de manera que únicamente se ejecutaría este código si la excepción producida coincide con alguna de las indicadas. El siguiente código intenta capturar excepciones del tipo **RuntimeError** o **IndexError**. Como la excepción producida coincide con alguna de las indicadas, se ejecuta el código del `except`. En caso contrario, se lanzaría una excepción como si no estuviera el bloque `try-except`. Observa también cómo podemos imprimir el tipo de excepción producida.\n",
        "\n",
        "If an exception occurs during execution of the try clause, the rest of the clause is skipped. Then if its type matches the exception named after the except keyword, the except clause is executed, and then execution continues after the try statement.\n",
        "\n",
        "If an exception occurs which does not match the exception named in the except clause, it is passed on to outer try statements; if no handler is found, it is an unhandled exception and execution stops with a message as shown above"
      ]
    },
    {
      "cell_type": "code",
      "execution_count": 3,
      "metadata": {
        "id": "-G5X_I0romSq"
      },
      "outputs": [
        {
          "name": "stdout",
          "output_type": "stream",
          "text": [
            "inicio\n",
            "se ha producido una excepción: list index out of range\n",
            "esta excepción es de tipo IndexError\n",
            "fin\n"
          ]
        }
      ],
      "source": [
        "lista = [4, 5, 1, 3]\n",
        "\n",
        "print(\"inicio\")\n",
        "\n",
        "try:\n",
        "    print(lista[4])\n",
        "except (RuntimeError, IndexError) as err:\n",
        "    print(\"se ha producido una excepción: \"+str(err))\n",
        "    print(\"esta excepción es de tipo \"+type(err).__name__)\n",
        "\n",
        "print(\"fin\")"
      ]
    },
    {
      "cell_type": "markdown",
      "metadata": {
        "id": "nPC2r5i8rpPC"
      },
      "source": [
        "En el ejemplo anterior estamos realizando la misma solución para cualquiera de las dos excepciones que se produzcan, pero podríamos realizar una gestión distinta utilizando dos cláusulas `except`:"
      ]
    },
    {
      "cell_type": "code",
      "execution_count": 4,
      "metadata": {
        "id": "NqrQc0Cvr0Tb"
      },
      "outputs": [
        {
          "name": "stdout",
          "output_type": "stream",
          "text": [
            "inicio\n",
            "Hacemos otra cosa para IndexError\n",
            "fin\n"
          ]
        }
      ],
      "source": [
        "lista = [4, 5, 1, 3]\n",
        "\n",
        "print(\"inicio\")\n",
        "\n",
        "try:\n",
        "    print(lista[4])\n",
        "except RuntimeError:\n",
        "    print(\"Hacemos una cosa para RuntimeError\")\n",
        "except IndexError:\n",
        "    print(\"Hacemos otra cosa para IndexError\")\n",
        "\n",
        "print(\"fin\")"
      ]
    },
    {
      "cell_type": "markdown",
      "metadata": {
        "id": "sGGzEnYwqBzC"
      },
      "source": [
        "En este caso estamos capturando la excepción. Esto lo que hace es intentar dar una solución al problema, que en nuestro caso es mostrar un mensaje por pantalla pero que podría ser, por ejemplo, acceder a otra posición, crear una lista más grande, etc.\n",
        "\n",
        "Si echamos un ojo a la jerarquía de excepciones (https://docs.python.org/3/library/exceptions.html#exception-hierarchy), podrás ver que la clase **IndexError** hereda de **LookupError**, que a su vez, hereda de **Exception** y que a su vez, hereda de **BaseException**. Esto significa que si capturas cualquiera de estos tipos de excepciones, el código de dentro del `except` se ejecutará igualmente. Prueba a modificar el siguiente código para probar estos tipos de excepciones:"
      ]
    },
    {
      "cell_type": "code",
      "execution_count": 5,
      "metadata": {
        "id": "h0z7faBirSQr"
      },
      "outputs": [
        {
          "name": "stdout",
          "output_type": "stream",
          "text": [
            "inicio\n",
            "se ha producido una excepción: list index out of range\n",
            "esta excepción es de tipo IndexError\n",
            "fin\n"
          ]
        }
      ],
      "source": [
        "lista = [4, 5, 1, 3]\n",
        "\n",
        "print(\"inicio\")\n",
        "\n",
        "try:\n",
        "    print(lista[4])\n",
        "except BaseException as err:\n",
        "    print(\"se ha producido una excepción: \"+str(err))\n",
        "    print(\"esta excepción es de tipo \"+type(err).__name__)\n",
        "\n",
        "print(\"fin\")"
      ]
    },
    {
      "cell_type": "markdown",
      "metadata": {
        "id": "exQTeJLZrhw6"
      },
      "source": [
        "En este caso, si ponemos varias cláusulas `except`, siempre deberíamos controlar primero las excepciones más específicas antes que las más generales (las que están más arriba en la jerarquía), puesto que si entra por un `except`, ya no comprobará los siguientes. Prueba a modificar el orden de excepciones del siguiente código y comprobarás que siempre se ejecuta el primer `except`, puesto que se dispara una excepción **IndexError** que también es del tipo **BaseException**."
      ]
    },
    {
      "cell_type": "code",
      "execution_count": null,
      "metadata": {
        "id": "Boe0OcQnsT4N"
      },
      "outputs": [],
      "source": [
        "lista = [4, 5, 1, 3]\n",
        "\n",
        "print(\"inicio\")\n",
        "\n",
        "try:\n",
        "    print(lista[4])\n",
        "except IndexError:\n",
        "    print(\"Entramos por el primer except\")\n",
        "except BaseException:\n",
        "    print(\"Entramos por el segundo except\") #este bloque de código es inalcanzable\n",
        "\n",
        "print(\"fin\")"
      ]
    },
    {
      "cell_type": "markdown",
      "metadata": {
        "id": "LueCASGM8mn-"
      },
      "source": [
        "## 1.3 Propagación de excepciones"
      ]
    },
    {
      "cell_type": "markdown",
      "metadata": {
        "id": "oRMyiufNq_dN"
      },
      "source": [
        "A parte de capturar excepciones, hay otra forma de gestionarlas, que es **propagando** la excepción. El código que tienes a continuación es el mismo que tenemos más arriba pero utilizando la función `mostrar_elemento`. En este caso, la excepción ya no se produce en el código principal sino dentro de esta función:"
      ]
    },
    {
      "cell_type": "code",
      "execution_count": null,
      "metadata": {
        "id": "_q0PRljZrL0c"
      },
      "outputs": [],
      "source": [
        "def mostrar_elemento(lista, pos):\n",
        "  try:\n",
        "    print(lista[pos])\n",
        "  except IndexError:\n",
        "    print(\"La posición está fuera de rango\")\n",
        "\n",
        "#------------main-------------\n",
        "lista = [4, 5, 1, 3]\n",
        "\n",
        "print(\"inicio\")\n",
        "\n",
        "mostrar_elemento(lista,4)\n",
        "\n",
        "print(\"fin\")"
      ]
    },
    {
      "cell_type": "markdown",
      "metadata": {
        "id": "asCm6vUDr8ar"
      },
      "source": [
        "En este caso, lo que podemos hacer es que la función `mostrar_elemento` no sea la que **trate** la excepción sino que **emita** la excepción. De esta manera, la excepción emitida, será propagada al punto donde se llamó a la función (i.e. el código principal).\n",
        "\n",
        "Para ello, podemos utilizar `raise` que lo que hará será emitir una excepción cuando se cumpla una condición. Después, la excepción la capturamos en el código principal cuando llamamos a la función:"
      ]
    },
    {
      "cell_type": "code",
      "execution_count": null,
      "metadata": {
        "id": "YR1rmiXutpHc"
      },
      "outputs": [],
      "source": [
        "def mostrar_elemento(lista, pos):\n",
        "  if (pos >= 0 and pos < len(lista)) or (pos < 0 and abs(pos) <= len(lista)):\n",
        "    print(lista[pos])\n",
        "  else:\n",
        "    raise IndexError(\"La posición está fuera de rango\")\n",
        "\n",
        "#------------main-------------\n",
        "lista = [4, 5, 1, 3]\n",
        "\n",
        "print(\"inicio\")\n",
        "\n",
        "try:\n",
        "  mostrar_elemento(lista,-5)\n",
        "except IndexError:\n",
        "  print(\"La posición está fuera de rango\")\n",
        "\n",
        "print(\"fin\")"
      ]
    },
    {
      "cell_type": "markdown",
      "metadata": {
        "id": "Kt6ABT9z2gwg"
      },
      "source": [
        "¿Qué es mejor?¿capturar o progagar una excepción? pues dependerá del tipo de código que tengamos. Si tenemos un código principal que va llamando a funciones, posiblemente sea interesante centralizar la gestión de excepciones en un único punto, de manera que la ejecución pueda continuar. En cambio, si es algo puntual que depende de una función concreta, podríamos tener el tratamiento de la excepción en la misma función.\n",
        "\n",
        "Una posible regla podría ser que deberíamos emitir una excepción cuando nuestro código pueda entrar en algún escenario donde la ejecución no pueda continuar. Si emitimos una excepción, podemos hacer que otras partes de nuestro código puedan continuar."
      ]
    },
    {
      "cell_type": "markdown",
      "metadata": {
        "id": "hojNnCyGUIx2"
      },
      "source": [
        "# 2 Tarea entregable"
      ]
    },
    {
      "cell_type": "markdown",
      "metadata": {
        "id": "3VDVEiIZUtUV"
      },
      "source": [
        "Partiendo del proyecto de gestión de vuelos, vamos a completarlo para realizar una gestión de excepciones. En concreto, se pide utilizar la excepción **ValueError** (https://docs.python.org/3/library/exceptions.html#ValueError) que se encarga de validar el formato de los distintos parámetros recibidos.\n",
        "\n",
        "A continuación, se muestran una serie de indicaciones que tendrán que cumplirse. En caso contrario, se emitirá una excepción de tipo **ValueError**. El tratamiento de las excepciones es opcional, pero en caso de hacerse, se hará, por tanto, fuera de la función que las emite.\n",
        "\n",
        "*   En la inicialización de la clase `Flight` se comprobará que:\n",
        "> 1. Los dos primeros caracteres del parámetro `number` son letras.\n",
        "> 2. Los dos primeros caracteres del parámetro `number` están en mayúsculas.\n",
        "> 3. Los siguientes caracteres serán dígitos numéricos y el número que formen será menor que 9999.\n",
        "> Por ejemplo, un número de vuelo válido sería \"BA117\".\n",
        "\n",
        "*   La función `__parse_seat()` de la clase `Flight` comprobará que:\n",
        "> 1. El último caracter del asiento es una letra válida para el `Aircraft` que tenga asociado este vuelo.\n",
        "> 2. Los caracteres anteriores a este último son dígitos numéricos.\n",
        "> 3. El número que forman estos caracteres numéricos es un valor de fila válido para el `Aircraft` que tenga asociado este vuelo.\n",
        "> Por ejemplo, un asiento válido para un Boeing sería el \"12A\".\n",
        "\n",
        "*    Las funciones de asignación de asientos de la clase `Flight` comprobarán que:\n",
        "> 1. El asiento al que se asigna un pasajero deberá estar vacío.\n",
        "> 2. En una reasignación, el asiento original deberá estar ocupado."
      ]
    }
  ],
  "metadata": {
    "colab": {
      "provenance": [],
      "toc_visible": true
    },
    "kernelspec": {
      "display_name": "usr",
      "language": "python",
      "name": "python3"
    },
    "language_info": {
      "codemirror_mode": {
        "name": "ipython",
        "version": 3
      },
      "file_extension": ".py",
      "mimetype": "text/x-python",
      "name": "python",
      "nbconvert_exporter": "python",
      "pygments_lexer": "ipython3",
      "version": "3.8.10"
    }
  },
  "nbformat": 4,
  "nbformat_minor": 0
}
