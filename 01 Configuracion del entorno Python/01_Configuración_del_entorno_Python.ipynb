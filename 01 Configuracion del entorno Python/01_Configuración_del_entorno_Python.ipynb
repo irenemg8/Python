{
  "nbformat": 4,
  "nbformat_minor": 0,
  "metadata": {
    "colab": {
      "provenance": []
    },
    "kernelspec": {
      "name": "python3",
      "display_name": "Python 3"
    }
  },
  "cells": [
    {
      "cell_type": "markdown",
      "source": [
        "**NOTA**: Si detectas algún error en este Colab, alguna particularidad que haya que instalar, etc. Pon un mensaje en el foro para que lo podamos solucionar o envía un correo."
      ],
      "metadata": {
        "id": "1H66kHdNDFw6"
      }
    },
    {
      "cell_type": "markdown",
      "metadata": {
        "id": "Gc-Bzvkcjw0p"
      },
      "source": [
        "# 1 Introducción a Python"
      ]
    },
    {
      "cell_type": "markdown",
      "metadata": {
        "id": "NxLIjo18jrCi"
      },
      "source": [
        "Python es un lenguaje de programación interpretado de propósito general creado por Guido Van Rossum, el cual destaca por su sencilla sintaxis sencilla y por su facilidad de aprendizaje. A diferencia de otros lenguajes, Python es un lenguaje de programación de propósito general, aunque en los últimos años ha ganado bastante popularidad dentro de los ámbitos de la Inteligencia Artificial y el análisis de datos por la gran variedad de librerías disponibles listas para su uso. Realizar un prototipo en Python es muy rápido debido a su sintaxis y amplia gama de librerías disponibles. Destaca por:\n",
        "\n",
        "* Tener una sintaxis o reglas de programación fáciles de leer, entender y por tanto de mantener y/o modificar. Se dice que el código producido con Python es limpio por estos mismos motivos, aunque claro, esto también depende de la habilidad del programador para expresar sus ideas en código.\n",
        "* Es muy productivo. En unas pocas líneas o instrucciones de código es capaz de conseguir representar más trabajo que otros muchos lenguajes de programación. Esto hace que sea muy atractivo para los programadores, que evidentemente prefieren escribir cientos de líneas de código a miles de ellas.\n",
        "* Es un lenguaje de propósito general y por tanto puede ser empleado para una infinidad de tareas como ahora pequeños programas para descargar datos, programar la lógica de un servidor Web, programar sistemas distribuidos, cálculo científico, o las populares aplicaciones en Inteligencia Artificial y análisis de datos.\n",
        "* Es un lenguaje de programación que cuenta con una gran comunidad de personas que ha facilitado su aprendizaje, extensión, así como que seamos capaces de encontrar código reutilizable en forma de librerías de utilidades.\n",
        "\n",
        "<figure style=\"text-align:center\">\n",
        "  <center>\n",
        "  <img width = \"15%\" src=\"https://upload.wikimedia.org/wikipedia/commons/thumb/c/c3/Python-logo-notext.svg/1200px-Python-logo-notext.svg.png\"/>\n",
        "  <figcaption align=\"center\">Logotipo de Python</figcaption>\n",
        "  </center>\n",
        "</figure>\n",
        "\n",
        "Estas características han hecho que Python haya ganado mucha popularidad en los últimos años. De hecho, en la última encuesta realizada por StackOverflow a desarrolladores, Python fue el primer lenguaje generalista más popular, desbancando a Java.\n"
      ]
    },
    {
      "cell_type": "markdown",
      "metadata": {
        "id": "SIf8mo2Vkybh"
      },
      "source": [
        "# 2 ¿Cómo puedo trabajar con Python?"
      ]
    },
    {
      "cell_type": "markdown",
      "metadata": {
        "id": "HmucYvx3k3BK"
      },
      "source": [
        "Tenemos diversas alternativas para trabajar con Python. **Una primera opción** es utilizando el servicio de **Google Colab** (como este mismo documento que estás leyendo), que es un servicio de cómputo en la nube ideado por Google para compartir conocimiento, investigar colaborativamente, y aprender tecnologías como Inteligencia Artificial y ciencia de datos.\n",
        "\n",
        "Este entorno nos permite la creación, compartición, y ejecución de notebooks de Python como el que estás viendo ahora mismo. Google te da acceso a cerca de 12 GB de RAM y 100 GB de disco para cada notebook de manera gratuita con tu cuenta de Google.\n",
        "\n",
        "**Otra opción** para trabajar con Python es utilizar **una máquina propia**, bien en Polilabs o bien una máquina configurada según el colab 00 donde hemos instalado los distintos paquetes. Esta será la opción que utilizaremos principalmente, sobre todo porque podemos utilizar un editor de código y configurar diversos entornos virtuales con las librerías que queremos. No obstante, antes vamos a ver cómo podemos trabajar con Google Colab."
      ]
    },
    {
      "cell_type": "markdown",
      "metadata": {
        "id": "1XhxIW6elj7q"
      },
      "source": [
        "## 2.1 Notebooks de Google Colab"
      ]
    },
    {
      "cell_type": "markdown",
      "metadata": {
        "id": "LQOEwzMxlp4o"
      },
      "source": [
        "Un notebook es un entorno de ejecución interactivo en forma de cuaderno (de ahí su nombre). Este cuaderno permite intercalar tanto texto en lenguaje natural, como el que ves escrito en estas mismas líneas, como fragmentos de código que son evaluados contra un intérprete. El notebook recoge las instrucciones de código del fragmento y las envía al intérprete. Allí son evaluadas y el resultado (si es que hay alguno) es devuelto al notebook, el cual crea una caja de salida asociada a ese fragmento.\n",
        "\n",
        "A continuación tienes un ejemplo de código donde creamos dos variables, las sumamos y el resultado se muestra por pantalla (en este caso el notebook). Para ejecutar una casilla que contiene fragmento de código puedes o bien pulsar el icono de *Play* que aparece cuando posicionas el ratón sobre la casilla o bien posicionar el cursor sobre la casilla, poner el cursor de escritura en la casilla, y pulsar *SHIFT + ENTER*. Pruébalo con el fragmento de código que tienes justo debajo de esta casilla."
      ]
    },
    {
      "cell_type": "code",
      "metadata": {
        "colab": {
          "base_uri": "https://localhost:8080/"
        },
        "id": "272e3zJujpzu",
        "outputId": "ddc35609-0812-49a5-8747-d2d072ade015"
      },
      "source": [
        "x = 5\n",
        "y = 7\n",
        "suma = x+y\n",
        "print(suma)"
      ],
      "execution_count": null,
      "outputs": [
        {
          "output_type": "stream",
          "name": "stdout",
          "text": [
            "12\n"
          ]
        }
      ]
    },
    {
      "cell_type": "markdown",
      "metadata": {
        "id": "HXM5nr5umzKy"
      },
      "source": [
        "Habrás visto que esas instrucciones se han enviado al intérprete y el resultado ha sido devuelto al notebook, generándose una nueva casilla con el mismo justamente debajo.\n",
        "\n",
        "Prueba ahora el siguiente fragmento de código donde multiplicamos a x por dos y observa su resultado.\n",
        "\n"
      ]
    },
    {
      "cell_type": "code",
      "metadata": {
        "colab": {
          "base_uri": "https://localhost:8080/"
        },
        "id": "Ga6Vzm2pnRIp",
        "outputId": "9635e75a-da3b-4947-de3e-efe5ee025a74"
      },
      "source": [
        "x*2"
      ],
      "execution_count": null,
      "outputs": [
        {
          "output_type": "execute_result",
          "data": {
            "text/plain": [
              "6"
            ]
          },
          "metadata": {
            "tags": []
          },
          "execution_count": 9
        }
      ]
    },
    {
      "cell_type": "markdown",
      "metadata": {
        "id": "HN7vLgqgnQYx"
      },
      "source": [
        "Siempre que abres un notebook se abre un intérprete asociado. Al funcionar en modo interactivo, este intérprete mantiene el valor de las variables, las funciones, y todo aquello que hayas ejecutado en tu notebook desde su apertura. Siempre que envías instrucciones al intérprete, se actualiza el estado del mismo y de todo lo que hayas enviado hasta el momento. Por tanto, puedes ver este intérprete interactivo como un programa que se va ejecutando paso a paso (o fragmento a fragmento) a medida que vas enviando fragmentos de código al intérprete.\n",
        "\n",
        "Hay que tener mucho ojo, por que los notebooks permiten ejecuciones no lineal del código. Por ejemplo, ahora ejecuta la siguiente instrucción."
      ]
    },
    {
      "cell_type": "code",
      "metadata": {
        "id": "GMrAUFssmulQ"
      },
      "source": [
        "x = 3"
      ],
      "execution_count": null,
      "outputs": []
    },
    {
      "cell_type": "markdown",
      "metadata": {
        "id": "2l2jXZuFnXG4"
      },
      "source": [
        "Ahora vuelve a la casilla donde hemos multiplicado a x*2 y observa de nuevo su resultado. Verás que ahora es igual a 6. Esto es así porque el valor de x es cogido del último bloque de código lanzado al intérprete que lo define, y no del fragmento de código inmediatamente superior donde está definido x. No te preocupes, te irás familiarizándote con este entorno de ejecución. Entre algunas de las ventajas de trabajar con notebooks de Google Colab se incluye:\n",
        "\n",
        "* Permite probar código de forma dinámica y observar inmediatamente sus\n",
        "resultados, sin tener que volver a reejecutar todo el programa\n",
        "* Permite intercalar explicaciones con bloques interactivos de código, fomentando así el aprendizaje\n",
        "* Permite la integración de elementos multimedia para enriquecer tanto las explicaciones como la salida de nuestros fragmentos de código\n",
        "* Permite crear documentos interactivos que pueden ser empleados tanto como informes de negocio como informes académicos\n",
        "\n",
        "Si tienes interés, también puedes probar la herramienta **Jupyter** (https://jupyter.org/) que es muy similar y también es ampliamente usada para trabajar con Python de manera ágil.\n",
        "\n",
        "Ten en cuenta que si realizas cualquier cambio sobre este notebook de Google Colab, **NO** se guardará y perderás cualquier información o código que hayas introducido. Esto es así ya que, inicialmente, el notebook se encuentra almacenado en un Google Drive diferente al tuyo y los permisos establecidos son únicamente de lectura.\n",
        "\n",
        "Para poder realizar cambios sobre el notebook, deberás guardarlo en tu Google Drive y abrirlo con Google Colab. Esto lo podemos hacer desde *Archivo* y luego *Guardar una copia en Drive*. Esto abrirá una nueva pestaña del navegador con una copia del notebook ejecutándose en Google Colab desde tu cuenta. En este momento puedes cerrar el notebook original para evitar confusiones."
      ]
    },
    {
      "cell_type": "markdown",
      "metadata": {
        "id": "_dS8oKsJoGlI"
      },
      "source": [
        "## 2.2 Instalación personalizada"
      ]
    },
    {
      "cell_type": "markdown",
      "metadata": {
        "id": "eNx-6kFsoMTZ"
      },
      "source": [
        "A pesar de que utilizaremos Google Colab para mostrar algunas de las distintas prácticas que iremos haciendo, lo habitual será trabajar con un entorno personal instalado en una máquina local o en Polilabs.\n",
        "\n",
        "Este entorno personal nos permitirá utilizar Python de manera similar a como trabajamos con otros lenguajes como C#, Java o Javascript. Es decir, podemos instalar un intérprete de Python y desarrollar código con nuestro editor favorito, instalando las dinstintas librerías que nos hagan falta.\n",
        "\n",
        "En primer lugar, debemos saber que Python tiene distintas versiones. Uno podría pensar que lo mejor es aprender a programar con la última versión (https://www.python.org/), sin embargo, existen librerías que no tienen soporte para versiones 3.X y debemos trabajar con versiones anteriores como la 2.7. La parte buena, es que podemos tener varias versiones instaladas en una misma máquina y decidir cuál ejecutar en cada proyecto.\n"
      ]
    },
    {
      "cell_type": "markdown",
      "metadata": {
        "id": "PLRFtV4Vq1Qg"
      },
      "source": [
        "Desde **Ubuntu 20.04**, se incluye Python 3 en la instalación básica del sistema, mientras que Python 2 se debería instalar en caso de necesitarla. En nuestro caso, no nos debería hacer falta Python 2, con lo que podemos trabajar con la versión que viene instalada de Python 3 sin problemas. En este caso y partiendo de una máquina **Ubuntu 20.04**, vamos a comprobar qué versión de python tenemos instalada:"
      ]
    },
    {
      "cell_type": "code",
      "metadata": {
        "id": "4oOFw735PANY"
      },
      "source": [
        "python3 --version\n",
        "python --version"
      ],
      "execution_count": null,
      "outputs": []
    },
    {
      "cell_type": "markdown",
      "metadata": {
        "id": "EOit_eOqPCq4"
      },
      "source": [
        "Si has ejecutado estos comandos en la máquina de **Polilabs**, debería salirte la versión 3.8 tanto para python3 como para python. En el caso de ejecutar los comandos en la máquina instalada según la configuración del COLAB ANTERIOR, es posible que no te devuelva nada para python. Esto es porque los paquetes de python utilizan el intérprete **python3** o **python2** de manera explícita, por lo que no se utiliza el comando **python** (https://launchpad.net/ubuntu/focal/+package/python-is-python3). Es decir, los paquetes oficiales llaman explícitamente a python2 o python3.\n",
        "\n",
        "En distribuciones anteriores de Ubuntu, el comando **python** solía hacer referencia al intérprete **python2** pero como ya no viene instalado, por defecto no se utiliza. Si quisieras poder ejecutar el comando **python** apuntando a **python3**, podrías crear un alias en `~/.bashrc` o instalar el paquete `python-is-python3`. Sin embargo, como en los próximos vamos a configurar un entorno virtual, **no te preocupes** por ello porque dentro del entorno virtual podrás utilizar ambos comandos."
      ]
    },
    {
      "cell_type": "markdown",
      "source": [
        "### 2.2.1 Visual Studio Code"
      ],
      "metadata": {
        "id": "3tdbvttwS6w_"
      }
    },
    {
      "cell_type": "markdown",
      "source": [
        "**NOTA**: Este apartado **no** hay que realizarlo en Polilabs puesto que ya lo tenemos instalado. Únicamente habría que realizarlo en nuestra máquina local."
      ],
      "metadata": {
        "id": "SRLI-6xQmAH1"
      }
    },
    {
      "cell_type": "markdown",
      "metadata": {
        "id": "SpkkNue5r6U5"
      },
      "source": [
        "Una vez instalado Python, instalaremos el editor recomendado para las prácticas: **Visual Studio Code** (puedes descargarlo desde la página: https://code.visualstudio.com/). No obstante, eres libre de utilizar otros editores como **Pycharm** (https://www.jetbrains.com/es-es/pycharm/). Una vez descargado, lo instalamos con los siguientes comandos:"
      ]
    },
    {
      "cell_type": "code",
      "metadata": {
        "id": "d3673kWxU-KJ"
      },
      "source": [
        "cd ~/Descargas\n",
        "sudo dpkg -i code_XXXXX.deb\n",
        "\n",
        "#comprobamos que funciona\n",
        "code"
      ],
      "execution_count": null,
      "outputs": []
    },
    {
      "cell_type": "markdown",
      "metadata": {
        "id": "RWa8wQtYWjBZ"
      },
      "source": [
        "### 2.2.2 Anaconda (OPCIONAL)\n"
      ]
    },
    {
      "cell_type": "markdown",
      "source": [
        "**NOTA**: Este apartado no es obligatorio. Se incluye por si quieres utilizarlo y probarlo, pero en esta asignatura no utilizaremos Anaconda. En Polilabs no está instalado, por lo que únicamente podrías hacerlo en tu máquina local."
      ],
      "metadata": {
        "id": "TZr9a2I99Dvd"
      }
    },
    {
      "cell_type": "markdown",
      "metadata": {
        "id": "9hw47gdXvq_O"
      },
      "source": [
        "Históricamente, la gestión de paquetes en Python se ha llevado a cabo a través de la línea de comandos. No obstante, en los últimos años han surgido alternativas que permiten gestionar paquetes de manera gráfica. Una de ellas es **Anaconda** (https://www.anaconda.com/).\n",
        "\n",
        "Normalmente podrás encontrar referencias a Anaconda como una plataforma orientada a ciencia de datos porque muchos de los paquetes que ofrece son de ciencia de datos. No obstante, la podemos utilizar para aprender multitud de funciones de Python. Aunque en estas prácticas no haremos a penas referencia a esta plataforma, puedes probar a instalarla o bien, saltarte esta sección.\n",
        "\n",
        "Si decides continuar, puedes descargar el instalador que encontrarás en la página oficial (https://www.anaconda.com/products/individual#linux) y seguir las instrucciones, que son las que tienes a continuación:\n"
      ]
    },
    {
      "cell_type": "code",
      "metadata": {
        "id": "kvulTEb9W0LP"
      },
      "source": [
        "cd ~/Descargas\n",
        "bash Anaconda3-2020.11-Linux-x86_64.sh\n",
        "\n",
        "#durante la instalación, nos pregunta si queremos que el instalador inicialice con conda init. Contestamos \"yes\""
      ],
      "execution_count": null,
      "outputs": []
    },
    {
      "cell_type": "markdown",
      "metadata": {
        "id": "pjgS-zTnaS1w"
      },
      "source": [
        "En este punto, cierra la ventana de la consola y ábrela de nuevo. Verás que el prompt pone (base). No te preocupes, después comentaremos qué es.\n",
        "\n",
        "Vamos a comprobar la instalación con el siguiente comando. Verás que hay una gran cantidad de paquetes:"
      ]
    },
    {
      "cell_type": "code",
      "metadata": {
        "id": "1U4diA88anpI"
      },
      "source": [
        "conda list"
      ],
      "execution_count": null,
      "outputs": []
    },
    {
      "cell_type": "markdown",
      "metadata": {
        "id": "EeyPiy0rargW"
      },
      "source": [
        "El navegador de Anaconda es el componente gráfico que nos permite gestionar distintos paquetes y funcionalidades. Puedes ejecutar este navegador con el siguiente comando:"
      ]
    },
    {
      "cell_type": "code",
      "metadata": {
        "id": "eCR6jCRRauY_"
      },
      "source": [
        "anaconda-navigator"
      ],
      "execution_count": null,
      "outputs": []
    },
    {
      "cell_type": "markdown",
      "metadata": {
        "id": "7eoKyR3VbKfH"
      },
      "source": [
        "Verás que hay una gran cantidad de opciones que puedes explorar libremente. Nosotros vamos a pasar a la siguiente sección."
      ]
    },
    {
      "cell_type": "markdown",
      "source": [
        "### 2.2.3 Gestor de paquetes pip"
      ],
      "metadata": {
        "id": "FFKjbXDqi62N"
      }
    },
    {
      "cell_type": "markdown",
      "metadata": {
        "id": "x-TMGqhPeR4f"
      },
      "source": [
        "Para la instalación de paquetes en Python, debemos utilizar un gestor de paquetes (como npm en Javascript). En este caso, un gestor popular es **pip**, que instalaremos con los siguientes comandos.\n",
        "\n",
        "**NOTA**: Estos comandos **no** hay que realizarlos en Polilabs puesto que ya lo tenemos instalado. Únicamente habría que realizarlo en nuestra máquina local.\n",
        "\n",
        "**NOTA**: Si has instalado Anaconda, verás que en la consola te pone **(base)** en el prompt. Esto es un entorno virtual creado por Anaconda, de manera que desactivaremos este entorno virtual antes de instalar pip. En la siguiente sección veremos en detalle qué es un entorno virtual. Para desactivar el entorno virtual, ejecutaremos `conda deactivate`."
      ]
    },
    {
      "cell_type": "code",
      "metadata": {
        "id": "UHTZbDQRej1W"
      },
      "source": [
        "#esto no hay que hacerlo en Polilabs puesto que ya está instalado\n",
        "sudo apt update\n",
        "sudo apt install python3-pip"
      ],
      "execution_count": null,
      "outputs": []
    },
    {
      "cell_type": "markdown",
      "source": [
        "Ahora, podemos comprobar la versión que tenemos instalada:"
      ],
      "metadata": {
        "id": "QWWn3ZF7-KQk"
      }
    },
    {
      "cell_type": "code",
      "source": [
        "#comprobamos la versión\n",
        "pip3 --version #debería salir la 20 o superior"
      ],
      "metadata": {
        "id": "g-zbpqNq-bCl"
      },
      "execution_count": null,
      "outputs": []
    },
    {
      "cell_type": "markdown",
      "metadata": {
        "id": "0gfA1HiwbSZN"
      },
      "source": [
        "## 2.3 Entornos virtuales"
      ]
    },
    {
      "cell_type": "markdown",
      "metadata": {
        "id": "lCRzpHVacVSw"
      },
      "source": [
        "Como hemos comentado anteriormente, podemos tener varias versiones de Python instaladas en la misma máquina. Es posible que necesitemos versiones diferentes y también librerías diferentes para distintos proyectos. Por ejemplo, un proyecto de ROS2 puede tener unos requisitos completamente diferentes de un proyecto orientado a Machine Learning, a ciencia de datos o a desarrollo web. Por ello, es **altamente recomendable** crear **entornos virtuales**.\n",
        "\n",
        "Un entorno virtual es un espacio donde podemos tener distintas versiones de librerías (incluido Python). De esta manera, evitamos cualquier tipo de conflicto. Por ello, es recomendable crear un entorno virtual por cada tipo de proyecto que queramos trabajar.\n",
        "\n",
        "En nuestro caso, utilizaremos la herramienta **Virtualenv** para crear entornos virtuales. Si quieres trabajar con Anaconda, puedes ver cómo crear, activar y desactivar entornos virtuales en el siguiente enlace:\n",
        "https://docs.conda.io/projects/conda/en/latest/user-guide/tasks/manage-python.html"
      ]
    },
    {
      "cell_type": "markdown",
      "metadata": {
        "id": "Hh9YsyxbfMV9"
      },
      "source": [
        "A continuación, instalaremos **virtualenv** para poder crear entornos virtuales (instalar **solo** en el caso de la máquina local puesto que Polilabs ya lo tiene instalado):"
      ]
    },
    {
      "cell_type": "code",
      "metadata": {
        "id": "5gnyE7RifTzO"
      },
      "source": [
        "sudo apt install python3-virtualenv"
      ],
      "execution_count": null,
      "outputs": []
    },
    {
      "cell_type": "markdown",
      "metadata": {
        "id": "OEZgmAd-gUyX"
      },
      "source": [
        "Llegados a este punto, simplemente nos quedará crear un entorno virtual. A modo de ejemplo, vamos a crear un entorno para trabajar con Python 3.8 y ROS2 en nuestras prácticas. Este entorno virtual necesita tener nombre y un directorio asociado, que es el que se cargará cuando activemos el entorno virtual. En nuestro ejemplo, vamos a definirlo de la siguiente manera:\n",
        "\n",
        "*   rosenv (Python 3.8 en `$HOME/virtualenvs/rosenv` en el caso de la máquina local)\n",
        "*   rosenv (Python 3.8 en `$HOME/W/virtualenvs/rosenv`en el caso de la máquina de Polilabs)\n",
        "\n",
        "A continuación, mostramos los comandos a ejecutar:"
      ]
    },
    {
      "cell_type": "code",
      "metadata": {
        "id": "48vYFasOoylv"
      },
      "source": [
        "cd $HOME #en el caso de la máquina local\n",
        "cd $HOME/W #en el caso de la máquina de Polilabs\n",
        "\n",
        "mkdir virtualenvs\n",
        "cd virtualenvs\n",
        "\n",
        "#creamos el entorno virtual rosenv\n",
        "mkdir rosenv\n",
        "virtualenv rosenv"
      ],
      "execution_count": null,
      "outputs": []
    },
    {
      "cell_type": "markdown",
      "metadata": {
        "id": "3JfzFrfzp5Fn"
      },
      "source": [
        "Una vez creado el entorno, podrás comprobar que se han creado varios ficheros dentro de este directorio. Esto nos permite activar los entornos. Para ello, utilizaremos el comando `source` seguido de la ruta correspondiente al ejecutable `activate`. Por ejemplo, los siguientes comandos nos permitirían activar el entorno creado:"
      ]
    },
    {
      "cell_type": "code",
      "metadata": {
        "id": "qEifIzvNtgne"
      },
      "source": [
        "source $HOME/virtualenvs/rosenv/bin/activate #en la máquina local\n",
        "source $HOME/W/virtualenvs/rosenv/bin/activate #en el caso de Polilabs"
      ],
      "execution_count": null,
      "outputs": []
    },
    {
      "cell_type": "markdown",
      "metadata": {
        "id": "4lGsqxQAwhI3"
      },
      "source": [
        "Una vez cargado cada uno de estos entornos, puedes observar que te aparece entre paréntesis el nombre del entorno justo delante del prompt. Esto es así para que puedas ver rápidamente en qué entorno virtual estás trabajando:\n",
        "<figure style=\"text-align:center\">\n",
        "  <center>\n",
        "  <img width = \"40%\" src=\"https://s3imagenes.s3.us-west-2.amazonaws.com/venv.PNG\"/>\n",
        "  <figcaption align=\"center\">Entorno virtual</figcaption>\n",
        "  </center>\n",
        "</figure>\n"
      ]
    },
    {
      "cell_type": "markdown",
      "source": [
        "Para no tener que escribir el comando cada vez, nos podemos crear un alias en `~/.bashrc`, añadiendo la final del fichero la siguiente línea:"
      ],
      "metadata": {
        "id": "Osvr80P1oS_z"
      }
    },
    {
      "cell_type": "code",
      "source": [
        "alias rosenv='source $HOME/virtualenvs/rosenv/bin/activate'"
      ],
      "metadata": {
        "id": "VGR6A-Xxodta"
      },
      "execution_count": null,
      "outputs": []
    },
    {
      "cell_type": "markdown",
      "source": [
        "Esto nos permitirá escribir `rosenv` en lugar de `source $HOME/virtualenvs/rosenv/bin/activate`. Para que los cambios tengan efecto, cierra el terminal y vuélvelo a abrir."
      ],
      "metadata": {
        "id": "xoBS3M6rogDa"
      }
    },
    {
      "cell_type": "markdown",
      "metadata": {
        "id": "NYcrz0d7pwz0"
      },
      "source": [
        "Desde dentro del entorno virtual prueba a comprobar la versión de Python (`python3 --version` o `python --version`) y verás que en ambos casos estás trabajando con la misma versión. En este caso, al trabajar con el entorno virtual, se ha creado un enlace simbólico **python** que apunta a **python3** (ls -l /home/alumno/virtualenvs/rosenv/bin/python).\n",
        "\n",
        "Para desactivar un entorno, simplemente debes ejecutar el comando `deactivate`. Para ver los paquetes instalados en cada entorno virtual, puedes ejecutar el comando `pip freeze`, aunque de momento no tenemos ninguno.\n",
        "\n",
        "**IMPORTANTE**: Ten en cuenta que antes de trabajar en Python, deberás cargar el entorno virtual que has creado.\n",
        "\n",
        "Llegados a este punto, ya tenemos todo preparado para comenzar a escribir código con Visual Studio Code."
      ]
    },
    {
      "cell_type": "markdown",
      "metadata": {
        "id": "6kDISHInpUR_"
      },
      "source": [
        "## 2.4 Trabajando con Visual Studio Code"
      ]
    },
    {
      "cell_type": "markdown",
      "metadata": {
        "id": "JVl02_FwrqUC"
      },
      "source": [
        "Como hemos comentado, utilizaremos Visual Studio Code (VS Code) como entorno de edición de las prácticas. En primer lugar, **activaremos** el entorno virtual con el que queramos trabajar (en nuestro caso rosenv) y a continuación, crearemos un nuevo directorio de trabajo para las prácticas de programación con Python (podrías hacer otro para los proyectos de ROS):"
      ]
    },
    {
      "cell_type": "code",
      "metadata": {
        "id": "ZAMLnqUntA_1"
      },
      "source": [
        "rosenv\n",
        "mkdir $HOME/prog_python_ws"
      ],
      "execution_count": null,
      "outputs": []
    },
    {
      "cell_type": "markdown",
      "metadata": {
        "id": "EvgDt5A8tIos"
      },
      "source": [
        "Ahora, abriremos VS Code con el comando `code` y desde ahí abriremos el directorio recién creado (*File > Open Folder*) y crearemos un nuevo workspace (*File > Save Workspace* as) guardándolo en el mismo directorio. En VS Code se utiliza el concepto de *workspace* para definir un entorno de desarrollo. Básicamente se trata de un intérprete de Python (p.e. 3.8) junto con las características que queramos.\n",
        "\n",
        "A continuación, crearemos en este mismo directorio, un fichero **prueba.py**, y observaremos que en la esquina inferior derecha nos aparecen un par de mensajes indicando que podemos instalar las extensiones de Python, las cuales instalaremos:\n",
        "\n",
        "<figure style=\"text-align:center\">\n",
        "  <center>\n",
        "  <img width = \"40%\" src=\"https://s3imagenes.s3-us-west-2.amazonaws.com/extensiones.PNG\"/>\n",
        "  <figcaption align=\"center\">Extensión de Python</figcaption>\n",
        "  </center>\n",
        "</figure>"
      ]
    },
    {
      "cell_type": "markdown",
      "metadata": {
        "id": "aM5djpe3xAmN"
      },
      "source": [
        "Comprobamos también que en la esquina inferior izquierda nos aparece el intérprete correcto de Python en el entorno virtual que hayamos activado:\n",
        "<figure style=\"text-align:center\">\n",
        "  <center>\n",
        "  <img width = \"30%\" src=\"https://s3imagenes.s3.us-west-2.amazonaws.com/interprete.PNG\"/>\n",
        "  <figcaption align=\"center\">Comprobamos el intérprete de Python</figcaption>\n",
        "  </center>\n",
        "</figure>\n",
        "\n",
        "En caso de que no te salga el intérprete correcto (te debería poner el del entorno virtual como en la imagen anterior) o en caso de querer cambiar el intérprete, podemos presionar la combinación de teclas *Control+Shift+p* donde nos saldrá un desplegable similar al de la siguiente imagen:  \n",
        "<figure style=\"text-align:center\">\n",
        "  <center>\n",
        "  <img width = \"60%\" src=\"https://s3imagenes.s3-us-west-2.amazonaws.com/interprete2.PNG\"/>\n",
        "  <figcaption align=\"center\">En caso de querer cambiar de intérprete</figcaption>\n",
        "  </center>\n",
        "</figure>\n",
        "\n",
        "Aquí escribiremos `Select Interpreter` (python). Después, `select at workspace level` y finalmente `enter interpreter path`. Aquí escribiremos la ruta del intérprete. Esta ruta la podemos buscar ejecutando en el terminal el comando `whereis python`, lo cual, nos debería mostrar una de las siguientes rutas (será la última que te aparezca):"
      ]
    },
    {
      "cell_type": "code",
      "source": [
        "~/virtualenvs/rosenv/bin/python #en el caso de tu máquina local\n",
        "~/W/virtualenvs/rosenv/bin/python #en el caso de Polilabs"
      ],
      "metadata": {
        "id": "JQhdCFqDnQfG"
      },
      "execution_count": null,
      "outputs": []
    },
    {
      "cell_type": "markdown",
      "metadata": {
        "id": "k6_9dwUCyVRl"
      },
      "source": [
        "Ahora, ya podemos escribir nuestro primer código Python en VS Code. En el fichero que hemos creado escribimos un código como el siguiente:\n",
        "\n",
        "<figure style=\"text-align:center\">\n",
        "  <center>\n",
        "  <img width = \"50%\" src=\"https://s3imagenes.s3-us-west-2.amazonaws.com/codigo.PNG\"/>\n",
        "  <figcaption align=\"center\">Código en Python</figcaption>\n",
        "  </center>\n",
        "</figure>\n",
        "\n",
        "Para comprobar su ejecución, simplemente lo ejecutamos desde la consola donde tenemos activo el entorno virtual, escribiendo el comando` python prueba.py` o bien, clic derecho sobre el nombre del fichero y *Run Python File in Terminal*:\n",
        "\n",
        "<figure style=\"text-align:center\">\n",
        "  <center>\n",
        "  <img width = \"60%\" src=\"https://s3imagenes.s3-us-west-2.amazonaws.com/ejecucion.PNG\"/>\n",
        "  <figcaption align=\"center\">Ejecución del script</figcaption>\n",
        "  </center>\n",
        "</figure>"
      ]
    },
    {
      "cell_type": "markdown",
      "metadata": {
        "id": "8f_yJdYp0HYU"
      },
      "source": [
        "A partir de aquí, ya podemos realizar las prácticas. Recuerda activar el entorno virtual correspondiente antes de trabajar con VS Code."
      ]
    }
  ]
}