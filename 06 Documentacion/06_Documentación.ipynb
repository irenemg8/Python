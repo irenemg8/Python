{
  "nbformat": 4,
  "nbformat_minor": 0,
  "metadata": {
    "colab": {
      "provenance": [],
      "toc_visible": true
    },
    "kernelspec": {
      "name": "python3",
      "display_name": "Python 3"
    }
  },
  "cells": [
    {
      "cell_type": "markdown",
      "source": [
        "**NOTA**: Si detectas algún error en este Colab, pon un mensaje en el foro para que lo podamos solucionar o envía un correo."
      ],
      "metadata": {
        "id": "1H66kHdNDFw6"
      }
    },
    {
      "cell_type": "markdown",
      "metadata": {
        "id": "zH-5g54aWFLq"
      },
      "source": [
        "# 1 Documentación"
      ]
    },
    {
      "cell_type": "markdown",
      "metadata": {
        "id": "16BxsChr-cBF"
      },
      "source": [
        "La documentación textual de Python se conoce como **docstring** y se utiliza para comentar cualquier función, método, clase o módulo. Los docstring son una herramienta que nos permite entender la funcionalidad de cualquiera de estos elementos de una manera estandarizada. Cualquier otro comentario que tengamos en nuestro código es algo puntual que podemos poner el cualquier parte del código para explicar partes del código que no sean obvias. En general, una buena documentación es esencial para el mantenimiento de cualquier software, no solo para la persona que lo desarrolla sino para cualquier otra persona que acceda posteriormente.\n",
        "\n",
        "El uso de docstring nos permite acceder a esta información a través del atributo `__doc__` de cualquier objeto así como a través de la función `help()`. Prueba a ejecutar el siguiente código:"
      ]
    },
    {
      "cell_type": "code",
      "metadata": {
        "id": "k6kwM7-z_3ek"
      },
      "source": [
        "import math\n",
        "\n",
        "help(math.sqrt)\n",
        "\n",
        "func = math.sqrt\n",
        "print(func.__doc__)"
      ],
      "execution_count": null,
      "outputs": []
    },
    {
      "cell_type": "markdown",
      "metadata": {
        "id": "TnHFxji_A2oJ"
      },
      "source": [
        "Podemos utilizar docstring de **una línea** mediante tres comillas simples o dobles al inicio y al final del mismo comentario. Por convenio, empezará por mayúscula y terminará en punto. Como buena práctica, no se suelen poner líneas en blanco entre el docstring y el resto de código:"
      ]
    },
    {
      "cell_type": "code",
      "metadata": {
        "id": "FXNhugybBQ6c"
      },
      "source": [
        "def funcion():\n",
        "  '''Esta función devuelve True.'''\n",
        "  return True"
      ],
      "execution_count": null,
      "outputs": []
    },
    {
      "cell_type": "markdown",
      "metadata": {
        "id": "vjJv5ouVBQPI"
      },
      "source": [
        "Si has ejecutado el código anterior, prueba a ver lo que te devuelve el `help()`:"
      ]
    },
    {
      "cell_type": "code",
      "metadata": {
        "id": "7oM0IQYNBrIB"
      },
      "source": [
        "help(funcion)"
      ],
      "execution_count": null,
      "outputs": []
    },
    {
      "cell_type": "markdown",
      "metadata": {
        "id": "pNHWtNmKAJU5"
      },
      "source": [
        "Aunque podamos encontrarnos docstring de una línea, lo más habitual es tener de **varias líneas**. En el caso de las **funciones y métodos**, se suele indicar una pequeña descripción de lo que hace, así como los parámetros o argumentos que reciben y lo que se devuelve. Habitualmente se suele dejar un espacio entre cada línea, pero en esta asignatura daremos por bueno también si lo hacemos sin espacios. De la misma manera, tampoco nos pondremos rigurosos en la manera de describir estos elementos. Con que aparezcan los parámetros y los valores devueltos, será suficiente:"
      ]
    },
    {
      "cell_type": "code",
      "metadata": {
        "id": "2wRDN5syCylx"
      },
      "source": [
        "def por3(valor):\n",
        "  \"\"\" Esta función devuelve el número multiplicado por 3\n",
        "\n",
        "  Args:\n",
        "    valor (int): El número que se recibe\n",
        "\n",
        "  Returns:\n",
        "    int: El número multiplicado por 3\n",
        "\n",
        "  \"\"\"\n",
        "\n",
        "  return valor*3\n",
        "\n",
        "help(por3)"
      ],
      "execution_count": null,
      "outputs": []
    },
    {
      "cell_type": "markdown",
      "metadata": {
        "id": "XG_L9zHYDzPp"
      },
      "source": [
        "En el caso de las **clases**, los docstring deben resumir el comportamiento de la misma clase y mostrar una lista de los métodos públicos y los atributos (variables de instancia). A continuación tienes un ejemplo de una clase:"
      ]
    },
    {
      "cell_type": "code",
      "metadata": {
        "id": "roVta3jfELhw"
      },
      "source": [
        "class Persona:\n",
        "  \"\"\"\n",
        "  Representación de una persona\n",
        "\n",
        "  Attributes:\n",
        "    nombre (str): El nombre de la persona\n",
        "    apellido (str): El apellido de la persona\n",
        "    edad (int): La edad de la persona\n",
        "\n",
        "  Methods:\n",
        "    mostrar_info(): Muestra los datos de la persona\n",
        "\n",
        "  \"\"\"\n",
        "\n",
        "  def __init__(self, nombre, apellido, edad):\n",
        "    \"\"\" Inicializa una persona con sus datos\n",
        "    Args:\n",
        "      nombre (str): El nombre de la persona\n",
        "      apellido (str): El apellido de la persona\n",
        "      edad (int): La edad de la persona\n",
        "    \"\"\"\n",
        "    self.__nombre = nombre\n",
        "    self.__apellido = apellido\n",
        "    self.__edad = edad\n",
        "\n",
        "  def mostrar_info(self):\n",
        "    \"\"\" Muestra los datos de la persona\n",
        "\n",
        "    \"\"\"\n",
        "    print(\"Hola, soy \"+self.__nombre+\" \"+self.__apellido+\" y tengo \"+str(self.edad)+\" años.\")"
      ],
      "execution_count": null,
      "outputs": []
    },
    {
      "cell_type": "markdown",
      "metadata": {
        "id": "oKfzKVayF3Bx"
      },
      "source": [
        "Prueba ahora a ver la información que se muestra:"
      ]
    },
    {
      "cell_type": "code",
      "metadata": {
        "id": "It9IuLAYF1hS"
      },
      "source": [
        "help(Persona)"
      ],
      "execution_count": null,
      "outputs": []
    },
    {
      "cell_type": "markdown",
      "metadata": {
        "id": "-7TJSZdwGYUH"
      },
      "source": [
        "En el caso de un **módulo**, los docstring deben mostrar todas las clases y funciones que se definan en el mismo, poniendo una breve descripción para cada uno. El docstring lo pondríamos al inicio del código:"
      ]
    },
    {
      "cell_type": "code",
      "metadata": {
        "id": "UXwyaLU4G7Gh"
      },
      "source": [
        "\"\"\"\n",
        "Este módulo incluya la definición para poder representar personas.\n",
        "\n",
        "Classes:\n",
        "  Persona\n",
        "\n",
        "\"\"\"\n",
        "\n",
        "class Persona:\n",
        "  \"\"\"\n",
        "  Representación de una persona\n",
        "\n",
        "  Attributes:\n",
        "    nombre (str): El nombre de la persona\n",
        "    apellido (str): El apellido de la persona\n",
        "    edad (int): La edad de la persona\n",
        "\n",
        "  Methods:\n",
        "    mostrar_info(): Muestra los datos de la persona\n",
        "\n",
        "  \"\"\"\n",
        "\n",
        "  def __init__(self, nombre, apellido, edad):\n",
        "    \"\"\" Inicializa una persona con sus datos\n",
        "    Args:\n",
        "      nombre (str): El nombre de la persona\n",
        "      apellido (str): El apellido de la persona\n",
        "      edad (int): La edad de la persona\n",
        "    \"\"\"\n",
        "    self.__nombre = nombre\n",
        "    self.__apellido = apellido\n",
        "    self.__edad = edad\n",
        "\n",
        "  def mostrar_info(self):\n",
        "    \"\"\" Muestra los datos de la persona\n",
        "\n",
        "    \"\"\"\n",
        "    print(\"Hola, soy \"+self.__nombre+\" \"+self.__apellido+\" y tengo \"+str(self.edad)+\" años.\")"
      ],
      "execution_count": null,
      "outputs": []
    },
    {
      "cell_type": "markdown",
      "metadata": {
        "id": "hWFXyYhxHPSI"
      },
      "source": [
        "Pues comprobar cómo se muestra el docstring de un módulo ya existente:"
      ]
    },
    {
      "cell_type": "code",
      "metadata": {
        "id": "GgeVn0fgHnNn"
      },
      "source": [
        "import math\n",
        "\n",
        "help(math)"
      ],
      "execution_count": null,
      "outputs": []
    },
    {
      "cell_type": "markdown",
      "metadata": {
        "id": "tkxJCVQUAmT_"
      },
      "source": [
        "Si quieres configurar **Visual Studio Code** con la extensión para generar docstring, puedes ir al siguiente link:\n",
        "https://marketplace.visualstudio.com/items?itemName=njpwerner.autodocstring\n",
        "\n",
        "Una vez allí, sigue las instrucciones para instalarlo. Para generar el docstring, basta con teclear las triples comillas una vez ya tengas el código implementado, y automáticamente te rellenará la documentación:\n",
        "\n",
        "<figure style=\"text-align:center\">\n",
        "  <center>\n",
        "  <img width = \"40%\" src=\"https://s3imagenes.s3-us-west-2.amazonaws.com/docstring.PNG\"/>\n",
        "  <figcaption align=\"center\">Docstring en Visual Studio Code</figcaption>\n",
        "  </center>\n",
        "</figure>"
      ]
    },
    {
      "cell_type": "markdown",
      "metadata": {
        "id": "mGQslmTCETqU"
      },
      "source": [
        "# 2 Tarea entregable\n"
      ]
    },
    {
      "cell_type": "markdown",
      "metadata": {
        "id": "bJijoXd_EdgX"
      },
      "source": [
        "Modifica el ejemplo de vuelos para incluir un **docstring** para al menos las clases y las funciones públicas que no sean getters.\n",
        "\n",
        "\n"
      ]
    }
  ]
}