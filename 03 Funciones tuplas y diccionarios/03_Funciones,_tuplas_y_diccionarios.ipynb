{
  "nbformat": 4,
  "nbformat_minor": 0,
  "metadata": {
    "colab": {
      "provenance": [],
      "toc_visible": true
    },
    "kernelspec": {
      "name": "python3",
      "display_name": "Python 3"
    }
  },
  "cells": [
    {
      "cell_type": "markdown",
      "source": [
        "**NOTA**: Si detectas algún error en este Colab, pon un mensaje en el foro para que lo podamos solucionar o envía un correo."
      ],
      "metadata": {
        "id": "1H66kHdNDFw6"
      }
    },
    {
      "cell_type": "markdown",
      "metadata": {
        "id": "yhBLB7Qm0K7I"
      },
      "source": [
        "# 1 Funciones"
      ]
    },
    {
      "cell_type": "markdown",
      "metadata": {
        "id": "54GHQHwB0M_p"
      },
      "source": [
        "Al igual que en otros lenguajes de programación, en ocasiones podemos tener la necesidad de querer realizar funciones con la finalidad de reutilizar o hacer más eficiente nuestro código.\n",
        "\n",
        "Para crear un función en Python debemos utilizar la palabra `def` seguida del nombre de la función. El código que escribamos identado será el que forme parte de la función.\n",
        "\n",
        "Veamos un ejemplo sencillo de definición de función en Python y expliquemos en base a éste como se define de forma práctica una función en Python. El ejemplo siguiente calcula la media de una lista de números pasada como entrada a la función:\n",
        "\n",
        "```python\n",
        "def media(lista_numeros):\n",
        "    suma = 0\n",
        "    for n in lista_numeros:\n",
        "        suma = suma + n\n",
        "    return suma / len(lista_numeros)\n",
        "```\n",
        "\n",
        "La palabra reservada `def` indica a Python que a continuación vamos a definir una función. Acto seguido, proporcionamos un nombre apropiado para la función. Tras definir el nombre de función, entre paréntesis definimos cuántos parámetros de entrada (separados por comas) tendrá la función y damos un nombre a cada una de estas entradas. De manera tabulada, encontramos la lógica de la función.\n",
        "\n",
        "Para llamar a la función, basta con escribir su nombre y pasarle los parámetros de entrada, si es que tiene:"
      ]
    },
    {
      "cell_type": "code",
      "metadata": {
        "id": "2rvLR_Bw0CSo"
      },
      "source": [
        "def media(lista_numeros):\n",
        "    \"\"\"Calcula la media de una lista\n",
        "    Args: lista_numeros (list[])\n",
        "    Returns: float\n",
        "    \"\"\"\n",
        "    suma = 0\n",
        "    for n in lista_numeros:\n",
        "        suma = suma + n\n",
        "    return suma / len(lista_numeros)\n",
        "\n",
        "#------------main-------------\n",
        "num = [1, 5, 3, 2]\n",
        "\n",
        "resultado = media(num)\n",
        "print(\"El resultado es \"+str(resultado))"
      ],
      "execution_count": null,
      "outputs": []
    },
    {
      "cell_type": "code",
      "metadata": {
        "id": "9mKuAmKBW0XS"
      },
      "source": [
        "help(media)"
      ],
      "execution_count": null,
      "outputs": []
    },
    {
      "cell_type": "markdown",
      "metadata": {
        "id": "6tSD9nIXUF_0"
      },
      "source": [
        "También podemos definir parámetros opcionales, los cuáles, si no se pasan, cogen un valor por defecto. Observa cómo definimos aquí un parámetro opcional:"
      ]
    },
    {
      "cell_type": "code",
      "metadata": {
        "id": "EpdCPym7UXCq"
      },
      "source": [
        "def saludar(nombre = \"Pepe\"):\n",
        "  \"\"\"\n",
        "  Args: nombre (default is \"Pepe\")\n",
        "  Returns: string\n",
        "  \"\"\"\n",
        "  return \"Hola \" + nombre\n",
        "\n",
        "#------------main-------------\n",
        "res = saludar()\n",
        "print(res)"
      ],
      "execution_count": null,
      "outputs": []
    },
    {
      "cell_type": "markdown",
      "metadata": {
        "id": "NfzHxny-UufR"
      },
      "source": [
        "En caso de tener varios parámetros, debemos poner los opcionales al final:"
      ]
    },
    {
      "cell_type": "code",
      "metadata": {
        "id": "uqv2uTOEUzIJ"
      },
      "source": [
        "def saludar(edad, nombre = \"Pepe\"):\n",
        "  \"\"\"\n",
        "  Args: edad (int), nombre (default is \"Pepe\")\n",
        "  Returns: string\n",
        "  \"\"\"\n",
        "  return \"Hola \" + nombre + \", tienes \" + str(edad) + \" años\"\n",
        "\n",
        "#------------main-------------\n",
        "res = saludar(25)\n",
        "print(res)"
      ],
      "execution_count": null,
      "outputs": []
    },
    {
      "cell_type": "markdown",
      "metadata": {
        "id": "3yQnG9qrVOQa"
      },
      "source": [
        "En Python también es habitual utilizar los **kwargs** (keyword arguments) para pasar parámetros a las funciones. Esto nos permite cambiar el órden en el que están definidos. Para ello, debemos especificar a qué parámetro corresponde cada valor pasado:"
      ]
    },
    {
      "cell_type": "code",
      "metadata": {
        "id": "kv5aYdzwVe86"
      },
      "source": [
        "def saludar(edad, nombre):\n",
        "  \"\"\"\n",
        "  Args: edad (int), nombre (default is \"Pepe\")\n",
        "  Returns: string\n",
        "  \"\"\"\n",
        "  return \"Hola \" + nombre + \", tienes \" + str(edad) + \" años\"\n",
        "\n",
        "#------------main-------------\n",
        "res = saludar(nombre=\"Pepe\", edad=25)\n",
        "print(res)"
      ],
      "execution_count": null,
      "outputs": []
    },
    {
      "cell_type": "markdown",
      "metadata": {
        "id": "7OlRwmDtWQrV"
      },
      "source": [
        "Vamos a modificar una lista. Observa el siguiente código y sin ejecutarlo, piensa qué mostrará el mensaje:"
      ]
    },
    {
      "cell_type": "code",
      "metadata": {
        "id": "hhmchLpSWZla"
      },
      "source": [
        "def ordenar(lista):\n",
        "  \"\"\"\n",
        "  Args: lista (list[])\n",
        "  Returns: list[]\n",
        "  \"\"\"\n",
        "  lista.sort()\n",
        "  lista[2] = 12\n",
        "  return lista\n",
        "\n",
        "#------------main-------------\n",
        "lista = [5, 2, 7, 4]\n",
        "print(\"Después de llamar a la función: \", ordenar(lista), lista)\n"
      ],
      "execution_count": null,
      "outputs": []
    },
    {
      "cell_type": "markdown",
      "metadata": {
        "id": "vUTWO5Gt2-hC"
      },
      "source": [
        "Como has podido comprobar, una lista se pasa por referencia, de manera que la función recibe un puntero o dirección de memoria donde está la lista original.\n",
        "\n"
      ]
    },
    {
      "cell_type": "markdown",
      "metadata": {
        "id": "6K__v74tX2qU"
      },
      "source": [
        "También podemos pasar un número arbitrario de parámetros a una función mediante la palabra ```*args```. Observa el siguiente ejemplo cómo la función sirve para mostrar en orden cualquier cantidad de números recibidos:"
      ]
    },
    {
      "cell_type": "code",
      "metadata": {
        "id": "ZPhxhbfeYF5C"
      },
      "source": [
        "def ordenar(*args):\n",
        "  \"\"\"\n",
        "  Args: *args (list[])\n",
        "  \"\"\"\n",
        "  lista = list(args) #creamos una lista con los valores recibidos\n",
        "  lista.sort()\n",
        "  print(lista)\n",
        "\n",
        "#------------main-------------\n",
        "ordenar(5, 2, 7, 4)\n",
        "ordenar(7, 2, 8, 6, 3, 1, 5)"
      ],
      "execution_count": null,
      "outputs": []
    },
    {
      "cell_type": "markdown",
      "metadata": {
        "id": "DWahF3NMB_Ay"
      },
      "source": [
        "## 1.1 Funciones lambda"
      ]
    },
    {
      "cell_type": "markdown",
      "metadata": {
        "id": "MlNUxk9qYvJU"
      },
      "source": [
        "Python soporta el concepto de funciones anónimas o **lambda**. Estas funciones no necesitan tener un nombre (pero pueden tener uno si queremos). La sintaxis mínima es ```lambda parámetros : expresión ```.\n",
        "\n",
        "* ```parámetros``` son los valores que pasamos a la función.\n",
        "* ```expresión``` es la lógica que queremos que devuelva la función.\n",
        "\n",
        "Un ejemplo de uso de este tipo de funciones es cuando todo lo que queremos que haga la función es una simple línea. En este caso, podemos evitar el `def`:"
      ]
    },
    {
      "cell_type": "code",
      "metadata": {
        "id": "M50O6gkL7ovT"
      },
      "source": [
        "res = lambda x, y : x * y\n",
        "print(res(5, 2))"
      ],
      "execution_count": null,
      "outputs": []
    },
    {
      "cell_type": "markdown",
      "metadata": {
        "id": "spEI12kZ6SJk"
      },
      "source": [
        "En la función de arriba, `x` e `y` son los parámetros de entrada, mientras que `x * y` es la expresión que se evalúa y retorna. Este código de arriba sería más o menos equivalente al siguiente:\n"
      ]
    },
    {
      "cell_type": "code",
      "metadata": {
        "id": "1TSZYyhkCchS"
      },
      "source": [
        "def multiplica(x, y):\n",
        "  return x * y\n",
        "\n",
        "print(multiplica(5, 2))"
      ],
      "execution_count": null,
      "outputs": []
    },
    {
      "cell_type": "markdown",
      "metadata": {
        "id": "dCkuKmGnCqgh"
      },
      "source": [
        "Las funciones lambda son diferentes de una función normal porque únicamente contienen una expresión, no pueden tener bloques y devuelven una función. En este sentido, los dos códigos no son equivalentes del todo. Más bien, la función lambda no devuelve el resultado de sumar x e y, sino más bien, la función que calcula esta suma."
      ]
    },
    {
      "cell_type": "markdown",
      "metadata": {
        "id": "U7T4lTrBFqno"
      },
      "source": [
        "## 1.2 Ejercicios"
      ]
    },
    {
      "cell_type": "markdown",
      "metadata": {
        "id": "3gWyzK-KF8R5"
      },
      "source": [
        "Con lo que has aprendido sobre funciones, programa y prueba las siguientes funciones. Intenta utilizar funciones de orden superior combinadas con funciones lambda si es posible:\n",
        "1.   Crea una función llamada `without_first_letter` que dada una lista de palabras, devuelva una nueva lista con la primera letra de cada palabra eliminada.\n",
        "2.   Crea una función llamada `get_minimum` que dado una lista de números,devuelva el valor mínimo encontrado el dicho array.\n",
        "3.   Crea una función llamada `every_element_greater_than` que tome por parámetro un número y una lista numérica y devuelva `True` si todos los elementos son mayores que el número pasado por parámetro y `False` en caso contrario.\n",
        "4.   Crea una función llamada `greater_than_average` que tome un parámetro x de tipo numérico, y una lista llamada data_array. La función deberá devolver cierto en caso de que el valor x sea mayor que la media de la lista, y falso en caso contrario.\n",
        "5.\t Crea una función llamada `clean_list` que tome una lista de nombres de usuarios y una lista de nombres de usuarios baneados y devuelva una nueva lista con los usuarios no baneados."
      ]
    },
    {
      "cell_type": "markdown",
      "metadata": {
        "id": "OAWf9XdPWg5K"
      },
      "source": [
        "## 1.3 Comprehension"
      ]
    },
    {
      "cell_type": "markdown",
      "metadata": {
        "id": "AgL9DJHgWuiR"
      },
      "source": [
        "Las funciones anteriores no son la única forma de trabajar con listas. Las **comprehensions** (o comprensiones) son una forma elegante de definir y crear listas basándonos en otras listas.\n",
        "\n",
        "Imagina que queremos crear una lista que multiplique por dos los elementos de otra lista. Esto lo podríamos hacer de varias maneras: (1) de manera tradicional iterando la lista con un bucle, (2) utilizando una función `map()`, pero también (3) con una comprehension. Observa el siguiente ejemplo que produce el mismo resultado de las 3 maneras:"
      ]
    },
    {
      "cell_type": "code",
      "metadata": {
        "id": "HEhcoZHyd0Ab"
      },
      "source": [
        "valores = [2, 5, 12, 10]\n",
        "\n",
        "#Manera tradicional\n",
        "resultado = []\n",
        "for i in valores:\n",
        "  resultado.append(i * 2)\n",
        "print(resultado)\n",
        "\n",
        "#Ejemplo con map\n",
        "resultado = map(lambda i : i * 2, valores)\n",
        "print(list(resultado))\n",
        "\n",
        "#Ejemplo con comprehension\n",
        "resultado = [i * 2 for i in valores]\n",
        "print(resultado)"
      ],
      "execution_count": null,
      "outputs": []
    },
    {
      "cell_type": "markdown",
      "metadata": {
        "id": "w0GF1Mv8YD78"
      },
      "source": [
        "Como puedes ver, en vez de crear una lista vacía y añadir cada elemento, simplemente definimos la nueva lista y su contenido en la misma línea. La sintaxis de una comprehension es la siguiente:\n",
        "\n",
        "```python\n",
        "nueva_lista = [expression for item in list]\n",
        "```\n",
        "Donde:\n",
        "* `expression` es una expresión que devuelva un valor o una llamada a una función.\n",
        "* `item` es el elemento iterable de la lista.\n",
        "* `list` es la propia lista.\n",
        "\n",
        "Tienes que tener en cuenta que no todos los bucles pueden ser reescritos como una comprehension. Sin embargo, según vayas sintiéndote cómodo/a, puedes ir reemplazando algunos bucles por esta sintaxis. En comparación con las funciones lambda, una comprehension puede ser más fácil de leer.\n",
        "\n",
        "Esto se puede ver más fácil mediante la inclusión de condicionales, que se escriben normalmente con la siguiente sintaxis:\n",
        "```python\n",
        "nueva_lista = [expression for item in list (if conditional)]\n",
        "```\n",
        "\n",
        "Fíjate en el siguiente ejemplo donde se crea una nueva lista con los elementos pares. Es fácil de leer, ¿verdad?"
      ]
    },
    {
      "cell_type": "code",
      "metadata": {
        "id": "JjqKx12lZTQb"
      },
      "source": [
        "lista = [14, 5, 12, 16, 9, 7, 10]\n",
        "\n",
        "nueva = [x for x in lista if x % 2 == 0]\n",
        "print(nueva)"
      ],
      "execution_count": null,
      "outputs": []
    },
    {
      "cell_type": "markdown",
      "metadata": {
        "id": "cyTGO64PZiJf"
      },
      "source": [
        "En caso de querer hacer condicionales anidados, lo podrías hacer de la siguiente manera. Observa cómo en el siguiente ejemplo nos quedamos con los pares mayores de 10:"
      ]
    },
    {
      "cell_type": "code",
      "metadata": {
        "id": "PcOtNqwlZxCx"
      },
      "source": [
        "lista = [14, 5, 12, 16, 9, 7, 10]\n",
        "\n",
        "nueva = [x for x in lista if x % 2 == 0 if x > 10]\n",
        "print(nueva)\n",
        "\n"
      ],
      "execution_count": null,
      "outputs": []
    },
    {
      "cell_type": "markdown",
      "metadata": {
        "id": "VxlMnwktdgvu"
      },
      "source": [
        "En el ejemplo anterior podríamos sustituir el `if` por un `and` y el resultado sería el mismo, pero la idea era mostrar un `if` anidado."
      ]
    },
    {
      "cell_type": "markdown",
      "metadata": {
        "id": "5yvSyMLbhP28"
      },
      "source": [
        "También podemos emplear una sintaxis `if-else`. En el siguiente ejemplo creamos una lista con los elementos pares y los impares los sustituimos por 0. Aquí cambiamos el orden del `if-else` y el `for`:"
      ]
    },
    {
      "cell_type": "code",
      "metadata": {
        "id": "5R3BwVSPaW7h"
      },
      "source": [
        "lista = [14, 5, 12, 16, 9, 7, 10]\n",
        "\n",
        "nueva = [ x if x % 2 == 0 else 0 for x in lista ]\n",
        "print(nueva)"
      ],
      "execution_count": null,
      "outputs": []
    },
    {
      "cell_type": "markdown",
      "metadata": {
        "id": "JB5WejnRbAGz"
      },
      "source": [
        "Vamos a complicarlo un poco más. Suponemos que tenemos que computar la traspuesta de una matriz (una matriz es una lista de listas). Vamos a ver cómo lo podríamos hacer con un bucle tradicional:"
      ]
    },
    {
      "cell_type": "code",
      "metadata": {
        "id": "Of2SlfsMbLWh"
      },
      "source": [
        "traspuesta = []\n",
        "matriz = [[1, 2, 3, 4], [4, 5, 6, 8]]\n",
        "\n",
        "for i in range(len(matriz[0])): #range(4)\n",
        "    fila_traspuesta = []\n",
        "\n",
        "    for fila in matriz:\n",
        "        fila_traspuesta.append(fila[i])\n",
        "    traspuesta.append(fila_traspuesta)\n",
        "\n",
        "print(traspuesta)"
      ],
      "execution_count": null,
      "outputs": []
    },
    {
      "cell_type": "markdown",
      "metadata": {
        "id": "Vu0PDQp9biic"
      },
      "source": [
        "Como puedes ver, esto se calcula con un bucle anidado. A continuación puedes ver cómo podrías obtener lo mismo con una comprehension:"
      ]
    },
    {
      "cell_type": "code",
      "metadata": {
        "id": "GDzEADAKbsU7"
      },
      "source": [
        "matriz = [[1, 2, 3, 4], [4, 5, 6, 8]]\n",
        "traspuesta = [[ fila[i] for fila in matriz] for i in range(len(matriz[0]))]\n",
        "print(traspuesta)"
      ],
      "execution_count": null,
      "outputs": []
    },
    {
      "cell_type": "markdown",
      "metadata": {
        "id": "HdLMG0-zcTuz"
      },
      "source": [
        "Los bucles anidados debes leerlos al revés. En el caso anterior, se ejecuta primero `for i in range(len(matriz[0]))` y después `fila[i] for fila in matriz`. Por tanto, primero se asigna un valor a `i`, y después el item `fila[i]` se añade a la nueva lista `traspuesta`.\n",
        "\n",
        "Como puedes ver, si una comprehension hace que tu código sea difícil de leer, quizás es mejor utilizar una alternativa. Por último, recuerda que una comprehension puede trasformarse en un bucle, pero no todos los bucles pueden trasformarse en una comprehension.\n",
        "\n",
        "\n"
      ]
    },
    {
      "cell_type": "markdown",
      "metadata": {
        "id": "M7UWlUtxtTxJ"
      },
      "source": [
        "## 1.3 Ejercicios"
      ]
    },
    {
      "cell_type": "markdown",
      "metadata": {
        "id": "Rsma6h_atTxl"
      },
      "source": [
        "Ahora intenta resolver algunos de los ejercicios siguientes utilizando comprehensions:\n",
        "1.   Crea una función llamada `squares_greater` que dada una lista de números, devuelva una nueva lista con los cuadrados de aquellos números mayores que 10.\n",
        "2.   Crea una función llamada `word_length` que dada una lista de palabras, devuelva una nueva lista con la longitud de cada una siempre y cuando la palabra no sea \"el\".\n",
        "3.\t Crea una función llamada `clean_list` que tome una lista de nombres de usuarios y una lista de nombres de usuarios baneados y devuelva una nueva lista con los usuarios no baneados."
      ]
    },
    {
      "cell_type": "markdown",
      "metadata": {
        "id": "PT3pSxsC23bx"
      },
      "source": [
        "# 2 Tuplas"
      ]
    },
    {
      "cell_type": "markdown",
      "metadata": {
        "id": "xnGhHtAb3h8Z"
      },
      "source": [
        "Python nos ofrece otra estructura de datos llamada tupla. Una tupla es una secuencia de valores donde cada uno de los valores ocupa una posición determinada y ordenada dentro de la secuencia. Por tanto, a nivel conceptual, la forma de organizar una colección de valores en una tupla es igual al de una lista. Entonces, ¿cuál es la diferencia entre ambos tipos de estructuras datos? Si bien nosotros podíamos modificar una lista de forma dinámica mediante operaciones de inserción y borrado, esto no es posible en el caso de las tuplas. **Las tuplas son inmutables**. Es decir, una vez ha sido creada una tupla, esta no cambia nunca su estructura. Literalmente, una tupla es una lista que no podemos modificar.\n",
        "\n",
        "Ahora bien, ¿por qué iba a querer emplear una tupla en vez de una lista? Al fin y al cabo, una lista puedo cambiarla a mi antojo mientras que las tuplas no cambian. Si no sabemos si la colección de datos debe cambiar o no, será más conveniente siempre emplear una lista por esa versatilidad. No obstante, si sabemos que la colección de datos no va a ser nunca modificada (e.g., únicamente la emplearemos para leer valores) trabajar con una tupla es más eficiente a nivel temporal y espacial (i.e., espacio en memoria) que trabajar con una lista.\n",
        "\n",
        "Crear una tupla en Python es sencillo, pero hemos de tener en cuenta que todos los valores a almacenar en la tupla deben ser proporcionados en el momento de la creación. Si cuando inicializábamos una lista empleábamos una lista de valores separados por comas y entre corchetes cuadrados, en el caso de las tuplas el único cambio es que los valores estarán encerrados entre paréntesis (aunque también puedes poner los valores separados por comas sin paréntesis):\n",
        "\n",
        "\n"
      ]
    },
    {
      "cell_type": "code",
      "metadata": {
        "id": "4RfpQHPk4dIa"
      },
      "source": [
        "tupla = (25, 12, 14, 29)\n",
        "print(tupla)\n",
        "\n",
        "#no es lo más habitual omitir paréntesis, pero es lo mismo\n",
        "tupla = 25, 12, 14, 29\n",
        "print(tupla)"
      ],
      "execution_count": null,
      "outputs": []
    },
    {
      "cell_type": "markdown",
      "metadata": {
        "id": "Pr6DxkLHL9eP"
      },
      "source": [
        "Puesto que una tupla es inmutable, una vez creada, la única operación que podemos realizar es acceder a los valores que se encuentran almacenados en la colección. Al igual que en el caso de las listas, para acceder a estos valores debemos realizarlo de forma posicional. Es decir, proporcionando el índice del elemento al cual queremos acceder."
      ]
    },
    {
      "cell_type": "code",
      "metadata": {
        "id": "ii136_WHL48z"
      },
      "source": [
        "tupla = (25, 12, 14, 29)\n",
        "valor = tupla[1] + tupla[2]\n",
        "print(valor)"
      ],
      "execution_count": null,
      "outputs": []
    },
    {
      "cell_type": "markdown",
      "metadata": {
        "id": "3c_2wmzs4qTZ"
      },
      "source": [
        "La mayoría de métodos que hemos visto para listas, **no** los podemos utilizar en tuplas. Algunos que sí que puedes utilizar son ```len()```, ```count()``` o ```index()```. A continuación, puedes ver cómo se define una tupla y algunas opciones:"
      ]
    },
    {
      "cell_type": "code",
      "metadata": {
        "id": "lL26A4nr40aY"
      },
      "source": [
        "tupla = (25, 12, 14, 29)\n",
        "print(tupla[0])\n",
        "\n",
        "print(len(tupla))\n",
        "\n",
        "print(tupla.count(12))\n",
        "\n",
        "print(tupla.index(14))\n",
        "\n",
        "#Esto da error\n",
        "#tupla[0] = 15"
      ],
      "execution_count": null,
      "outputs": []
    },
    {
      "cell_type": "markdown",
      "metadata": {
        "id": "Zq40T_omL2tf"
      },
      "source": [
        "Un caso bastante particular es cuando queremos crear una tupla con un único valor. Para diferenciar los paréntesis de tupla de aquellos empleados para operaciones matemáticas debemos emplear una coma después del valor, aunque a continuación no aportemos otro valor. Por ejemplo, una tupla que contiene únicamente el número 43 sería creada de la siguiente forma:"
      ]
    },
    {
      "cell_type": "code",
      "metadata": {
        "id": "Icj77YFqL0UN"
      },
      "source": [
        "tupla = (43,)\n",
        "print(tupla)"
      ],
      "execution_count": null,
      "outputs": []
    },
    {
      "cell_type": "markdown",
      "metadata": {
        "id": "i0LufCZwMPKf"
      },
      "source": [
        "Otros operadores como el *slice* o la concatenación (con el operador +) también están disponibles para las tuplas."
      ]
    },
    {
      "cell_type": "markdown",
      "metadata": {
        "id": "4bY_NRD_GCqv"
      },
      "source": [
        "Puesto que una tupla es una secuencia de items separados por comas, podemos usar una tupla cuando queremos que una función devuelva **más de un valor con el return**. Si estás acostumbrado a lenguajes como Java, C o C#, el siguiente código puede parecerte una muy buena solución para devolver varios valores:"
      ]
    },
    {
      "cell_type": "code",
      "metadata": {
        "id": "-KmAw8stHJef"
      },
      "source": [
        "\"\"\"\n",
        "E: float\n",
        "S: float, float\n",
        "\"\"\"\n",
        "def area_y_perimetro(base, altura):\n",
        "  area = base * altura\n",
        "  perimetro = base * 2 + altura * 2\n",
        "  return area, perimetro #ojo, devolvemos 2 valores!!\n",
        "\n",
        "b = 2\n",
        "a = 3\n",
        "\n",
        "#observa cómo recuperamos los dos valores\n",
        "area, perimetro = area_y_perimetro(b,a)\n",
        "print(\"El área es \"+str(area)+\" y el perímetro \"+str(perimetro))"
      ],
      "execution_count": null,
      "outputs": []
    },
    {
      "cell_type": "markdown",
      "metadata": {
        "id": "MDldDUK4HwI1"
      },
      "source": [
        "Evidentemente, también podrías utilizar otras soluciones para devolver varios valores, como una lista, un objeto u otras estructuras, pero ¿no crees que devolver una tupla es una solución muy fácil de leer y elegante?"
      ]
    },
    {
      "cell_type": "markdown",
      "metadata": {
        "id": "r-vw4qqR5upx"
      },
      "source": [
        "# 3 Diccionarios"
      ]
    },
    {
      "cell_type": "markdown",
      "metadata": {
        "id": "4bHZCBjIN4cW"
      },
      "source": [
        "Los diccionarios son un ejemplo de estructura de datos donde almacenamos pares de **tipo clave-valor**. Mientras que el valor es propiamente el dato que forma parte de la colección de datos (i.e., el dato que realmente queremos almacenar), la **clave** sirve para **identificar al valor** que hemos almacenado con respecto al resto de valores de la colección. Como los valores no tienen una posición dentro de la colección de datos, debemos asociarles una clave que identifica de forma inequívoca al valor que hemos almacenado para así poder acceder al mismo dentro del diccionario.\n",
        "\n",
        "Por tanto, un diccionario es una estructura de datos similar a una lista pero en vez de identificar a cada elemento por su posición, se identifica por su clave. De esta manera, al igual que dos elementos de una lista no tienen el mismo valor de posición, dos elementos de un diccionario tampoco pueden tener el mismo valor de clave. Puedes pensar en claves como si fuera un número de teléfono, un DNI o una dirección de correo. La cuestión es que no se repitan.\n",
        "\n",
        "Como particularidad, en Python las claves siempre son tipos de datos inmutables (e.g., tipos básicos, cadenas de texto, y tuplas) mientras que los valores pueden ser tanto mutables como inmutables.\n",
        "\n",
        "En Python contamos con el tipo *dict*, el cual representa un diccionario de tipo clave-valor. La creación de un diccionario en Python es sencilla. Primero veremos cómo podemos crear un diccionario vacío empleando dos sintaxis diferentes:"
      ]
    },
    {
      "cell_type": "code",
      "metadata": {
        "id": "g4xp2oCxMKig"
      },
      "source": [
        "dic1 = {}\n",
        "dic2 = dict()"
      ],
      "execution_count": null,
      "outputs": []
    },
    {
      "cell_type": "markdown",
      "metadata": {
        "id": "zQZSrq2uOnx9"
      },
      "source": [
        "Al igual que ocurría con otras estructuras de datos, también podemos inicializar un diccionario con unas claves y valores específicos empleando la sintaxis de tipo llave:"
      ]
    },
    {
      "cell_type": "code",
      "metadata": {
        "id": "cuvA0SGKOnDL"
      },
      "source": [
        "dic = {123: \"Juan\", 456: \"Maria\", 789: \"Pedro\"}\n",
        "print(dic)"
      ],
      "execution_count": null,
      "outputs": []
    },
    {
      "cell_type": "markdown",
      "metadata": {
        "id": "lUu2h7xXOvg8"
      },
      "source": [
        "Fíjate cómo los pares clave-valor se encuentran separados por comas, y cada par está compuesto por un símbolo de dos puntos, la clave a la izquierda del símbolo de los dos puntos, y el valor almacenado a la derecha del símbolo de los dos puntos. En el ejemplo anterior todas las claves eran cadenas de texto, pero realmente podemos emplear cualquier tipo de dato mientras sea inmutable:"
      ]
    },
    {
      "cell_type": "code",
      "metadata": {
        "id": "nEou_bRUOrjU"
      },
      "source": [
        "dic = { 11: 42.1, \"usuario2\": 33, (1,3,4): \"valor3\" }\n",
        "print(dic)"
      ],
      "execution_count": null,
      "outputs": []
    },
    {
      "cell_type": "markdown",
      "metadata": {
        "id": "sYAMY7y-PMvy"
      },
      "source": [
        "Tras haber inicializado un diccionario, posiblemente una de las primeras operaciones que queremos realizar sobre éste es la lectura de valores. En este sentido, es necesario proporcionarle al diccionario la clave del valor al cuál queremos acceder. Para ello, empleamos una sintaxis similar a la que empleamos cuando accedemos posicionalmente en una lista, solo que aportando la clave dentro de los corchetes en vez de la posición. A continuación, vemos un ejemplo donde accedemos a dos valores del diccionario para realizar una operación matemática."
      ]
    },
    {
      "cell_type": "code",
      "metadata": {
        "id": "FVWv3ueMPJOF"
      },
      "source": [
        "dic = { \"usuario1\": 23, \"usuario7\": 10, \"usuario2\" : 4 }\n",
        "result = dic[\"usuario1\"] + dic[\"usuario2\"]\n",
        "print(result)"
      ],
      "execution_count": null,
      "outputs": []
    },
    {
      "cell_type": "markdown",
      "metadata": {
        "id": "8jU3qvfE-yTp"
      },
      "source": [
        "A continuación puedes ver un ejemplo donde creamos un diccionario y realizamos varias operaciones."
      ]
    },
    {
      "cell_type": "code",
      "metadata": {
        "id": "2yWmF0plAOBt"
      },
      "source": [
        "dic = {123: \"Juan\", 456: \"Maria\", 789: \"Pedro\", \"sdfas\": 344}\n",
        "print(dic)\n",
        "\n",
        "#Acceder a un valor a partir de su clave\n",
        "res = dic[456]\n",
        "print(\"El valor de la clave 456 es: \",res)\n",
        "\n",
        "#Otra forma de acceder, pero esta no da error si no existe, sino que devuelve \"None\"\n",
        "res = dic.get(45116)\n",
        "print(\"El valor de la clave 45116 es: \",res)\n",
        "\n",
        "#Obtener el tamaño de un diccionario\n",
        "res = len(dic)\n",
        "print(\"El tamaño del diccionario es: \",res)\n",
        "\n",
        "#Comprobar si una clave existe\n",
        "res = 456 in dic\n",
        "print(\"La clave 456 existe? \",res)"
      ],
      "execution_count": null,
      "outputs": []
    },
    {
      "cell_type": "markdown",
      "metadata": {
        "id": "EC3tQJanPRZC"
      },
      "source": [
        "También podemos almacenar nuevos pares clave-valor en un diccionario empleando la misma sintaxis que empleamos para el acceso a valores. Fíjate como utilizamos la misma sintaxis para insertar un nuevo dato como también para sobreescribir valores asociados a claves ya empleadas en el diccionario. En ese caso, el resultado será la sobreescritura del valor asociado a la clave:"
      ]
    },
    {
      "cell_type": "code",
      "metadata": {
        "id": "IfMrQdJaPO1k"
      },
      "source": [
        "d = { 'usuario1': 23, 'usuario7': 10, 'usuario2' : 4 }\n",
        "d['usuario3'] = 11\n",
        "d['usuario1'] = 0\n",
        "print(d)"
      ],
      "execution_count": null,
      "outputs": []
    },
    {
      "cell_type": "code",
      "metadata": {
        "id": "WjwMml4jql1f"
      },
      "source": [
        "dic = {123: \"Juan\", 456: \"Maria\", 789: \"Pedro\", \"sdfas\": 344}\n",
        "print(dic)\n",
        "\n",
        "#Añadir/modificar un item\n",
        "dic[122] = \"Eva\" #si no existe lo añade\n",
        "dic[\"sdfas\"] = 355 #si existe lo modifica\n",
        "print(\"Modifico clave 'sdfas' y añado la 122: \",dic)\n",
        "\n",
        "#Otra forma de añadir/modificar el valor de una clave\n",
        "dic.update({124: \"Manolo\"}) #si no existe lo añade\n",
        "dic.update({123: \"Pepe\"}) #si existe lo modifica\n",
        "print(\"Modifico clave 123 y añado la 124: \",dic)\n",
        "\n",
        "#Eliminar un elemento por su clave\n",
        "del dic[456]\n",
        "#Otra forma mediante la que nos podemos guardar el valor eliminado\n",
        "#res = dic.pop(456)\n",
        "print(\"Elimino la clave 456: \",dic)\n",
        "\n",
        "#Eliminar todo el diccionario y la variable\n",
        "#del dic\n",
        "#Eliminar todos los datos pero mantener la variable\n",
        "dic.clear()\n",
        "print(\"Elimino el diccionario: \",dic)"
      ],
      "execution_count": null,
      "outputs": []
    },
    {
      "cell_type": "markdown",
      "metadata": {
        "id": "WQJRpxUTPUox"
      },
      "source": [
        "Otra operación bastante común cuando usamos diccionarios es recorrer las claves que tenemos en un diccionario para acceder a sus correspondientes valores. Esto lo podemos realizar de varias maneras:"
      ]
    },
    {
      "cell_type": "code",
      "metadata": {
        "id": "TolbvmAIPUJv"
      },
      "source": [
        "dic = {123: \"Juan\", 456: \"Maria\", 789: \"Pedro\", \"sdfas\": 344}\n",
        "\n",
        "#Recorrer un diccionario\n",
        "print(\"Recorremos un diccionario:\")\n",
        "for i in dic:\n",
        "  print(\"Clave: \",i,\" Valor: \",dic[i])\n",
        "\n",
        "#Otra forma de recorrerlo un diccionario\n",
        "print(\"\\nOtra forma de recorrerlo:\")\n",
        "for i in dic.keys():\n",
        "  print(\"Clave: \",i,\" Valor: \",dic[i])\n",
        "\n",
        "#Recorrer sólo por los valores\n",
        "print(\"\\nPor valores:\")\n",
        "for i in dic.values():\n",
        "  print(i)\n",
        "\n",
        "#Otra forma de recorrer en dos variables\n",
        "print(\"\\nPor claves y valores:\")\n",
        "for k, v in dic.items():\n",
        "  print(\"Clave: \",k,\" Valor: \",v)"
      ],
      "execution_count": null,
      "outputs": []
    },
    {
      "cell_type": "markdown",
      "metadata": {
        "id": "30eMHLLKsI3R"
      },
      "source": [
        "Por último, también puedes utilizar una **comprehension** sobre un diccionario. Lo único que cambia con respecto a listas es que tienes que definir la clave.\n",
        "\n",
        "Observa en el siguiente ejemplo cómo creamos un diccionario de aquellos items mayores que 100:"
      ]
    },
    {
      "cell_type": "code",
      "metadata": {
        "id": "3KuCEpFUsWZf"
      },
      "source": [
        "dic = {\"first\": 20, \"second\": 556, \"third\": 212, \"fourth\": 89}\n",
        "\n",
        "nuevo_dic = {i : dic[i] for i in dic.keys() if dic[i] > 100}\n",
        "print(nuevo_dic)"
      ],
      "execution_count": null,
      "outputs": []
    },
    {
      "cell_type": "markdown",
      "metadata": {
        "id": "WbFE6W03Okpm"
      },
      "source": [
        "Aquí tienes algunas de las funciones más interesantes que puedes utilizar con diccionarios:\n",
        "* ```clear()``` Vacía un diccionario eliminando toads las claves y valores.\n",
        "* ```copy()``` Devuelve una copia del diccionario.\n",
        "* ```fromkeys()``` Devuelve una nueva copia del diccionario pero solo con unas claves concretas.\n",
        "* ```get()``` Devuelve el valor de una clave concreta, o None si no existe.\n",
        "* ```items()``` Devuelve una lista de items como una tupla para cada par de clave-valor.\n",
        "* ```keys()``` Devuelve una lista de todas las claves.\n",
        "* ```pop()``` Elimina el item que tenga una clave determinada y lo guarda e una variable.\n",
        "* ```popitem()``` Elimina el último par de clave-valor.\n",
        "* ```update()``` Modifica el valor de una clave determinada, o lo añade si no existe.\n",
        "* ```values()``` Devuelve una lista de todos los valores."
      ]
    },
    {
      "cell_type": "markdown",
      "metadata": {
        "id": "fExJIB_GprQn"
      },
      "source": [
        "Hasta ahora hemos visto cómo podemos trabajar con diccionarios con un valor para cada clave, pero también es común encontrar casos donde necesitamos tener múltiples pares clave-valor para cada item.\n",
        "\n",
        "Imagina que no es suficiente con conocer el nombre de una persona, sino que necesitamos otros datos como su fecha de nacimiento y población. En este caso, podemos pensar que cada uno de los datos tendría un aspecto similar al siguiente ejemplo:"
      ]
    },
    {
      "cell_type": "code",
      "metadata": {
        "id": "akWz8cZpqJEg"
      },
      "source": [
        "persona = {\n",
        "    \"nombre\" : \"Paco\",\n",
        "    \"fecha\" : \"02/04/1980\",\n",
        "    \"poblacion\" : \"Valencia\"\n",
        "}\n",
        "\n",
        "#La forma de acceder a los datos de una persona sería así:\n",
        "print(persona[\"nombre\"])\n",
        "print(persona[\"fecha\"])\n",
        "print(persona[\"poblacion\"])"
      ],
      "execution_count": null,
      "outputs": []
    },
    {
      "cell_type": "markdown",
      "metadata": {
        "id": "TojkiFBerKZg"
      },
      "source": [
        "Teniendo en cuenta esto, podríamos tener una clave asociada a cada persona:"
      ]
    },
    {
      "cell_type": "code",
      "metadata": {
        "id": "EbRYQESorQbk"
      },
      "source": [
        "persona = {\n",
        "    \"nombre\" : \"Paco\",\n",
        "    \"fecha\" : \"02/04/1980\",\n",
        "    \"poblacion\" : \"Valencia\"\n",
        "}\n",
        "\n",
        "persona2 = {\n",
        "    \"nombre\" : \"Ana\",\n",
        "    \"fecha\" : \"22/10/1985\",\n",
        "    \"poblacion\" : \"Gandia\"\n",
        "}\n",
        "\n",
        "dic = {123: persona, 456: persona2}\n",
        "print(dic)"
      ],
      "execution_count": null,
      "outputs": []
    },
    {
      "cell_type": "markdown",
      "metadata": {
        "id": "Wg1UcbFjWpaA"
      },
      "source": [
        "## 3.1 Ejercicios\n"
      ]
    },
    {
      "cell_type": "markdown",
      "metadata": {
        "id": "6YjjWD4UQhvk"
      },
      "source": [
        "Con lo que has visto, realiza los siguientes ejercicios sobre diccionarios:\n",
        "1. Escribe una función que reciba dos diccionarios con claves de tipo string y valores de tipo numérico, y que devuelva un nuevo diccionario que contenga los dos anteriores. Muestra el resultado por pantalla.\n",
        "\n",
        "2. Escribe una función que reciba un diccionario y una lista de palabras. La función debe devolver un nuevo diccionario con los items del diccionario cuyas claves correspondan a alguna de las palabras de la lista. Muestra el resultado por pantalla.\n",
        "\n",
        "3. Escribe una función que reciba un diccionario de valores numéricos y devuelva el valor mínimo de este diccionario. Muestra el resultado por pantalla.\n",
        "\n",
        "4. Escribe un programa que lea un texto por teclado. Posteriormente debe crear un diccionario donde las claves sean las palabras del texto y sus valores el número de apariciones de cada una de éstas en el texto. Muestra el resultado por pantalla.\n",
        "\n",
        "5. Escribe una función que reciba el siguiente diccionario y cuente la cantidad de items que tienen `True` el campo `success`:\n",
        "```python\n",
        "{\n",
        "    1 : {'id': 1,\n",
        "    'success': True,\n",
        "    'name': 'Lary'\n",
        "    },\n",
        "    2 : {'id': 2,\n",
        "    'success': False,\n",
        "    'name': 'Rabi'\n",
        "    },\n",
        "    3 : {'id': 3,\n",
        "    'success': True,\n",
        "    'name': 'Alex'\n",
        "    }\n",
        "}\n",
        "```\n",
        "\n",
        "\n",
        "\n"
      ]
    },
    {
      "cell_type": "markdown",
      "metadata": {
        "id": "iQ5G65QNIa62"
      },
      "source": [
        "# 4 Iteradores y generadores"
      ]
    },
    {
      "cell_type": "markdown",
      "metadata": {
        "id": "vPhZkxysMRCZ"
      },
      "source": [
        "Hasta ahora hemos visto que existen estructuras de datos que podemos recorrer con bucles, como strings, listas, diccionarios, etc. Estas estructuras son estructuras **iterables**."
      ]
    },
    {
      "cell_type": "code",
      "metadata": {
        "id": "iUf4mB8CNNmv"
      },
      "source": [
        "#recorremos un string\n",
        "palabra = \"hola\"\n",
        "for i in palabra:\n",
        "  print(i)\n",
        "\n",
        "#recorremos una lista\n",
        "lista = [2, 5, 8, 0, 11]\n",
        "for i in lista:\n",
        "  print(i)\n",
        "\n",
        "#recorremos un diccionario\n",
        "dic = {123: \"Juan\", 456: \"Maria\", 789: \"Pedro\"}\n",
        "for i in dic:\n",
        "  print(i)\n"
      ],
      "execution_count": null,
      "outputs": []
    },
    {
      "cell_type": "markdown",
      "metadata": {
        "id": "zSUddfL7OFQN"
      },
      "source": [
        "Teniendo una estructura iterable, podemos utilizar la función `iter` pasándole esta estructura, de manera que nos devuelve lo que se denomina un **iterador**. Este iterador lo podemos utilizar para recuperar el siguiente valor cada vez que sea necesario mediante la función `next`. De esta forma, no hace falta tener todos los datos a la vez, sino ir obteniéndolos cada vez que sean necesarios:"
      ]
    },
    {
      "cell_type": "code",
      "metadata": {
        "id": "ZweJTEHzOsaw"
      },
      "source": [
        "lista = [2, 5, 8, 0, 11]\n",
        "\n",
        "#obtenemos un iterator sobre la lista\n",
        "iterador = iter(lista)\n",
        "\n",
        "#utilizamos next cada vez que queremos el siguiente dato del iterador\n",
        "print(\"Ahora me hace falta un dato\")\n",
        "print(next(iterador))\n",
        "print(\"Ahora me hace falta otro\")\n",
        "print(next(iterador))\n",
        "print(\"Ahora otro\")\n",
        "print(next(iterador))"
      ],
      "execution_count": null,
      "outputs": []
    },
    {
      "cell_type": "markdown",
      "metadata": {
        "id": "8snbHnUtN4oG"
      },
      "source": [
        "Podemos utilizar iteradores sobre estructuras que ya tengamos (como una lista o un diccionario), pero en ocasiones la secuencia de datos viene dada por una función que genera estos datos. Este tipo de funciones, se denominan funciones generadoras.\n",
        "\n",
        "Una **función generadora** es una función que devuelve un **generador**. Este generador no es la secuencia de datos en si, sino que cada vez que se le pasa como parámetro a `next` devolverá un valor nuevo generado por la función.\n",
        "\n",
        "Para construir una función generadora, simplemente tenemos que utilizar **yield** en vez de **return**, pero el resto del código es similar. Lo mejor es verlo con un ejemplo. La siguiente función genera valores pares hasta el infinito, pero simplemente se obtiene un nuevo valor cada vez que se llama al generador:"
      ]
    },
    {
      "cell_type": "code",
      "metadata": {
        "id": "eEiJC8FxLXYn"
      },
      "source": [
        "#Función generadora de números pares\n",
        "def numeros():\n",
        "  i = 0\n",
        "  #bucle infinito\n",
        "  while True:\n",
        "    yield i\n",
        "    i+=2\n",
        "\n",
        "#La función generadora nos devuelve un generador\n",
        "generador = numeros()\n",
        "\n",
        "#utilizamos next cada vez que queremos generar un nuevo dato\n",
        "print(\"Ahora me hace falta un dato\")\n",
        "print(next(generador))\n",
        "print(\"Ahora me hace falta otro\")\n",
        "print(next(generador))\n",
        "print(\"Ahora otro\")\n",
        "print(next(generador))\n"
      ],
      "execution_count": null,
      "outputs": []
    },
    {
      "cell_type": "markdown",
      "metadata": {
        "id": "g-xh4EViVx6o"
      },
      "source": [
        "Cuando la función generadora se llama, devuelve el generador sin tan siquiera comenzar la ejecución de la función. Cuando llamamos a `next` la primera vez, la función se ejecuta hasta encontrar el `yield`, que devuelve el valor indicado y que congelará la ejecución de la función hasta la próxima vez que pidamos un nuevo valor.\n",
        "\n",
        "Ahora ejecuta el siguiente código, donde hemos puesto algunos comentarios para observar mejor la traza de ejecución:"
      ]
    },
    {
      "cell_type": "code",
      "metadata": {
        "id": "fCA9SsGyWcC6"
      },
      "source": [
        "#Función generadora de números pares\n",
        "def numeros():\n",
        "  print(\"NUMEROS: inicio de la función\")\n",
        "  i = 0\n",
        "  #bucle infinito\n",
        "  while True:\n",
        "    print(\"NUMEROS: antes del yield\")\n",
        "    yield i\n",
        "    print(\"NUMEROS: después del yield\")\n",
        "    i+=2\n",
        "\n",
        "#La función generadora nos devuelve un generador\n",
        "generador = numeros()\n",
        "print(\"Después de llamar a la función y obtener el generador\")\n",
        "\n",
        "#utilizamos next cada vez que queremos generar un nuevo dato\n",
        "print(\"Ahora me hace falta un dato\")\n",
        "print(next(generador))\n",
        "print(\"Ahora me hace falta otro\")\n",
        "print(next(generador))\n",
        "print(\"Ahora otro\")\n",
        "print(next(generador))"
      ],
      "execution_count": null,
      "outputs": []
    },
    {
      "cell_type": "markdown",
      "metadata": {
        "id": "UCBJ1OwInf-F"
      },
      "source": [
        "No es necesario que una función generadora tenga un bucle infinito. Puedes transformar a funciones generadoras la mayoría de funciones que devuelvan una secuencia:"
      ]
    },
    {
      "cell_type": "code",
      "metadata": {
        "id": "kwpecztTnxKy"
      },
      "source": [
        "#Función generadora de números pares\n",
        "def numeros():\n",
        "  for n in range(10):\n",
        "    if n % 2 == 0:\n",
        "      yield n\n",
        "\n",
        "#La función generadora nos devuelve un generador\n",
        "generador = numeros()\n",
        "\n",
        "print(next(generador))\n",
        "print(next(generador))\n",
        "print(next(generador))"
      ],
      "execution_count": null,
      "outputs": []
    },
    {
      "cell_type": "markdown",
      "metadata": {
        "id": "127l25t-oTpK"
      },
      "source": [
        "En este caso, puedes recorrer el generador de la misma forma que recorres cualquier tipo de estructura iterable (p.e. listas). Esto, lo que hace es ir pidiendo valores hasta que ya no queden:"
      ]
    },
    {
      "cell_type": "code",
      "metadata": {
        "id": "Bh_0tmGaoS46"
      },
      "source": [
        "#Función generadora de números pares\n",
        "def numeros():\n",
        "  for n in range(10):\n",
        "    if n % 2 == 0:\n",
        "      yield n\n",
        "\n",
        "#La función generadora nos devuelve un generador\n",
        "generador = numeros()\n",
        "\n",
        "#Recorremos el generador\n",
        "for i in generador:\n",
        "  print(i)"
      ],
      "execution_count": null,
      "outputs": []
    },
    {
      "cell_type": "markdown",
      "metadata": {
        "id": "jepBmDoCp6uK"
      },
      "source": [
        "## 4.1 Ejercicios"
      ]
    },
    {
      "cell_type": "markdown",
      "metadata": {
        "id": "yzubuQp7p9Ur"
      },
      "source": [
        "1. Escribe una función generadora de la secuencia de Fibonacci y comprueba su correcto funcionamiento. Los valores de esta secuencia se calculan siguiendo la siguiente fórmula:\n",
        "\n",
        "$$ F_0 = 0 $$\n",
        "$$ F_1 = 1 $$\n",
        "$$ F_n = F_{n-1} + F_{n-2} \\hspace{0.5cm} \\forall n > 1$$\n",
        "\n",
        "2. Implementa la siguiente función generadora:\n",
        "```python\n",
        "def suma_tiempos(inicio, fin, incremento)\n",
        "    \"\"\"Función que devuelve tuplas de tiempo (hh,mm,ss) desde una hora inicial hasta una hora final\n",
        "    Args: inicio (hh,mm,ss), fin (hh,mm,ss), incremento (segundos)\n",
        "    Returns: hora (hh,mm,ss)\n",
        "    \"\"\"\n",
        "```\n",
        "\n"
      ]
    },
    {
      "cell_type": "markdown",
      "metadata": {
        "id": "m-0z_p9qziX-"
      },
      "source": [
        "## 4.2 Tarea resumen"
      ]
    },
    {
      "cell_type": "markdown",
      "metadata": {
        "id": "5jIXuLT3zoVo"
      },
      "source": [
        "Escribe un programa llamado **tarea01.py** que permita gestionar clientes mediante un diccionario. Cada cliente estará definido según puedes ver en la siguiente imagen (**no cambies los nombres**):\n",
        "\n",
        "<figure style=\"text-align:center\">\n",
        "  <center>\n",
        "  <img width = \"25%\" src=\"https://s3imagenes.s3-us-west-2.amazonaws.com/cliente.PNG\"/>\n",
        "  <figcaption align=\"center\">Definición de cliente</figcaption>\n",
        "  </center>\n",
        "</figure>\n",
        "\n",
        "El programa mostrará un menú con las siguientes opciones y en función de la opción elegida por el usuario, se preguntarán unos datos, se llamará a una función diferente y se volverá a mostrar el menú:\n",
        "* Añadir cliente: se preguntarán los datos del cliente y se añadirán al diccionario.\n",
        "* Borrar cliente: se preguntará su NIF y se borrará el cliente.\n",
        "* Mostrar cliente: se preguntará su NIF y se mostrarán sus datos.\n",
        "* Listar clientes: se mostrarán los datos de todos los clientes.\n",
        "* Listar clientes VIP: se mostrará los datos de todos los clientes que sean VIP.\n",
        "* Terminar: terminará el programa.\n",
        "\n",
        "Cada una de las funciones correspondientes a estas opciones, tiene que tener un **perfil y nombre concretos**, tal y como puedes ver a continuación:\n",
        "\n",
        "\n",
        "```python\n",
        "add_client()\n",
        "    \"\"\"\n",
        "    Args: nif (string), name (string), address (string), phone (string), email (string), vip (bool)\n",
        "    \"\"\"\n",
        "delete_client()\n",
        "    \"\"\"\n",
        "    Args: nif (string)\n",
        "    \"\"\"\n",
        "get_client()\n",
        "    \"\"\"\n",
        "    Args: nif (string)\n",
        "    Returns: nif (string), name (string), address (string), phone (string), email (string), vip (bool)\n",
        "    \"\"\"\n",
        "get_clients()\n",
        "    \"\"\"\n",
        "    Returns: iterator\n",
        "    \"\"\"\n",
        "get_vip_clients()\n",
        "    \"\"\"\n",
        "    Returns: dictionary\n",
        "    \"\"\"\n",
        "```\n",
        "\n",
        "Algunas aclaraciones que debes tener en cuenta:\n",
        "\n",
        "*   Puedes utilizar las claves que quieras para definir los elementos.\n",
        "*   La función `add_client` no tendrá en cuenta si existe o no el cliente. Asumimos que siempre le pasaremos un NIF inexistente.\n",
        "*   La función `delete_client` no tendrá en cuenta si existe o no el cliente. Asumimos que siempre le pasaremos un NIF existente.\n",
        "*   La función `get_client` devolverá una tupla con los datos de un cliente concreto y no comprobará si existe o no. Asumimos que siempre le pasaremos un NIF existente.\n",
        "*   La función `get_clients` devolverá un iterator para poderlo recorrer desde fuera y mostrar los datos de cada cliente.\n",
        "*   La función `get_vip_clients` tendrá mayor nota si utiliza comprehension.\n",
        "\n"
      ]
    }
  ]
}