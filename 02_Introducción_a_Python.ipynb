{
  "cells": [
    {
      "cell_type": "markdown",
      "metadata": {
        "id": "1H66kHdNDFw6"
      },
      "source": [
        "**NOTA**: Si detectas algún error en este Colab, pon un mensaje en el foro para que lo podamos solucionar o envía un correo."
      ]
    },
    {
      "cell_type": "markdown",
      "metadata": {
        "id": "jYCQeTJbSec_"
      },
      "source": [
        "# 1 Escribiendo código Python\n"
      ]
    },
    {
      "cell_type": "markdown",
      "metadata": {
        "id": "lpLsl8QESlQW"
      },
      "source": [
        "La mayoría del código que editaremos en las prácticas de programación con Python será a través de un editor. Por tanto, una manera de organizar las distintas prácticas que realices, es creando ficheros .py dentro del mismo workspace, organizados en los directorios que quieras.\n",
        "\n",
        "Ten en cuenta también, que antes de empezar con estas prácticas, deberás **activar** el entorno virtual:"
      ]
    },
    {
      "cell_type": "code",
      "execution_count": null,
      "metadata": {
        "id": "ckG4y7OYSSSx"
      },
      "outputs": [],
      "source": [
        "rosenv"
      ]
    },
    {
      "cell_type": "markdown",
      "metadata": {
        "id": "hN7hNT2JT0hK"
      },
      "source": [
        "Después, abre el editor (p.e. VS Code), carga el workspace y crea los ficheros .py y/o directorios necesarios. Observa que tengas el entorno virutal cargado correctamente (es decir, que aparezca **rosenv** al inicio de la línea de comandos):\n",
        "\n",
        "<figure style=\"text-align:center\">\n",
        "  <center>\n",
        "  <img width = \"60%\" src=\"https://s3imagenes.s3.us-west-2.amazonaws.com/ejecucion.PNG\"/>\n",
        "  <figcaption align=\"center\">Entorno rosenv cargado</figcaption>\n",
        "  </center>\n",
        "</figure>"
      ]
    },
    {
      "cell_type": "markdown",
      "metadata": {
        "id": "hwY0wEWdYZ-W"
      },
      "source": [
        "## 1.2 Guía de estilo de Python"
      ]
    },
    {
      "cell_type": "markdown",
      "metadata": {
        "id": "GuWoK5bcYccW"
      },
      "source": [
        "Cuando aprendemos un lenguaje, es conveniente tener en cuenta algunas recomendaciones de estilo. Aunque el objetivo de las prácticas de programación en Python no es hacer un código con un estilo perfecto, sí que iremos remarcando algunos aspectos y recomendaciones.\n",
        "\n",
        "Si quieres escribir un código lo más correcto posible, es conveniente que le eches un ojo a la guía de estilo PEP 8: https://www.python.org/dev/peps/pep-0008/\n",
        "\n",
        "El principio básico sería que *la legilidad es importante*. Para ser honestos, cuando empiezas a aprender Python y ves código escrito por gente más avanzada, parece complicado de leer. No obstante, según adquieras experiencia en el lenguaje, la consistencia de estilo será más aparente y cada vez encontrarás más fácil leer el código de otras personas.\n",
        "\n",
        "A modo de curiosidad, prueba a abrir la consola de Python (escribiendo `python` en un terminal) y dentro de la consola escribe `import this`. Verás que te aparecen 19 aforismos llamados el Zen de Python que reflejan la filosofía de Python (aunque honestamente, se aplicarían a la mayoría de lenguajes).\n"
      ]
    },
    {
      "cell_type": "markdown",
      "metadata": {
        "id": "w4I1MATWVnYN"
      },
      "source": [
        "# 2 Sintaxis básica de Python"
      ]
    },
    {
      "cell_type": "markdown",
      "metadata": {
        "id": "xiCtdSHyc06d"
      },
      "source": [
        "## 2.1 Tipos básicos y variables"
      ]
    },
    {
      "cell_type": "markdown",
      "metadata": {
        "id": "yhxHUv1fVvd1"
      },
      "source": [
        "A diferencia de otros lenguajes de programación, las variables no tienen un tipo estático, sino que el tipo de una variable puede cambiar a lo largo de la ejecución del código. Por ejemplo, en un lenguaje dinámico, el siguiente bloque de código es perfectamente viable, mientras que en lenguajes estáticamente tipados como Java, esto sería imposible."
      ]
    },
    {
      "cell_type": "code",
      "execution_count": 1,
      "metadata": {
        "id": "oCbalDTvV0F3"
      },
      "outputs": [],
      "source": [
        "x = 5\n",
        "x = \"Hola\""
      ]
    },
    {
      "cell_type": "markdown",
      "metadata": {
        "id": "AlnoGIsEV3lW"
      },
      "source": [
        "En Python, en el momento en el que asignas una variable, si no existe, se crea. Por tanto, en el bloque de código anterior, hemos creado y asignado dos valores a la variable x. En este sentido una variable no necesita ser previamente definida con un tipo para ser utilizada. Ojo, porque esto no implica que una variable pueda ser empleada para una evaluación sin ser definida. Por ejemplo, mira como el siguiente bloque de código fallaría al no estar definida la variable y e intentar imprimir el valor de la variable por el terminal."
      ]
    },
    {
      "cell_type": "code",
      "execution_count": 3,
      "metadata": {
        "id": "uhx_igUBWLWW"
      },
      "outputs": [
        {
          "name": "stdout",
          "output_type": "stream",
          "text": [
            "Hola\n"
          ]
        }
      ],
      "source": [
        "print(x)"
      ]
    },
    {
      "cell_type": "markdown",
      "metadata": {
        "id": "omLWPYjMWOaX"
      },
      "source": [
        "Teniendo en cuenta esto, existen cuatro tipos básicos de valores: *int*, *float*, *string*, y *bool*:\n",
        "\n",
        "|    <br>Tipo   de valor    |    <br>Descripción         |    <br>Ejemplos   de uso                                  |\n",
        "|---------------------------|----------------------------------------------------------------------------------------------------------------------------------------------------------------------------------------------------------------------|-----------------------------------------------------------|\n",
        "|    <br>int                |    <br>Valor numérico de tipo entero                                                                                                                                                                                 |    <br>x = 23                                             |\n",
        "|    <br>float              |    <br>Valor numérico de tipo coma flotante o decimal                                                                                                                                                                |    <br>y = 11.34                                          |\n",
        "|    <br>string             |    <br>Sirve para representar valores de tipo texto (i.e., cadenas). <br><br>Para representar cadenas de texto se emplazan o bien entre <br><br>comillas simples o bien entre comillas dobles, pero no mezcladas.    |    <br>c = '¡Hola Mundo!'<br>   <br>c2 = \"¡Hola Mundo!\"    |\n",
        "|    <br>bool               |    <br>Únicamente puede tomar dos valores True (algo que es cierto) <br><br>y False (algo que es falso)                                                                                                              |    <br>a = True<br>   <br>b = False                       |"
      ]
    },
    {
      "cell_type": "code",
      "execution_count": 4,
      "metadata": {
        "id": "cg5O7xsieR-p"
      },
      "outputs": [
        {
          "name": "stdout",
          "output_type": "stream",
          "text": [
            "3\n",
            "345\n"
          ]
        }
      ],
      "source": [
        "#La variable x es de tipo int y la y de tipo float\n",
        "x = 10\n",
        "y = 3.5\n",
        "\n",
        "#También podemos hacer un casting para convertir un número o string a int (o a otros tipos)\n",
        "print(int(y))\n",
        "print(int(\"345\"))"
      ]
    },
    {
      "cell_type": "markdown",
      "metadata": {
        "id": "74NI0ZrSzngj"
      },
      "source": [
        "El tipo boolean tiene dos posibles valores: True y False (con mayúscula). Al igual que otros lenguajes, el valor 0 se castea como False y cualquier valor distinto de 0 como True:"
      ]
    },
    {
      "cell_type": "code",
      "execution_count": 5,
      "metadata": {
        "id": "t_RokvwAz7WT"
      },
      "outputs": [
        {
          "name": "stdout",
          "output_type": "stream",
          "text": [
            "True\n",
            "False\n",
            "True\n",
            "True\n"
          ]
        }
      ],
      "source": [
        "a = True\n",
        "\n",
        "print(a)\n",
        "print(bool(0))\n",
        "print(bool(1))\n",
        "print(bool(-5))"
      ]
    },
    {
      "cell_type": "markdown",
      "metadata": {
        "id": "gUHVMn1ibabH"
      },
      "source": [
        "La función `type()` nos devuelve el tipo de una variable pasada por parámetro:"
      ]
    },
    {
      "cell_type": "code",
      "execution_count": 6,
      "metadata": {
        "id": "r5lcbXxbbduG"
      },
      "outputs": [
        {
          "data": {
            "text/plain": [
              "int"
            ]
          },
          "execution_count": 6,
          "metadata": {},
          "output_type": "execute_result"
        }
      ],
      "source": [
        "x = 5\n",
        "type(x)"
      ]
    },
    {
      "cell_type": "markdown",
      "metadata": {
        "id": "82N2xBONYL2S"
      },
      "source": [
        "Aunque llegados a este punto ya te habrás dado cuenta, para poner un comentario en Python, utilizaremos el caracter ```# ```\n",
        "\n"
      ]
    },
    {
      "cell_type": "code",
      "execution_count": 7,
      "metadata": {
        "id": "VhwalmfQYHj7"
      },
      "outputs": [],
      "source": [
        "# Esto es un comentario"
      ]
    },
    {
      "cell_type": "markdown",
      "metadata": {
        "id": "AgJfmfLqYgew"
      },
      "source": [
        "También podemos hacer comentarios multilínea mediante comentarios llamados *docstring*. Estos comentarios van enmarcados entre triples comillas ``` \"\"\" ```:\n"
      ]
    },
    {
      "cell_type": "code",
      "execution_count": 8,
      "metadata": {
        "id": "BF87iKQjXEs9"
      },
      "outputs": [
        {
          "data": {
            "text/plain": [
              "' Esto sería un comentario\\nde varias líneas\\n'"
            ]
          },
          "execution_count": 8,
          "metadata": {},
          "output_type": "execute_result"
        }
      ],
      "source": [
        "\"\"\" Esto sería un comentario\n",
        "de varias líneas\n",
        "\"\"\""
      ]
    },
    {
      "cell_type": "markdown",
      "metadata": {
        "id": "_nmrz2K2XEs-"
      },
      "source": [
        "Si estamos utilizando Python 2 y ponemos acentos, es posible que nos salga un error diciendo que hay caracteres no ASCII. Esto ocurre porque se asume que sólo se utiliza ASCII. Si utilizamos Python 3 no habrá problema puesto que utiliza UTF8 para codificar los ficheros. Para solucionar este problema de Python 2, a parte de guardar el fichero con extensión .py y codificación UTF8, debemos poner la siguiente línea al inicio del script:"
      ]
    },
    {
      "cell_type": "code",
      "execution_count": 9,
      "metadata": {
        "id": "eZ7rhQjYXEs_"
      },
      "outputs": [],
      "source": [
        "# encoding: utf-8"
      ]
    },
    {
      "cell_type": "markdown",
      "metadata": {
        "id": "cIZ39a1-Xole"
      },
      "source": [
        "## 2.2 Operaciones aritméticas"
      ]
    },
    {
      "cell_type": "markdown",
      "metadata": {
        "id": "kjciVY3rXtL5"
      },
      "source": [
        "Al igual que en otros lenguajes de programación, en Python contamos con una serie de operaciones aritméticas que podemos realizar sobre valores numéricos:\n",
        "\n",
        "|    <br>Operador    |    <br>Descripción                                                            |    <br>Ejemplo                              |\n",
        "|--------------------|-------------------------------------------------------------------------------|---------------------------------------------|\n",
        "|    <br>+           |    <br>Suma dos valores                                                       |    <br>a = 1 + 23.4<br>   <br>b = a + 33    |\n",
        "|    <br>-           |    <br>Resta dos valores                                                      |    <br>a = 5 – 7<br>   <br>b = a – 11.2     |\n",
        "|    <br>*           |    <br>Multiplicación de dos valores                                          |    <br>a = 3 * 4<br>   <br>b = a * 1.2      |\n",
        "|    <br>/           |    <br>División decimal de dos valores. Siempre   retorna un valor decimal    |    <br>a = 4 / 2<br>   <br>b = a / 1.3      |\n",
        "|    <br>//          |    <br>División entera de dos valores. Siempre   retorna un valor entero      |    <br>a = 9 // 3<br>   <br>b = a // 2      |\n",
        "|    <br>%           |    <br>Retorna el resto de la división entre dos   valores                    |    <br>a = 3 % 2<br>   <br>                 |\n",
        "|    <br>`**`          |    <br>Realiza la potenciación de un valor a otro                             |    <br>a = 4`**`2<br>   <br>b = a\\*\\*2          |"
      ]
    },
    {
      "cell_type": "markdown",
      "metadata": {
        "id": "Z019J2wdZ1jm"
      },
      "source": [
        "La guía de estilo recomienda poner un espacio entre los operadores, prefiriendo `num = 10` y no `num=10`. También recomienda que los nombres de las variables sean en minúsculas, prefiriendo `unit_price` a `unitPrice`."
      ]
    },
    {
      "cell_type": "markdown",
      "metadata": {
        "id": "6AEyobL_bN9v"
      },
      "source": [
        "## 2.3 Entrada/salida"
      ]
    },
    {
      "cell_type": "markdown",
      "metadata": {
        "id": "kjrf88BUbR8m"
      },
      "source": [
        "Si queremos mostrar información por pantalla utilizaremos la función ```print()```. Esta función puede aceptar varios argumentos separados por comas."
      ]
    },
    {
      "cell_type": "code",
      "execution_count": 10,
      "metadata": {
        "id": "q4kVgOXDb7hF"
      },
      "outputs": [
        {
          "name": "stdout",
          "output_type": "stream",
          "text": [
            "Mensaje sin variable\n",
            "El valor es 5\n",
            "El valor es  5\n"
          ]
        }
      ],
      "source": [
        "print(\"Mensaje sin variable\")\n",
        "\n",
        "x = 5\n",
        "\n",
        "#Dos formas diferentes de hacer el print en Python 3\n",
        "print(\"El valor es \"+str(x)) #un int no puede imprimirse si no lo convertimos a string previamente\n",
        "print(\"El valor es \", x)"
      ]
    },
    {
      "cell_type": "markdown",
      "metadata": {
        "id": "0cBVZVSvHmrN"
      },
      "source": [
        "También tenemos una tercera forma para imprimir información por pantalla mediante marcas de interpolación. Las marcas pueden modificarse para controlar el aspecto de la información. El formato de una marca en términos generales está formado de dos partes ```{campo.formato}```:\n",
        "\n",
        "* **Campo**: número que identifica el número de argumento que se desea interpolar en la cadena.\n",
        "* **Formato**: Define el formato del argumento a interpolar mediante la siguiente forma donde cada elemento entre corchetes es opcional."
      ]
    },
    {
      "cell_type": "code",
      "execution_count": 11,
      "metadata": {
        "id": "E5hEgmPWHl3T"
      },
      "outputs": [
        {
          "name": "stdout",
          "output_type": "stream",
          "text": [
            "El valor es 5 y si queremos otro valor sería así 1.6666666666666667\n",
            "El valor es 1.6666666666666667 y si queremos otro valor sería así 5\n",
            "El valor es 5 y si queremos otro valor sería así 1.6666666666666667\n",
            "El valor es 5.000 y si queremos otro valor sería así 1.67\n"
          ]
        }
      ],
      "source": [
        "x = 5\n",
        "\n",
        "print(\"El valor es {0} y si queremos otro valor sería así {1}\".format(x, x/3)) #dentro de format ponemos los valores en orden que queremos imprimir\n",
        "print(\"El valor es {1} y si queremos otro valor sería así {0}\".format(x, x/3)) #podemos cambiar el orden\n",
        "print(\"El valor es {0} y si queremos otro valor sería así {a}\".format(x, a=x/3)) #... y utilizar variables\n",
        "print(\"El valor es {0:.3f} y si queremos otro valor sería así {a:.2f}\".format(x, a=x/3)) #... y si queremos formatear los decimales de la salida\n",
        "\n",
        "#Si queremos en Python 2\n",
        "#print \"Esto sería sin paréntesis\""
      ]
    },
    {
      "cell_type": "markdown",
      "metadata": {
        "id": "lOv0BZjCcmwH"
      },
      "source": [
        "Si queremos introducir datos por teclado, podemos utilizar la función `input()`. Esta función nos permite mostrar un texto al usuario y almacenar el valor introducido en una variable en formato string. Si queremos que se almacene en otros tipos de datos, debemos hacer un casting sobre ello, mediante funciones como ```float()``` o ```int()```:"
      ]
    },
    {
      "cell_type": "code",
      "execution_count": null,
      "metadata": {
        "id": "s9ET6YlUcr3e"
      },
      "outputs": [],
      "source": [
        "a = int(input(\"Introduce el radio:\")) #a es de tipo int\n",
        "\n",
        "b = float(input(\"Introduce el radio:\")) #b es de tipo float\n",
        "\n",
        "a = b #a cambia a float\n",
        "\n",
        "a = \"Ahora pasa a ser una cadena\" #a cambia a cadena\n",
        "\n",
        "#Mira este ejemplo donde combinamos entrada con varias maneras de mostrar la salida\n",
        "num1 = float(input(\"Introduce el primer número: \"))\n",
        "num2 = float(input(\"Introduce el segundo número: \"))\n",
        "\n",
        "sum = num1 + num2\n",
        "\n",
        "print(\"El resultado de sumar \",num1,\" y \",num2,\" es \",sum)\n",
        "print(\"El resultado de sumar {0} y {1} es {2}\".format(num1, num2, sum))\n",
        "print(\"El resultado de sumar \"+str(num1)+\" y \"+str(num2))"
      ]
    },
    {
      "cell_type": "markdown",
      "metadata": {
        "id": "Nlh3pUmhc9CN"
      },
      "source": [
        "## 2.4 Módulos"
      ]
    },
    {
      "cell_type": "markdown",
      "metadata": {
        "id": "XZBlUYK24LZ5"
      },
      "source": [
        "Python está estructurado en módulos que son archivos que contienen definiciones de funciones y declaraciones ejecutables de Python. Esto nos permite utilizar funciones y clases definidas por los módulos importados.\n",
        "\n",
        "Para importar un módulo debemos utilizar la palabra ```import``` seguida del nombre del módulo. Por ejemplo, el módulo ```math``` nos ofrece varias funciones matemáticas, como por ejemplo, la raíz cuadrada.\n",
        "\n",
        "Para acceder a las funciones del módulo escribiremos el nombre del módulo seguido de un punto y la función que queremos utilizar: ```modulo.funcion```. Fíjate en el siguiente ejemplo para ver cómo podemos importar el módulo y utilizar la función ```sqrt```:"
      ]
    },
    {
      "cell_type": "code",
      "execution_count": 14,
      "metadata": {
        "id": "RppqBPNTvxsm"
      },
      "outputs": [
        {
          "name": "stdout",
          "output_type": "stream",
          "text": [
            "La raíz cuadrada de 10 es 3.1622776601683795\n"
          ]
        }
      ],
      "source": [
        "import math\n",
        "\n",
        "x = 10\n",
        "print(\"La raíz cuadrada de\", x, \"es\", math.sqrt(x))"
      ]
    },
    {
      "cell_type": "markdown",
      "metadata": {
        "id": "-EGiBTxWwTTc"
      },
      "source": [
        "Math es el módulo matemático con funciones como sin, cos, tan, exp, ceil, floor, log, etc.: https://docs.python.org/3/library/math.html\n",
        "\n",
        "En ocasiones es conveniente acceder a la propia documentación de un módulo para examinar qué funciones ofrece. Una forma de realizar esto es mediante la función ```help()```:"
      ]
    },
    {
      "cell_type": "code",
      "execution_count": 15,
      "metadata": {
        "id": "QCy3gfQhwfFV"
      },
      "outputs": [
        {
          "name": "stdout",
          "output_type": "stream",
          "text": [
            "Help on built-in module math:\n",
            "\n",
            "NAME\n",
            "    math\n",
            "\n",
            "DESCRIPTION\n",
            "    This module provides access to the mathematical functions\n",
            "    defined by the C standard.\n",
            "\n",
            "FUNCTIONS\n",
            "    acos(x, /)\n",
            "        Return the arc cosine (measured in radians) of x.\n",
            "    \n",
            "    acosh(x, /)\n",
            "        Return the inverse hyperbolic cosine of x.\n",
            "    \n",
            "    asin(x, /)\n",
            "        Return the arc sine (measured in radians) of x.\n",
            "    \n",
            "    asinh(x, /)\n",
            "        Return the inverse hyperbolic sine of x.\n",
            "    \n",
            "    atan(x, /)\n",
            "        Return the arc tangent (measured in radians) of x.\n",
            "    \n",
            "    atan2(y, x, /)\n",
            "        Return the arc tangent (measured in radians) of y/x.\n",
            "        \n",
            "        Unlike atan(y/x), the signs of both x and y are considered.\n",
            "    \n",
            "    atanh(x, /)\n",
            "        Return the inverse hyperbolic tangent of x.\n",
            "    \n",
            "    ceil(x, /)\n",
            "        Return the ceiling of x as an Integral.\n",
            "        \n",
            "        This is the smallest integer >= x.\n",
            "    \n",
            "    comb(n, k, /)\n",
            "        Number of ways to choose k items from n items without repetition and without order.\n",
            "        \n",
            "        Evaluates to n! / (k! * (n - k)!) when k <= n and evaluates\n",
            "        to zero when k > n.\n",
            "        \n",
            "        Also called the binomial coefficient because it is equivalent\n",
            "        to the coefficient of k-th term in polynomial expansion of the\n",
            "        expression (1 + x)**n.\n",
            "        \n",
            "        Raises TypeError if either of the arguments are not integers.\n",
            "        Raises ValueError if either of the arguments are negative.\n",
            "    \n",
            "    copysign(x, y, /)\n",
            "        Return a float with the magnitude (absolute value) of x but the sign of y.\n",
            "        \n",
            "        On platforms that support signed zeros, copysign(1.0, -0.0)\n",
            "        returns -1.0.\n",
            "    \n",
            "    cos(x, /)\n",
            "        Return the cosine of x (measured in radians).\n",
            "    \n",
            "    cosh(x, /)\n",
            "        Return the hyperbolic cosine of x.\n",
            "    \n",
            "    degrees(x, /)\n",
            "        Convert angle x from radians to degrees.\n",
            "    \n",
            "    dist(p, q, /)\n",
            "        Return the Euclidean distance between two points p and q.\n",
            "        \n",
            "        The points should be specified as sequences (or iterables) of\n",
            "        coordinates.  Both inputs must have the same dimension.\n",
            "        \n",
            "        Roughly equivalent to:\n",
            "            sqrt(sum((px - qx) ** 2.0 for px, qx in zip(p, q)))\n",
            "    \n",
            "    erf(x, /)\n",
            "        Error function at x.\n",
            "    \n",
            "    erfc(x, /)\n",
            "        Complementary error function at x.\n",
            "    \n",
            "    exp(x, /)\n",
            "        Return e raised to the power of x.\n",
            "    \n",
            "    expm1(x, /)\n",
            "        Return exp(x)-1.\n",
            "        \n",
            "        This function avoids the loss of precision involved in the direct evaluation of exp(x)-1 for small x.\n",
            "    \n",
            "    fabs(x, /)\n",
            "        Return the absolute value of the float x.\n",
            "    \n",
            "    factorial(x, /)\n",
            "        Find x!.\n",
            "        \n",
            "        Raise a ValueError if x is negative or non-integral.\n",
            "    \n",
            "    floor(x, /)\n",
            "        Return the floor of x as an Integral.\n",
            "        \n",
            "        This is the largest integer <= x.\n",
            "    \n",
            "    fmod(x, y, /)\n",
            "        Return fmod(x, y), according to platform C.\n",
            "        \n",
            "        x % y may differ.\n",
            "    \n",
            "    frexp(x, /)\n",
            "        Return the mantissa and exponent of x, as pair (m, e).\n",
            "        \n",
            "        m is a float and e is an int, such that x = m * 2.**e.\n",
            "        If x is 0, m and e are both 0.  Else 0.5 <= abs(m) < 1.0.\n",
            "    \n",
            "    fsum(seq, /)\n",
            "        Return an accurate floating point sum of values in the iterable seq.\n",
            "        \n",
            "        Assumes IEEE-754 floating point arithmetic.\n",
            "    \n",
            "    gamma(x, /)\n",
            "        Gamma function at x.\n",
            "    \n",
            "    gcd(x, y, /)\n",
            "        greatest common divisor of x and y\n",
            "    \n",
            "    hypot(...)\n",
            "        hypot(*coordinates) -> value\n",
            "        \n",
            "        Multidimensional Euclidean distance from the origin to a point.\n",
            "        \n",
            "        Roughly equivalent to:\n",
            "            sqrt(sum(x**2 for x in coordinates))\n",
            "        \n",
            "        For a two dimensional point (x, y), gives the hypotenuse\n",
            "        using the Pythagorean theorem:  sqrt(x*x + y*y).\n",
            "        \n",
            "        For example, the hypotenuse of a 3/4/5 right triangle is:\n",
            "        \n",
            "            >>> hypot(3.0, 4.0)\n",
            "            5.0\n",
            "    \n",
            "    isclose(a, b, *, rel_tol=1e-09, abs_tol=0.0)\n",
            "        Determine whether two floating point numbers are close in value.\n",
            "        \n",
            "          rel_tol\n",
            "            maximum difference for being considered \"close\", relative to the\n",
            "            magnitude of the input values\n",
            "          abs_tol\n",
            "            maximum difference for being considered \"close\", regardless of the\n",
            "            magnitude of the input values\n",
            "        \n",
            "        Return True if a is close in value to b, and False otherwise.\n",
            "        \n",
            "        For the values to be considered close, the difference between them\n",
            "        must be smaller than at least one of the tolerances.\n",
            "        \n",
            "        -inf, inf and NaN behave similarly to the IEEE 754 Standard.  That\n",
            "        is, NaN is not close to anything, even itself.  inf and -inf are\n",
            "        only close to themselves.\n",
            "    \n",
            "    isfinite(x, /)\n",
            "        Return True if x is neither an infinity nor a NaN, and False otherwise.\n",
            "    \n",
            "    isinf(x, /)\n",
            "        Return True if x is a positive or negative infinity, and False otherwise.\n",
            "    \n",
            "    isnan(x, /)\n",
            "        Return True if x is a NaN (not a number), and False otherwise.\n",
            "    \n",
            "    isqrt(n, /)\n",
            "        Return the integer part of the square root of the input.\n",
            "    \n",
            "    ldexp(x, i, /)\n",
            "        Return x * (2**i).\n",
            "        \n",
            "        This is essentially the inverse of frexp().\n",
            "    \n",
            "    lgamma(x, /)\n",
            "        Natural logarithm of absolute value of Gamma function at x.\n",
            "    \n",
            "    log(...)\n",
            "        log(x, [base=math.e])\n",
            "        Return the logarithm of x to the given base.\n",
            "        \n",
            "        If the base not specified, returns the natural logarithm (base e) of x.\n",
            "    \n",
            "    log10(x, /)\n",
            "        Return the base 10 logarithm of x.\n",
            "    \n",
            "    log1p(x, /)\n",
            "        Return the natural logarithm of 1+x (base e).\n",
            "        \n",
            "        The result is computed in a way which is accurate for x near zero.\n",
            "    \n",
            "    log2(x, /)\n",
            "        Return the base 2 logarithm of x.\n",
            "    \n",
            "    modf(x, /)\n",
            "        Return the fractional and integer parts of x.\n",
            "        \n",
            "        Both results carry the sign of x and are floats.\n",
            "    \n",
            "    perm(n, k=None, /)\n",
            "        Number of ways to choose k items from n items without repetition and with order.\n",
            "        \n",
            "        Evaluates to n! / (n - k)! when k <= n and evaluates\n",
            "        to zero when k > n.\n",
            "        \n",
            "        If k is not specified or is None, then k defaults to n\n",
            "        and the function returns n!.\n",
            "        \n",
            "        Raises TypeError if either of the arguments are not integers.\n",
            "        Raises ValueError if either of the arguments are negative.\n",
            "    \n",
            "    pow(x, y, /)\n",
            "        Return x**y (x to the power of y).\n",
            "    \n",
            "    prod(iterable, /, *, start=1)\n",
            "        Calculate the product of all the elements in the input iterable.\n",
            "        \n",
            "        The default start value for the product is 1.\n",
            "        \n",
            "        When the iterable is empty, return the start value.  This function is\n",
            "        intended specifically for use with numeric values and may reject\n",
            "        non-numeric types.\n",
            "    \n",
            "    radians(x, /)\n",
            "        Convert angle x from degrees to radians.\n",
            "    \n",
            "    remainder(x, y, /)\n",
            "        Difference between x and the closest integer multiple of y.\n",
            "        \n",
            "        Return x - n*y where n*y is the closest integer multiple of y.\n",
            "        In the case where x is exactly halfway between two multiples of\n",
            "        y, the nearest even value of n is used. The result is always exact.\n",
            "    \n",
            "    sin(x, /)\n",
            "        Return the sine of x (measured in radians).\n",
            "    \n",
            "    sinh(x, /)\n",
            "        Return the hyperbolic sine of x.\n",
            "    \n",
            "    sqrt(x, /)\n",
            "        Return the square root of x.\n",
            "    \n",
            "    tan(x, /)\n",
            "        Return the tangent of x (measured in radians).\n",
            "    \n",
            "    tanh(x, /)\n",
            "        Return the hyperbolic tangent of x.\n",
            "    \n",
            "    trunc(x, /)\n",
            "        Truncates the Real x to the nearest Integral toward 0.\n",
            "        \n",
            "        Uses the __trunc__ magic method.\n",
            "\n",
            "DATA\n",
            "    e = 2.718281828459045\n",
            "    inf = inf\n",
            "    nan = nan\n",
            "    pi = 3.141592653589793\n",
            "    tau = 6.283185307179586\n",
            "\n",
            "FILE\n",
            "    (built-in)\n",
            "\n",
            "\n"
          ]
        }
      ],
      "source": [
        "help(math)"
      ]
    },
    {
      "cell_type": "markdown",
      "metadata": {
        "id": "rE7MqOQ6wrRy"
      },
      "source": [
        "También podemos utilizar el ```help``` para una función concreta:"
      ]
    },
    {
      "cell_type": "code",
      "execution_count": 16,
      "metadata": {
        "id": "l9_P1FLmwu_L"
      },
      "outputs": [
        {
          "name": "stdout",
          "output_type": "stream",
          "text": [
            "Help on built-in function factorial in module math:\n",
            "\n",
            "factorial(x, /)\n",
            "    Find x!.\n",
            "    \n",
            "    Raise a ValueError if x is negative or non-integral.\n",
            "\n"
          ]
        }
      ],
      "source": [
        "help(math.factorial)"
      ]
    },
    {
      "cell_type": "markdown",
      "metadata": {
        "id": "A5DRtySjxA4y"
      },
      "source": [
        "Existe otra forma de importar una función y así evitar tener que escribir el nombre del módulo cada vez:"
      ]
    },
    {
      "cell_type": "code",
      "execution_count": 17,
      "metadata": {
        "id": "galH-e4txITj"
      },
      "outputs": [
        {
          "name": "stdout",
          "output_type": "stream",
          "text": [
            "3628800\n"
          ]
        }
      ],
      "source": [
        "from math import factorial\n",
        "\n",
        "print(factorial(10))"
      ]
    },
    {
      "cell_type": "markdown",
      "metadata": {
        "id": "O4IryaZJxP5S"
      },
      "source": [
        "También hay una tercera forma que nos permite renombrar el módulo. Algo que puede ser beneficioso en ciertas ocasiones por cuestiones de legibilidad:"
      ]
    },
    {
      "cell_type": "code",
      "execution_count": 18,
      "metadata": {
        "id": "eT5Dcy_5xad0"
      },
      "outputs": [
        {
          "name": "stdout",
          "output_type": "stream",
          "text": [
            "3628800\n"
          ]
        }
      ],
      "source": [
        "from math import factorial as fac\n",
        "\n",
        "print(fac(10))"
      ]
    },
    {
      "cell_type": "markdown",
      "metadata": {
        "id": "0qIBXSSlvhuG"
      },
      "source": [
        "Se puede importar más de una función (o todas con el símbolo \"*\") en la misma sentencia, aunque no seguiría la guía de estilo:"
      ]
    },
    {
      "cell_type": "code",
      "execution_count": 19,
      "metadata": {
        "id": "Nqvf_nJs4pQJ"
      },
      "outputs": [],
      "source": [
        "from math import sin\n",
        "from math import sin, cos #lo recomendable, según la guía de estilo, sería en dos líneas separadas\n",
        "from math import *"
      ]
    },
    {
      "cell_type": "markdown",
      "metadata": {
        "id": "8ucponi343Lh"
      },
      "source": [
        "\n",
        "Otros módulos que te serán de utilidad son **sys**, que es el módulo del sistema para acceder al sistema operativo y constantes, y también **robot_control_class** que es el módulo de ROS. Puedes acceder a la documentación de la lista completa de módulos para Python 3.8 en https://docs.python.org/3.8/py-modindex.html\n"
      ]
    },
    {
      "cell_type": "markdown",
      "metadata": {
        "id": "V1U5z27JezGL"
      },
      "source": [
        "## 2.5 Ejercicios"
      ]
    },
    {
      "cell_type": "markdown",
      "metadata": {
        "id": "HvGfHd18e2s_"
      },
      "source": [
        "Ahora, para calentar motores, puedes intentar hacer algunos de los siguientes ejercicios:\n",
        "1.   Realiza un programa que calcule la suma de los números 43582134 y 1234567, almacene el resultado en una variable, e imprima el resultado por pantalla.\n",
        "2.   Hoy en día, la tasa de cambio entre el euro y el dolar es de 0.85 euros por cada dólar. Atendiendo a esta información, construye un programa que lea una cantidad de dólares por teclado e informe al cliente de la cantidad de euros que obtendría al cambiar.\n",
        "3.   Se cree comúnmente que 1 año humano equivale a 7 años en un perro. Construye un programa que le pregunte al usuario en qué año nació y le informe de su edad perruna. Asume que el año actual es 2021."
      ]
    },
    {
      "cell_type": "markdown",
      "metadata": {
        "id": "rzbvpfj2fmqm"
      },
      "source": [
        "# 3 Estructuras de control y de repetición"
      ]
    },
    {
      "cell_type": "markdown",
      "metadata": {
        "id": "lIBqJqnefroX"
      },
      "source": [
        "## 3.1 If y Else"
      ]
    },
    {
      "cell_type": "markdown",
      "metadata": {
        "id": "K5OvkpCC-ZFi"
      },
      "source": [
        "Al igual que en otros lenguajes, en Python podemos expresar expresiones condicionales mediante estructuras ```if-else```. Python es un lenguaje que **no utiliza llaves** para separar bloques de código (i.e., *{}*) sino que se utilizan dos puntos (i.e., *:*)\n",
        "\n",
        "Además de esto, mientras que en otros lenguajes de programación no es obligatorio que un bloque de código dentro de una estructura condicional, bucle, función o clase esté tabulado, **SÍ ES OBLIGATORIO** en Python. Si no, el programa no funcionará correctamente o simplemente lanzará error de interpretación. Para tabular el código en Python puedes utilizar o bien una tecla de tabulación o 4 espacios. Esto, a parte de quitar símbolos innecesarios, también favorece que el código sea más legible.\n",
        "\n",
        "A nivel de guía de estilo, es preferible utilizar 4 espacios en vez de un tabulador, pero puedes utilizar lo que quieras. Eso sí, **NO DEBES MEZCLAR LOS DOS**. De esta forma, Python te obliga a tabular el código y aplicar buenas prácticas de programación.\n",
        "\n",
        "En resumen, es necesario que las instrucciones de un bloque ```if``` y de un bloque ```else``` estén correctamente identadas.\n",
        "\n",
        "A nivel de guía de estilo, también comentar que es recomendable que las instrucciones de cada bloque estén siempre en una línea diferente al propio ```if-else``` para facilitar la lectura.\n",
        "\n",
        "A continuación tienes un ejemplo:"
      ]
    },
    {
      "cell_type": "code",
      "execution_count": 20,
      "metadata": {
        "id": "kk-S6DV7_WzL"
      },
      "outputs": [
        {
          "name": "stdout",
          "output_type": "stream",
          "text": [
            "El número es mayor o igual a 5\n",
            "Esta línea se ejecuta siempre\n"
          ]
        }
      ],
      "source": [
        "num = 7\n",
        "\n",
        "if num >= 5:\n",
        "  print(\"El número es mayor o igual a 5\")\n",
        "else:\n",
        "  print(\"El número es menor que 5\")\n",
        "\n",
        "print(\"Esta línea se ejecuta siempre\")"
      ]
    },
    {
      "cell_type": "markdown",
      "metadata": {
        "id": "RPAOoFSj_x1g"
      },
      "source": [
        "Cuando queremos utilizar ```if-else``` anidados podemos emplear la instrucción ```elif``` que sirve como contracción. A continuación puedes ver dos ejemplos equivalentes. Presta atención a cómo se colocan las identaciones con ```elif```:"
      ]
    },
    {
      "cell_type": "code",
      "execution_count": 21,
      "metadata": {
        "id": "a9WZHh13AulL"
      },
      "outputs": [
        {
          "name": "stdout",
          "output_type": "stream",
          "text": [
            "El color es azul\n",
            "Esta línea se ejecuta siempre\n"
          ]
        }
      ],
      "source": [
        "color = \"azul\"\n",
        "\n",
        "if color == \"rojo\":\n",
        "  print(\"El color es rojo\")\n",
        "else:\n",
        "  if color == \"azul\":\n",
        "    print(\"El color es azul\")\n",
        "  else:\n",
        "    print(\"El color no es ni rojo ni azul\")\n",
        "\n",
        "print(\"Esta línea se ejecuta siempre\")"
      ]
    },
    {
      "cell_type": "code",
      "execution_count": 22,
      "metadata": {
        "id": "n-o5QOK0AAKl"
      },
      "outputs": [
        {
          "name": "stdout",
          "output_type": "stream",
          "text": [
            "El color es rojo\n",
            "Esta línea se ejecuta siempre\n"
          ]
        }
      ],
      "source": [
        "color = \"rojo\"\n",
        "\n",
        "if color == \"rojo\":\n",
        "  print(\"El color es rojo\")\n",
        "elif color == \"azul\":\n",
        "  print(\"El color es azul\")\n",
        "else:\n",
        "  print(\"El color no es ni rojo ni azul\")\n",
        "\n",
        "print(\"Esta línea se ejecuta siempre\")"
      ]
    },
    {
      "cell_type": "markdown",
      "metadata": {
        "id": "mpn2UgbthXsB"
      },
      "source": [
        "## 3.2 Operaciones lógicas"
      ]
    },
    {
      "cell_type": "markdown",
      "metadata": {
        "id": "hTyFFStHd-c8"
      },
      "source": [
        "Los comparadores y operadores lógicos nos sirven para construir expresiones booleanas. Es decir, expresiones que se evaluarán a cierto o falso. Éstas son comunmente empleadas en las estructuras condicionales, así como condiciones de parada/continuar en los bucles. Al igual que otros lenguajes de programación, Python cuenta con los comparadores y operadores lógicos más comunmente empleados:\n",
        "\n",
        "|    <br>Comparador    |    <br>Descripción                                                                                   |    <br>Ejemplos                                       |\n",
        "|--------------------|------------------------------------------------------------------------------------------------------|-------------------------------------------------------|\n",
        "|    <br><           |    <br>Devuelve True si el   primer valor es<br>menor que el segundo valor proporcionado             |    <br>3 < 2<br>   <br>1 < 2<br>a < b                 |\n",
        "|    <br><=          |    <br>Devuelve True si el   primer valor es menor<br>o igual que el segundo valor proporcionado     |    <br>3 <= 2<br>2 <= 2<br>   <br>1 <= 2<br>a <= b    |\n",
        "|    <br>>           |    <br>Devuelve True si el   primer valor es mayor <br>que el segundo valor proporcionado            |    <br>3 > 2<br>1 > 2<br>a > b                        |\n",
        "|    <br>>=          |    <br>Devuelve True si el   primer valor es mayor <br>o igual que el segundo valor proporcionado    |    <br>3 >= 2<br>3 >= 3<br>1 >= 2<br>   <br>a >= b    |\n",
        "|    <br>==          |    <br>Devuelve True si los   dos valores son iguales                                                |    <br>3 == 3<br>4 == 5.2<br>a == b                   |\n",
        "|    <br>!=          |    <br>Devuelve True si los   dos valores son distintos                                              |    <br>3 != 3<br>4 != 5.2<br>a != b                   |\n",
        "\n",
        "|    <br>Operador    |    <br>Descripción                                                                                         |    <br>Ejemplos                                                             |\n",
        "|--------------------|------------------------------------------------------------------------------------------------------------|-----------------------------------------------------------------------------|\n",
        "|    <br>and         |    <br>Devuelve True si ambas   expresiones se evalúan <br>a True y False en caso contrario.               |    <br>3 < 2 and 3 > 5   <br>3 < 2 and (3 % 2 ==   1)<br>2 < 3 and 5 > 3    |\n",
        "|    <br>or          |    <br>Devuelve True si alguna   de las dos expresiones <br>se evalúa a True y False en caso contrario.    |    <br>3 <= 2<br>2 <= 2<br>   <br>1 <= 2<br>a <= b                          |\n",
        "|    <br>not         |    <br>Devuelve True si la   expresión era falsa, <br>y False en caso contrario.                           |    <br>not 3 > 2<br>not 1 > 2<br>not a > b                                  |\n",
        "\n",
        "A continuación, tienes algunos ejemplos:"
      ]
    },
    {
      "cell_type": "code",
      "execution_count": 23,
      "metadata": {
        "id": "nezsLCFj5e7Z"
      },
      "outputs": [
        {
          "name": "stdout",
          "output_type": "stream",
          "text": [
            "False\n",
            "True\n",
            "False\n",
            "True\n",
            "False\n",
            "True\n"
          ]
        }
      ],
      "source": [
        "a = True\n",
        "b = False\n",
        "x = 7\n",
        "y = 0\n",
        "print(a < b)\n",
        "print(x >= y)\n",
        "print(not a)\n",
        "print(not y)\n",
        "print(a and b)\n",
        "print(a or b)"
      ]
    },
    {
      "cell_type": "markdown",
      "metadata": {
        "id": "KsfD1wKKgZRk"
      },
      "source": [
        "Si te ayuda, puedes utilizar paréntesis. A continuación tienes un ejemplo de cómo lo puedes utilizar. Sin ejecutar, ¿qué saldría por pantalla?"
      ]
    },
    {
      "cell_type": "code",
      "execution_count": 24,
      "metadata": {
        "id": "9uJT77Z_gCAa"
      },
      "outputs": [
        {
          "name": "stdout",
          "output_type": "stream",
          "text": [
            "entro por else\n"
          ]
        }
      ],
      "source": [
        "x = 6\n",
        "y = 2\n",
        "\n",
        "if x % 2 == 0 and (not ( x > 5 )):\n",
        "  print(\"entro por if\")\n",
        "else:\n",
        "  print(\"entro por else\")"
      ]
    },
    {
      "cell_type": "markdown",
      "metadata": {
        "id": "t3swYiJMg92_"
      },
      "source": [
        "## 3.3 Ejercicios"
      ]
    },
    {
      "cell_type": "markdown",
      "metadata": {
        "id": "G-sYkfAmhBQn"
      },
      "source": [
        "Con lo que has aprendido hasta ahora sobre Python, puedes intentar hacer algunos de estos ejercicios:\n",
        "1.   Implementa un programa que lea la hora en formato 24 horas y lo convierta a formato 12 horas. Como ejemplos de ejecución:\n",
        "```\n",
        "Introduce la hora: 8\n",
        "Introduce los minutos: 57\n",
        "Son las 08:57 AM\n",
        "Introduce la hora: 21\n",
        "Introduce los minutos: 31\n",
        "Son las 09:31 PM\n",
        "Introduce la hora: 26:\n",
        "Hora inválida. Deben ser entre 0 y 23.\n",
        "```\n",
        "2.   Se nos ha solicitado programar el calculador de la tarifa a pagar por los usuarios de una compañía de telefonía móvil. Todos los usuarios pagan una tarifa base de 10 euros al mes siempre que no hablen más de 180 minutos al mes. A partir de los 180 minutos, los usuarios pagan 10 céntimos por cada minuto hablado desde los 180 hasta los 240 minutos. A partir de ese momento, los usuarios pagan 20 céntimos por cada minuto por cada minuto extra consumido a partir de los 240. El calculador debe pedir al usuario los minutos hablados y devolver los euros a pagar.\n",
        "\n",
        "3. Otra persona y tú queréis reservar mesa en un restaurante. Queremos un programa que nos pregunte el estilo de vestir nuestro y el de nuestro compañero, que serán valores entre 0 y 10. Si uno de los dos tenemos un estilo de 8 o superior, entonces sí que tendremos mesa para cenar y deberá mostrar un mensaje por pantalla. Esto es así siempre y cuando uno de los dos no tenga un 2, en cuyo caso no tendremos mesa. En cualquier otro caso, el mensaje que debe mostrar es que no sabemos si tendremos mesa.\n",
        "\n",
        "4. Realiza un programa que pregunte por un día de la semana y si estamos o no de vacaciones. El programa deberá mostrar un mensaje indicando a qué hora nos suena la alarma. Entre semana, la alarma sonará a las 8:00 y los fines de semana a las 10:00. Sin embargo, si estamos de vacaciones, los días entre semana sonará a las 10:00 y los fines de semana estará apagada.\n",
        "\n",
        "\n",
        "5. Realiza un programa que pregunte tres valores enteros y muestre un mensaje por pantalla indicando si los dos primeros tienen una diferencia máxima de 1 mientras que el tercero tiene una diferencia mayor que 2 con los otros dos. Utiliza la función abs(sum) para calcular el valor absoluto de un número.\n",
        "\n"
      ]
    },
    {
      "cell_type": "markdown",
      "metadata": {
        "id": "Ilocq3D-k8nQ"
      },
      "source": [
        "## 3.4 While y For"
      ]
    },
    {
      "cell_type": "markdown",
      "metadata": {
        "id": "dtr_DV_wk_9u"
      },
      "source": [
        "En Python tenemos dos tipos de estructuras de repeticion: bucles ```for``` y bucles ```while```. Podemos utilizar un ```while``` para aquellos casos donde queremos que se repita el bucle mientras se cumpla una determinada condición. La sintaxis es la siguiente:"
      ]
    },
    {
      "cell_type": "code",
      "execution_count": null,
      "metadata": {
        "id": "eA8QIMs-lIHv"
      },
      "outputs": [],
      "source": [
        "i = 0\n",
        "\n",
        "while i < 5:\n",
        "  print(i)\n",
        "  i+=1"
      ]
    },
    {
      "cell_type": "markdown",
      "metadata": {
        "id": "ATD_U1vjlJ9f"
      },
      "source": [
        "El bucle ```for``` lo utilizamos para repetir un bloque de instrucciones cuando sabemos la cantidad de veces que se deben repetir. La instrucción ```range(x)``` se repite desde un valor inicial de 0 hasta x - 1."
      ]
    },
    {
      "cell_type": "code",
      "execution_count": null,
      "metadata": {
        "id": "WIG195OmlNm_"
      },
      "outputs": [],
      "source": [
        "for i in range(10):\n",
        "  print(i)\n",
        "\n",
        "print(\"Fin\")"
      ]
    },
    {
      "cell_type": "markdown",
      "metadata": {
        "id": "iQyvEkHzFL04"
      },
      "source": [
        "También podemos especificar el rango exacto mediante dos números separados por coma:"
      ]
    },
    {
      "cell_type": "code",
      "execution_count": null,
      "metadata": {
        "id": "7cD0UTTyFQ4x"
      },
      "outputs": [],
      "source": [
        "for i in range(1,10):\n",
        "  print(i)\n",
        "\n",
        "print(\"Fin\")"
      ]
    },
    {
      "cell_type": "markdown",
      "metadata": {
        "id": "Su6xf3CM3YS_"
      },
      "source": [
        "Esto mismo lo podemos hacer escribiendo los valores que queremos iterar:"
      ]
    },
    {
      "cell_type": "code",
      "execution_count": null,
      "metadata": {
        "id": "5TyUChVR3bpN"
      },
      "outputs": [],
      "source": [
        "for i in 1, 2, 3, \"casa\", \"coche\", 3.14:\n",
        "  print(i)\n",
        "\n",
        "print(\"Fin\")"
      ]
    },
    {
      "cell_type": "markdown",
      "metadata": {
        "id": "20PpUq-3vHKy"
      },
      "source": [
        "## 3.5 Ejercicios"
      ]
    },
    {
      "cell_type": "markdown",
      "metadata": {
        "id": "RK-kmr5EvJnQ"
      },
      "source": [
        "Puedes intentar hacer alguno de estos ejercicios:\n",
        "\n",
        "1. Realiza un programa para calcular el factorial de un número entero introducido por el teclado (sin utilizar la librería).  \n",
        "2. Implementa un juego que genere un número entero aleatorio entre 1 y 100. Entonces, el usuario deberá introducir números por teclado para intentar adivinar el número generado. Cada vez que el usuario introduzca un número por teclado, el programa deberá determinar si el número es el generado inicialmente (ganando el usuario la partida), si el número introducido por el usuario es múltiplo o divisor del número (informando de que el número introducido es múltiplo o divisor), o si no es ninguno de los otros dos casos. Al final de la partida, el número de puntos obtenido por el usuario es 100 menos el número de intentos del usuario. La puntuación debe imprimirse al final del juego."
      ]
    },
    {
      "cell_type": "markdown",
      "metadata": {
        "id": "hk1wYjpRlz_i"
      },
      "source": [
        "# 4 Estructuras de datos"
      ]
    },
    {
      "cell_type": "markdown",
      "metadata": {
        "id": "ahrIGv5el-pR"
      },
      "source": [
        "En Python existen diversas estructuras de datos muy usadas. A continuación comentaremos las listas y los strings, trabajando con todo lo aprendido hasta ahora."
      ]
    },
    {
      "cell_type": "markdown",
      "metadata": {
        "id": "od5AL9cI742H"
      },
      "source": [
        "## 4.1 Listas"
      ]
    },
    {
      "cell_type": "markdown",
      "metadata": {
        "id": "zbRlgTfr85PI"
      },
      "source": [
        "Las listas son secuencias de elementos separados por comas. Dentro de una lista, cada dato ocupa una posición (primero, segundo, tercero, etc.). La lista es una estructura que puede crecer o decrecer de forma **dinámica** según añadamos o eliminemos datos.\n",
        "\n",
        "El acceso a cada valor se realiza por su posición de forma similar a otros lenguajes de programación.\n",
        "\n",
        "A diferencia de otros lenguajes, en Python, las listas **pueden contener cualquier tipo de valor** incluso otras colecciones de datos.\n",
        "\n",
        "A continuación puedes ver algunas de las operaciones más habituales sobre listas:"
      ]
    },
    {
      "cell_type": "code",
      "execution_count": null,
      "metadata": {
        "id": "R8jkh0PU8_fx"
      },
      "outputs": [],
      "source": [
        "#Creamos una lista:\n",
        "datos = [] #vacía\n",
        "datos = list() #otra forma\n",
        "datos = [4, \"mensaje\", -15, 3.4] #con elementos"
      ]
    },
    {
      "cell_type": "markdown",
      "metadata": {
        "id": "MqxNv_Qdjxqa"
      },
      "source": [
        "Dos de las operaciones más comunes que podemos utilizar con listas son **indexing** y **slicing**. La operación de **indexing** nos permite acceder a **un elemento** de la lista a través de su posición (índice):"
      ]
    },
    {
      "cell_type": "code",
      "execution_count": null,
      "metadata": {
        "id": "c0ple6h6kPPS"
      },
      "outputs": [],
      "source": [
        "datos = [4, \"mensaje\", -15, 3.4]\n",
        "print(\"Elemento de la pos 2:\", datos[2])\n",
        "\n",
        "#Modificamos un valor de la lista\n",
        "datos[2] = 10\n",
        "print(datos)"
      ]
    },
    {
      "cell_type": "markdown",
      "metadata": {
        "id": "3cZnJa39nCCi"
      },
      "source": [
        "También podemos utilizar **índices negativos**, donde el índice -1 hace referencia al último número de la lista:\n",
        "\n",
        "<figure style=\"text-align:center\">\n",
        "  <center>\n",
        "  <img width = \"30%\" src=\"https://s3imagenes.s3-us-west-2.amazonaws.com/index_array.png\"/>\n",
        "  <figcaption align=\"center\">Índices de una lista</figcaption>\n",
        "  </center>\n",
        "</figure>\n"
      ]
    },
    {
      "cell_type": "code",
      "execution_count": null,
      "metadata": {
        "id": "WLePQyz8dzwb"
      },
      "outputs": [],
      "source": [
        "#Índices negativos (del final hacia adelante, siendo -1 el último)\n",
        "print(\"Penúltimo elemento:\", datos[-2])"
      ]
    },
    {
      "cell_type": "markdown",
      "metadata": {
        "id": "ybLHQvvFlVoE"
      },
      "source": [
        "Si lo que queremos es acceder a un **conjunto de elementos** de una lista, entonces debemos utilizar **slicing**. Este tipo de operaciones nos permite trocear una lista. Por ejemplo, a continuación puedes ver varios ejemplos donde troceamos una lista. Ten en cuenta que lo que te devuelve este tipo de operaciones también es de tipo **lista**:"
      ]
    },
    {
      "cell_type": "code",
      "execution_count": null,
      "metadata": {
        "id": "UP7MgP5yeoZL"
      },
      "outputs": [],
      "source": [
        "datos = [10, 11, 12, 13, 14]\n",
        "print(type(datos))\n",
        "\n",
        "#Slicing para obtener una porción de la lista\n",
        "print(\"Desde la posición 1 hasta una anterior a la 3:\", datos[1:3])\n",
        "print(\"Los dos primeros:\", datos[:2])\n",
        "print(\"Desde la posición 1 hasta el final:\", datos[1:])\n",
        "print(\"Desde la posición -1 hasta el final: \", datos[-1:])\n",
        "print(\"Desde la posición 1 a la -2 (no incluida): \", datos[1:-2])\n",
        "print(\"Desde la posición -4 a la -2 (no incluida): \", datos[-4:-2])\n",
        "print(\"Aunque tenga un elemento, lo que devuelve la operación de slicing continúa siendo una lista:\", type(datos[-1:]))\n",
        "print(\"Si no especificamos índices, obtenemos todos los valores: \", datos[:])"
      ]
    },
    {
      "cell_type": "markdown",
      "metadata": {
        "id": "sgUrGPmff_aJ"
      },
      "source": [
        "También podemos realizar otro tipo de operaciones con listas:"
      ]
    },
    {
      "cell_type": "code",
      "execution_count": null,
      "metadata": {
        "id": "jdTiFjnCgBw6"
      },
      "outputs": [],
      "source": [
        "#Repetir elementos\n",
        "print(\"Repetimos la lista dos veces:\", datos * 2)\n",
        "print(\"Creamos una lista con 5 ceros:\", [0] * 5)"
      ]
    },
    {
      "cell_type": "markdown",
      "metadata": {
        "id": "zuNUT89MtPEh"
      },
      "source": [
        "También podemos utilizar **steps** para saltarnos algunos elementos en la operación de slicing. En el siguiente ejemplo, el valor 3 indica que nos saltaremos 3 elementos después de cada selección. Si no le pasamos steps, se considera 1:"
      ]
    },
    {
      "cell_type": "code",
      "execution_count": null,
      "metadata": {
        "id": "_o-Fw15ctyJj"
      },
      "outputs": [],
      "source": [
        "datos = [10, 11, 12, 13, 14, 15, 16, 17, 18, 19]\n",
        "print(\"Desde la posición 2 hasta la 7 (no incluida) pero de 3 en 3: \", datos[2:7:3])"
      ]
    },
    {
      "cell_type": "markdown",
      "metadata": {
        "id": "RBcvOllBuwgV"
      },
      "source": [
        "¿Y si hacemos `datos[:7:3]`? pues devolvería desde el principio hasta la posición 7 (no incluida) pero de 3 en 3."
      ]
    },
    {
      "cell_type": "markdown",
      "metadata": {
        "id": "3_aZG64LS4o6"
      },
      "source": [
        "Las listas nos ofrecen varios métodos muy útiles para trabajar con ellas, entre los que destacamos los siguientes:\n",
        "* `len()` Devuelve la longitud de la lista.\n",
        "* `append()` Añade un elemento al final de la lista.\n",
        "* `clear()` Elimina todos los elementos de la lista, dejándola vacía.\n",
        "* `copy()` Crea una copia de la lista.\n",
        "* `count()` Cuenta cuántas veces aparece un elemento en la lista.\n",
        "* `extend()` Añade los elementos de una lista al final de otra.\n",
        "* `index()` Devuelve la posición de un elemento dentro de la lista.\n",
        "* `insert()` Añade un elemento en una determinada posición de la lista.\n",
        "* `pop()` Elimina un elemento de la lista y lo devuelve.\n",
        "* `del()` Elimina un elemento de la lista por su posición.\n",
        "* `remove()` Elimina un elemento de la lista por su valor.\n",
        "* `reverse()` Invierte el orden de elementos de una lista.\n",
        "* `sort()` Ordena una lista. Con el parámetro reverse=True especificamos que sea orden inverso.\n",
        "\n",
        "En el siguiente enlace puedes encontrar todas las funciones: https://python-reference.readthedocs.io/en/latest/docs/list/"
      ]
    },
    {
      "cell_type": "code",
      "execution_count": null,
      "metadata": {
        "id": "i2jbv2Og9QWI"
      },
      "outputs": [],
      "source": [
        "datos = [4, \"mensaje\", -15, 3.4]\n",
        "\n",
        "#Obtener la longitud de una lista\n",
        "longitud = len(datos)\n",
        "print(longitud)\n",
        "\n",
        "#Añadir un elemento al final\n",
        "datos.append(12)\n",
        "print(\"Añado el 12 al final: \", datos)\n",
        "\n",
        "#Añadir un elemento en una posición determinada (sin machacar el existente)\n",
        "datos.insert(2,\"nuevo_elemento\")\n",
        "print(\"Añado 'nuevo_elemento' en pos 2: \", datos)\n",
        "\n",
        "#Buscar un elemento\n",
        "print(\"Posición del -15:\", datos.index(-15))\n",
        "print(\"Está el -15?:\", -15 in datos)\n",
        "\n",
        "#Combinar dos listas\n",
        "datos.extend([55, 22])\n",
        "print(\"Combino dos listas: \", datos)"
      ]
    },
    {
      "cell_type": "code",
      "execution_count": null,
      "metadata": {
        "id": "HwJnr_bnPt0p"
      },
      "outputs": [],
      "source": [
        "datos = [4, \"mensaje\", -15, 3.4, -15, 25, 12]\n",
        "\n",
        "#Eliminar un elemento (si hay varios, el primero que encuentra)\n",
        "datos.remove(-15)\n",
        "print(\"Elimino el -15: \",datos)\n",
        "\n",
        "#Eliminar el elemento de determinada posición\n",
        "del(datos[2])\n",
        "#Otra forma mediante la que nos podemos guardar el valor eliminado\n",
        "#res = datos.pop(2)\n",
        "print(\"Elimino el de la pos 2: \",datos)\n",
        "\n",
        "#Vaciar parcialmente una lista\n",
        "datos[:2] = []\n",
        "print(\"Vacio desde la pos 0 hasta la 2: \",datos)\n",
        "\n",
        "#Vaciarla totalmente\n",
        "#datos = []\n",
        "#Otra forma\n",
        "#datos.clear()\n",
        "#Otra forma que borra incluso la lista\n",
        "#del(datos)\n",
        "print(\"La vacío entera: \",datos)\n",
        "\n"
      ]
    },
    {
      "cell_type": "code",
      "execution_count": null,
      "metadata": {
        "id": "jEe4HbG5Rkip"
      },
      "outputs": [],
      "source": [
        "datos = [4, \"mensaje\", -15, 3.4, -15, 25, 12]\n",
        "\n",
        "#Contar cuántas veces aparece un elemento en la lista\n",
        "res = datos.count(-15)\n",
        "print(\"Veces que aparece el -15: \",res)\n",
        "\n",
        "#Encontar el índice de un elemento de la lista (su primera aparición)\n",
        "res = datos.index(-15)\n",
        "print(\"Posición del -15: \",res)\n",
        "\n",
        "#Ordenar de varias formas. Observa como podemos ordenar por longitud:\n",
        "datos = [\"esto\", \"es\", \"un\", \"mensaje\"]\n",
        "datos.sort()\n",
        "print(\"Nuevos datos ordenados:\", datos)\n",
        "datos.sort(key=len)\n",
        "print(\"Nuevos datos ordenados por longitud:\", datos)\n",
        "\n",
        "#Invertir: datos.reverse()\n",
        "#Copiar: copia = datos.copy()"
      ]
    },
    {
      "cell_type": "markdown",
      "metadata": {
        "id": "CsdojuiVOEu9"
      },
      "source": [
        "Para recorrer una lista podemos utilizar un bucle ```for```:"
      ]
    },
    {
      "cell_type": "code",
      "execution_count": null,
      "metadata": {
        "id": "G8h9tysiORFR"
      },
      "outputs": [],
      "source": [
        "datos = [4, \"mensaje\", -15, 3.4]\n",
        "\n",
        "for i in datos:\n",
        "  print(i)"
      ]
    },
    {
      "cell_type": "markdown",
      "metadata": {
        "id": "dq-_5pBEO5jq"
      },
      "source": [
        "Para comprobar si un item está en una lista, podemos hacer el típico bucle que recorra todos los elementos, pero también podemos utilizar la instrucción ```in``` que es más cómoda. Observa el siguiente ejemplo y cómo lo tendríamos que hacer de una manera más manual:"
      ]
    },
    {
      "cell_type": "code",
      "execution_count": null,
      "metadata": {
        "id": "VQRf6nMnPFKp"
      },
      "outputs": [],
      "source": [
        "#Ejemplo con in\n",
        "datos = [4, \"mensaje\", -15, 3.4]\n",
        "\n",
        "is_34 = 3.4 in datos\n",
        "print(is_34)\n",
        "\n",
        "is_23 = 23 in datos\n",
        "print(is_23)"
      ]
    },
    {
      "cell_type": "code",
      "execution_count": null,
      "metadata": {
        "id": "9eYxL6yxIZKU"
      },
      "outputs": [],
      "source": [
        "#Ejemplo manual\n",
        "lista = [5, 2, 3, 7, 4, 1, 7]\n",
        "encontrado = False\n",
        "i = 0\n",
        "\n",
        "while (not encontrado) and (i < len(lista)): #Los paréntesis son para facilitar la lectura, pero no son necesarios\n",
        "  if lista[i] == 7:\n",
        "    print(\"Encontrado en posición \"+str(i))\n",
        "    encontrado = True\n",
        "  i += 1 #No existe la instrucción i++\n",
        "\n",
        "if not encontrado:\n",
        "  print(\"No se ha encontrado\")\n"
      ]
    },
    {
      "cell_type": "markdown",
      "metadata": {
        "id": "RHE7IsXPGYUx"
      },
      "source": [
        "Aunque algunos puristas están en contra de utilizarla, la instrucción ```break``` nos permite romper un bucle en un determinado momento:"
      ]
    },
    {
      "cell_type": "code",
      "execution_count": null,
      "metadata": {
        "id": "Mw86g00dGizQ"
      },
      "outputs": [],
      "source": [
        "for i in [5, 2, 3, 7, 4, 1, 7]:\n",
        "  if i == 7:\n",
        "    print(\"Encontrado!\")\n",
        "    break\n",
        "\n",
        "print(\"Fin\")\n"
      ]
    },
    {
      "cell_type": "markdown",
      "metadata": {
        "id": "sBc4BG4yG7pR"
      },
      "source": [
        "Y por supuesto, también podemos utilizar la instrucción ```continue``` para romer una iteración determinada:"
      ]
    },
    {
      "cell_type": "code",
      "execution_count": null,
      "metadata": {
        "id": "kDtlXew2HB27"
      },
      "outputs": [],
      "source": [
        "for i in [5, 2, 3, 7, 4, 1, 7]:\n",
        "  if i == 7:\n",
        "    print(\"Encontrado!\")\n",
        "    continue\n",
        "  print(\"Este código sólo se ejecuta si no entra por el if, ya que el continue se carga la iteración\")\n",
        "\n",
        "print(\"Fin\")\n"
      ]
    },
    {
      "cell_type": "markdown",
      "metadata": {
        "id": "JcL6wkRZ-O4N"
      },
      "source": [
        "El **módulo random** nos permite realizar acciones aleatorias como generar números aleatorios, imprimir un valor de una lista, etc."
      ]
    },
    {
      "cell_type": "code",
      "execution_count": null,
      "metadata": {
        "id": "2GLLt0ih-jBD"
      },
      "outputs": [],
      "source": [
        "import random\n",
        "\n",
        "#imprimimos un valor aleatorio\n",
        "lista = [1, 2, 3, 4, 5, 6, 7, 8, 9, 10]\n",
        "print(random.choice(lista))\n",
        "\n",
        "#barajamos una lista\n",
        "random.shuffle(lista)\n",
        "print(lista)\n",
        "\n",
        "#creamos un entero aleatorio entre 1 y 4 (ambos incluidos)\n",
        "res = random.randint(1, 4)\n",
        "print(res)"
      ]
    },
    {
      "cell_type": "markdown",
      "metadata": {
        "id": "ldXBy3Q1vc72"
      },
      "source": [
        "## 4.2 Ejercicios"
      ]
    },
    {
      "cell_type": "markdown",
      "metadata": {
        "id": "0uM1BG1ivfwK"
      },
      "source": [
        "Puedes intentar hacer algunos de estos ejercicios para practicar con listas:\n",
        "\n",
        "1. Dada una lista de enteros, muestra por pantalla si un número introducido por teclado está en la primera o en la última posición. La longitud mínima de la lista será de 1, en caso contrario, el programa terminará.\n",
        "\n",
        "2. Pide 4 números y añádelos a una lista. Después, rota los elementos y guárdalos en una nueva lista (el último es el primero, etc.), mostrando por pantalla esta nueva lista.\n",
        "\n",
        "3. Dadas dos listas de longitudes diferentes, averiguar si el primero o el último elemento de ambas listas es el mismo. En este caso, eliminar dicho elemento y mostrar las listas resultantes.\n",
        "\n",
        "4. Dada una lista de enteros, averiguar si el primer o el último elemento es el mayor y sustituir el resto de elementos por éste (sin contar el primero el último). Por ejemplo, la lista [11, 5, 9, 7] debería quedar como [11, 11, 11, 7].\n",
        "\n",
        "5. Calcular la cantidad de números impares que hay en una lista de enteros.\n",
        "\n",
        "6. Dada una lista de enteros, mostrar por pantalla la diferencia entre el mayor y el menor valor de la lista. Prueba a utilizar funciones del API para obtener estos valores.\n",
        "\n",
        "7. Dada una lista de enteros, devolver la media de todos los valores. Prueba a buscar en el API.\n",
        "\n",
        "8. Dada una lista de enteros, mostrar por pantalla si hay algún número que esté repetido en dos posiciones consecutivas.\n",
        "\n",
        "9. Dada una lista de enteros, elegir un número aleatorio de la lista."
      ]
    },
    {
      "cell_type": "markdown",
      "metadata": {
        "id": "jxKRNKoD2dmF"
      },
      "source": [
        "## 4.3 Strings"
      ]
    },
    {
      "cell_type": "markdown",
      "metadata": {
        "id": "CFb97CgW2wRY"
      },
      "source": [
        "Los strings en Python son una estructura de datos similar a otros lenguajes. Podemos verlos como una cadena de caracteres:\n",
        "\n"
      ]
    },
    {
      "cell_type": "code",
      "execution_count": null,
      "metadata": {
        "id": "4Kfd7ut_5vsI"
      },
      "outputs": [],
      "source": [
        "palabra = \"hola\"\n",
        "\n",
        "#Mostramos el primer caracter\n",
        "print(palabra[0])\n",
        "\n",
        "#Índices negativos (del final hacia adelante, siendo -1 el último)\n",
        "print(\"Penúltimo caracter:\", palabra[-2])\n",
        "\n",
        "#Slicing: mostramos los dos primeros caracteres\n",
        "print(palabra[0:2])\n",
        "print(palabra[:2])\n",
        "\n",
        "#Los dos últimos\n",
        "print(palabra[-2:])"
      ]
    },
    {
      "cell_type": "markdown",
      "metadata": {
        "id": "TQlExNkw3Bh-"
      },
      "source": [
        "Anteriormente, también hemos visto cómo hacer un casting de una variable de otro tipo (p.e. int) para poderla concatenar con otro string:"
      ]
    },
    {
      "cell_type": "code",
      "execution_count": null,
      "metadata": {
        "id": "KHqZBBsr3H-_"
      },
      "outputs": [],
      "source": [
        "x = 485\n",
        "print(\"El valor es \"+str(x))"
      ]
    },
    {
      "cell_type": "markdown",
      "metadata": {
        "id": "T5aV_1P43Th2"
      },
      "source": [
        "Aprovechemos para recordar la función ```type()```, que nos devuelve el tipo de una variable:"
      ]
    },
    {
      "cell_type": "code",
      "execution_count": null,
      "metadata": {
        "id": "NXcLTLi93abm"
      },
      "outputs": [],
      "source": [
        "x = 485\n",
        "print(type(x))\n",
        "\n",
        "x = str(x)\n",
        "print(type(x))"
      ]
    },
    {
      "cell_type": "markdown",
      "metadata": {
        "id": "z0IFZjm6567C"
      },
      "source": [
        "Con la función ```help(str)``` podemos ver los métodos de la clase ```str```, algunas de las cuáles son las siguientes:\n",
        "*   ```lower()```: transforma a minúsculas la cadena pasada como parámetro\n",
        "*   ```upper()```: transforma a mayúsculas la cadena pasada como parámetro\n",
        "*   ```title()```: transforma a mayúscula el carácter inicial de cada palabra\n",
        "*   ```replace()```: busca el patrón (arg2) en arg1 y los substituye por el valor del arg3. Ejemplo: ```arg1.replace(arg2,arg3)```\n",
        "*   ```format()```: reemplaza cada uno de sus argumentos por las marcas ```{i}``` incluidas en la cadena.\n",
        "*   ```len()``` devuelve la longitud de la que cadena pasada por parámetro\n",
        "*   ```split()```: separa un string por el delimitador que se pasa como parámetro.\n",
        "*   ```partition()```: separa un string en tres partes (antes del separador, el separador mismo y después del separador).\n",
        "\n",
        "En el siguiente enlace tienes puedes encontrar más funciones: https://python-reference.readthedocs.io/en/latest/docs/str/"
      ]
    },
    {
      "cell_type": "code",
      "execution_count": null,
      "metadata": {
        "id": "ukOsvM-X7YYU"
      },
      "outputs": [],
      "source": [
        "x = \"esto es un mensaje\"\n",
        "\n",
        "print(\"upper:\", x.upper())\n",
        "print(\"title:\", x.title())\n",
        "print(\"replace:\", x.replace(\"es\",\"kk\"))\n",
        "print(\"format:\", \"La edad de {0} es {1}\".format(\"Pepe\", 25))\n",
        "print(\"split:\", x.split(\" \"))\n",
        "print(\"partition:\", x.partition(\"un\")) #devuelve una lista, esto lo veremos más adelante\n",
        "\n",
        "departure, separator, arrival = \"Valencia:Londres\".partition(\":\")\n",
        "print(\"otro ejemplo: \",departure, separator, arrival)\n"
      ]
    },
    {
      "cell_type": "markdown",
      "metadata": {
        "id": "qoGnwmUxFZLp"
      },
      "source": [
        "También podemos iterar por los caracteres de un string con la instrucción `for`. Observa cómo funciona el siguiente código:"
      ]
    },
    {
      "cell_type": "code",
      "execution_count": null,
      "metadata": {
        "id": "25KCeS15FfKJ"
      },
      "outputs": [],
      "source": [
        "for i in \"Hola\":\n",
        "  print(i)\n",
        "\n",
        "print(\"Fin\")"
      ]
    },
    {
      "cell_type": "markdown",
      "metadata": {
        "id": "ZBpYHJdUrh8r"
      },
      "source": [
        "## 4.4 Ejercicios"
      ]
    },
    {
      "cell_type": "markdown",
      "metadata": {
        "id": "EwqXSIUKsJng"
      },
      "source": [
        "Ahora puedes intentar hacer algunos de estos ejercicios sobre strings.\n",
        "\n",
        "1. Escribe un programa que, dado un string y un valor n no negativo, muestre por pantalla el string repetido n veces.\n",
        "\n",
        "2. Modifica el script anterior para que repita sólo los 3 primeros caracteres del string. La longitud mínima del string será de 3, si no, el programa mostrará un mensaje y terminará.\n",
        "\n",
        "3. Dado un string, muestra por pantalla un nuevo string que sea 3 copias de los últimos dos caracteres del string original. Lo longitud mínima del string será de 2, si no, el programa mostrará un mensaje y terminará.\n",
        "\n",
        "4. Dado un string, muestra por pantalla un nuevo string que tenga los dos últimos caracteres movidos al inicio. La longitud mínima del string será de 2.\n",
        "\n",
        "5. Dado un string, muestra por pantalla un nuevo string que sea el original, repitiendo cada caracter dos veces.\n",
        "\n",
        "6. Dados dos strings, muestra por pantalla la cantidad de veces que el segundo string aparece en el primero.\n",
        "\n",
        "7. Dados dos strings, muestra por pantalla un mensaje indicando si uno de los dos aparece al final del otro, ignorando diferencias de mayúsculas y minúsculas. Por ejemplo, el string \"AbC\" y \"HiaBc\" debería mostrar que si que aparece uno al final del otro.\n",
        "\n",
        "8. Realiza un script que genere 10 identificadores de socio aleatoriamente. Un identificador de socio está basado en 3 letras y 2 números del 0 al 9. Si se genera un identificador repetido, tendrá que generarse otro hasta que no salga repetido."
      ]
    }
  ],
  "metadata": {
    "colab": {
      "provenance": []
    },
    "kernelspec": {
      "display_name": "usr",
      "language": "python",
      "name": "python3"
    },
    "language_info": {
      "codemirror_mode": {
        "name": "ipython",
        "version": 3
      },
      "file_extension": ".py",
      "mimetype": "text/x-python",
      "name": "python",
      "nbconvert_exporter": "python",
      "pygments_lexer": "ipython3",
      "version": "3.8.10"
    }
  },
  "nbformat": 4,
  "nbformat_minor": 0
}
