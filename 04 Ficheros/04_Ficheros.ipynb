{
  "cells": [
    {
      "cell_type": "markdown",
      "metadata": {
        "id": "cz21e4cL3-hO"
      },
      "source": [
        "**NOTA**: Si detectas algún error en este Colab, pon un mensaje en el foro para que lo podamos solucionar o envía un correo."
      ]
    },
    {
      "cell_type": "markdown",
      "metadata": {
        "id": "E7F-5dCVxy8d"
      },
      "source": [
        "# 1 Ficheros de texto"
      ]
    },
    {
      "cell_type": "markdown",
      "metadata": {
        "id": "_DLpDDZnI-Gb"
      },
      "source": [
        "Como sabes, las aplicaciones necesitan guardar información (datos) para poder compartirlos con otras aplicaciones o para reutilizarlos en la misma aplicación.\n",
        "\n",
        "Los ficheros son conjuntos de datos residentes en sistemas de almacenamiento secundario (disco duro o cualquier otro tipo de memoria). Un tipo particular de ficheros de uso muy extendido son los **ficheros de texto**. Estos contienen una sucesión de caracteres que podemos considerar organizados en una secuencia de líneas."
      ]
    },
    {
      "cell_type": "markdown",
      "metadata": {
        "id": "yRcGsXNPKqZi"
      },
      "source": [
        "## 1.1 Lectura y escritura"
      ]
    },
    {
      "cell_type": "markdown",
      "metadata": {
        "id": "zCt6xFZOx2sQ"
      },
      "source": [
        "Para leer y escribir en un fichero en Python, debemos **abrir** el fichero mediante la función ```open()```. Esta función admite distintos parámetros, pero los más comunes son:\n",
        "* ```file```: la ruta del fichero (obligatorio).\n",
        "* ```mode```: lectura ```(r)```, escritura ```(w)``` , añadir ```(a)```, `lectura-escritura (r+), `fichero binario```(b)``` y fichero de texto ```(t)```.\n",
        "* ```encoding```: codificación a utiliar en modo texto. Si no especificamos esto, Python utilizará la codificación por defecto, que podemos averiguar con la llamada a ```sys.getdefaultencoding()```.\n",
        "\n",
        "Una vez abierto el fichero en **modo escritura**, podemos escribir mediante la función ```write()```. Finalmente, debemos cerrar el fichero para que los cambios surtan efecto mediante la función ```close()```. A continuación puedes ver un ejemplo. Para ver el fichero que se ha creado, simplemente navega en el menú izquierdo de este Colab y haz clic en el icono de explorador de ficheros."
      ]
    },
    {
      "cell_type": "code",
      "execution_count": 1,
      "metadata": {
        "id": "1iyvep6gxtpu"
      },
      "outputs": [],
      "source": [
        "f = open(\"fichero.txt\", mode=\"wt\", encoding=\"utf-8\")\n",
        "\n",
        "f.write(\"Esto es un mensaje. \")\n",
        "\n",
        "f.write(\"Esto es otro mensaje en la misma línea. \\n\")\n",
        "\n",
        "f.write(\"Esto es un mensaje en una nueva línea.\")\n",
        "\n",
        "f.close()"
      ]
    },
    {
      "cell_type": "markdown",
      "metadata": {
        "id": "O0kI5r_jJvx3"
      },
      "source": [
        "Para leer de un fichero utilizamos la función ```read()```. En primer lugar, hay que abrir el fichero en **modo lectura**. Después, la función ```read()``` puede recibir el número de caracteres a leer, dejando el puntero en la última posición leída. Si no pasamos ningún parámetro, se leerá hasta el final del fichero:"
      ]
    },
    {
      "cell_type": "code",
      "execution_count": 2,
      "metadata": {
        "colab": {
          "base_uri": "https://localhost:8080/"
        },
        "id": "9Lgo7zqqKIHc",
        "outputId": "e62040d6-3bd1-4d60-f0a7-f9e75f41222e"
      },
      "outputs": [
        {
          "name": "stdout",
          "output_type": "stream",
          "text": [
            "Leemos 10 caracteres: Esto es un\n",
            "<class 'str'>\n",
            "\n",
            "\n",
            "Leemos hasta el final del fichero:  mensaje. Esto es otro mensaje en la misma línea. \n",
            "Esto es un mensaje en una nueva línea.\n"
          ]
        }
      ],
      "source": [
        "f = open(\"fichero.txt\", mode=\"rt\", encoding=\"utf-8\")\n",
        "\n",
        "#leemos 10 caracteres\n",
        "texto = f.read(10)\n",
        "print(\"Leemos 10 caracteres: \"+texto)\n",
        "print(type(texto))\n",
        "\n",
        "#leemos los restantes\n",
        "texto = f.read()\n",
        "print(\"\\n\\nLeemos hasta el final del fichero: \"+texto)\n",
        "\n",
        "f.close()"
      ]
    },
    {
      "cell_type": "markdown",
      "metadata": {
        "id": "CTyux_G9KxiR"
      },
      "source": [
        "## 1.2 Las funciones seek() y tell()"
      ]
    },
    {
      "cell_type": "markdown",
      "metadata": {
        "id": "GxK7e9buNg3O"
      },
      "source": [
        "Cuando trabajamos con ficheros, existen dos funciones interesantes. La función ```seek()``` nos permite mover el puntero a una determinada posición que pasamos por parámetro. La función ```tell()``` devuelve la posición actual del puntero. En el siguiente ejemplo, después de leer 10 caracteres movemos de nuevo el puntero a la posición 0:\n",
        "\n",
        "seek cannot move to arbitrary offset. Only 0 and values from tell() are allowed, other values result in undefined behaviour"
      ]
    },
    {
      "cell_type": "code",
      "execution_count": 3,
      "metadata": {
        "colab": {
          "base_uri": "https://localhost:8080/"
        },
        "id": "mQbt3tReNz9r",
        "outputId": "ef2ab862-f964-4075-9539-9be1ccee747e"
      },
      "outputs": [
        {
          "name": "stdout",
          "output_type": "stream",
          "text": [
            "Leemos 10 caracteres: Esto es un\n",
            "La posición actual del puntero es  10\n",
            "Volvemos a leer: Esto es un\n"
          ]
        }
      ],
      "source": [
        "f = open(\"fichero.txt\", mode=\"rt\", encoding=\"utf-8\")\n",
        "\n",
        "#leemos 10 caracteres\n",
        "texto = f.read(10)\n",
        "print(\"Leemos 10 caracteres: \"+texto)\n",
        "\n",
        "pos = f.tell()\n",
        "print(\"La posición actual del puntero es \", pos)\n",
        "\n",
        "#movemos el puntero al inicio y volvemos a leer\n",
        "f.seek(0)\n",
        "texto = f.read(10)\n",
        "print(\"Volvemos a leer: \"+texto)\n",
        "\n",
        "f.close()"
      ]
    },
    {
      "cell_type": "markdown",
      "metadata": {
        "id": "PXt34WKnK9HQ"
      },
      "source": [
        "## 1.3 Leyendo un fichero línea a línea"
      ]
    },
    {
      "cell_type": "markdown",
      "metadata": {
        "id": "c3OtuA23O1k2"
      },
      "source": [
        "Aunque la función ```read()``` se utiliza a menudo, Python ofrece otras funciones que nos permiten leer un fichero **línea a línea**. La función ```readline()``` lee, como su nombre indica, una línea del fichero:"
      ]
    },
    {
      "cell_type": "code",
      "execution_count": 4,
      "metadata": {
        "colab": {
          "base_uri": "https://localhost:8080/",
          "height": 68
        },
        "id": "868-yRqzPDtb",
        "outputId": "a0b45e82-048d-4f73-a224-4abcea9b8d5e"
      },
      "outputs": [
        {
          "name": "stdout",
          "output_type": "stream",
          "text": [
            "Leemos una línea: Esto es un mensaje. Esto es otro mensaje en la misma línea. \n",
            "\n",
            "Leemos otra línea: Esto es un mensaje en una nueva línea.\n"
          ]
        }
      ],
      "source": [
        "f = open(\"fichero.txt\", mode=\"rt\", encoding=\"utf-8\")\n",
        "\n",
        "texto = f.readline()\n",
        "print(\"Leemos una línea: \"+texto)\n",
        "\n",
        "texto = f.readline()\n",
        "print(\"Leemos otra línea: \"+texto)\n",
        "\n",
        "f.close()"
      ]
    },
    {
      "cell_type": "markdown",
      "metadata": {
        "id": "eYMjTD5VkoNd"
      },
      "source": [
        "Podemos **recorrer un fichero** mediante bucles ```for``` y ```while``` de una manera sencilla. Observa estos ejemplos:"
      ]
    },
    {
      "cell_type": "code",
      "execution_count": 5,
      "metadata": {
        "colab": {
          "base_uri": "https://localhost:8080/",
          "height": 231
        },
        "id": "xRKeUXxWkwPr",
        "outputId": "d64814ad-e8e5-4012-c208-de1e697f04e4"
      },
      "outputs": [
        {
          "name": "stdout",
          "output_type": "stream",
          "text": [
            "he leído: Esto es un mensaje. Esto es otro mensaje en la misma línea. \n",
            "\n",
            "he leído: Esto es un mensaje en una nueva línea.\n"
          ]
        }
      ],
      "source": [
        "f = open(\"fichero.txt\", mode=\"rt\", encoding=\"utf-8\")\n",
        "\n",
        "linea = f.readline()\n",
        "while linea != \"\" :\n",
        "  print(\"he leído: \" + linea)\n",
        "  linea = f.readline()\n",
        "\n",
        "f.close()"
      ]
    },
    {
      "cell_type": "code",
      "execution_count": 6,
      "metadata": {
        "colab": {
          "base_uri": "https://localhost:8080/",
          "height": 119
        },
        "id": "_Iysb5hlk-WT",
        "outputId": "e45269d2-720a-4d54-f5c8-91f347963db4"
      },
      "outputs": [
        {
          "name": "stdout",
          "output_type": "stream",
          "text": [
            "he leído: Esto es un mensaje. Esto es otro mensaje en la misma línea. \n",
            "\n",
            "he leído: Esto es un mensaje en una nueva línea.\n"
          ]
        }
      ],
      "source": [
        "f = open(\"fichero.txt\", mode=\"rt\", encoding=\"utf-8\")\n",
        "\n",
        "for linea in f:\n",
        "  print(\"he leído: \" + linea)\n",
        "\n",
        "f.close()\n",
        "\n",
        "#stdout.write() no mete una línea en blanco como un print"
      ]
    },
    {
      "cell_type": "markdown",
      "metadata": {
        "id": "QsUwgglgPh4z"
      },
      "source": [
        "Con la función ```readlines()``` podemos leer todas las líneas del fichero. En este caso, nos devuelve una lista donde cada elemento es una línea leída:"
      ]
    },
    {
      "cell_type": "code",
      "execution_count": 7,
      "metadata": {
        "colab": {
          "base_uri": "https://localhost:8080/",
          "height": 34
        },
        "id": "4MDApWOgPtm6",
        "outputId": "f16e1f77-aec4-4b91-f6a6-b1292b1f9292"
      },
      "outputs": [
        {
          "name": "stdout",
          "output_type": "stream",
          "text": [
            "Lista de líneas leídas:  ['Esto es un mensaje. Esto es otro mensaje en la misma línea. \\n', 'Esto es un mensaje en una nueva línea.']\n"
          ]
        }
      ],
      "source": [
        "f = open(\"fichero.txt\", mode=\"rt\", encoding=\"utf-8\")\n",
        "\n",
        "lista_lineas = f.readlines()\n",
        "print(\"Lista de líneas leídas: \", lista_lineas)\n",
        "\n",
        "f.close()"
      ]
    },
    {
      "cell_type": "markdown",
      "metadata": {
        "id": "3nj0M3ziQDJU"
      },
      "source": [
        "En ocasiones queremos añadir información a un fichero ya existente. Esto lo podemos hacer abriendo el fichero con la opción ```a``` y utilizando después la función ```write()```:"
      ]
    },
    {
      "cell_type": "code",
      "execution_count": 8,
      "metadata": {
        "id": "hprA3GwSQVdq"
      },
      "outputs": [],
      "source": [
        "f = open(\"fichero.txt\", mode=\"at\", encoding=\"utf-8\")\n",
        "\n",
        "f.write(\"Esto es un mensaje añadido. \\n\")\n",
        "\n",
        "f.close()"
      ]
    },
    {
      "cell_type": "markdown",
      "metadata": {
        "id": "Mv4gZyQLQ288"
      },
      "source": [
        "De forma similar a la función ```readlines()```, también tenemos disponible la función ```writelines()``` para escribir en un fichero múltiples líneas. Esta función, recibe como parámetro la lista de líneas a escribir:"
      ]
    },
    {
      "cell_type": "code",
      "execution_count": 9,
      "metadata": {
        "id": "lMY3_CptRDca"
      },
      "outputs": [],
      "source": [
        "f = open(\"fichero.txt\", mode=\"at\", encoding=\"utf-8\")\n",
        "\n",
        "f.writelines([\"Línea añadida de un listado \\n\", \"otra línea añadida \\n\"])\n",
        "\n",
        "f.close()"
      ]
    },
    {
      "cell_type": "markdown",
      "metadata": {
        "id": "t4U3CCmBG0tc"
      },
      "source": [
        "No obstante, también puedes utilizar la opción de lectura-escritura con `r+`, que nos permite realizar ambas operaciones. En el caso de escribir, lo que hace es añadir al fichero y no machacar lo que haya (cosa que sí que hace la opción `w`):"
      ]
    },
    {
      "cell_type": "code",
      "execution_count": 10,
      "metadata": {
        "id": "KIvFRNAXG7oy"
      },
      "outputs": [
        {
          "name": "stdout",
          "output_type": "stream",
          "text": [
            "Leemos 10 caracteres: Esto es un\n"
          ]
        }
      ],
      "source": [
        "f = open(\"fichero.txt\", mode=\"r+t\", encoding=\"utf-8\")\n",
        "\n",
        "texto = f.read(10)\n",
        "print(\"Leemos 10 caracteres: \"+texto)\n",
        "\n",
        "f.write(\"Esto es un mensaje añadido. \\n\")\n",
        "\n",
        "f.close()"
      ]
    },
    {
      "cell_type": "markdown",
      "metadata": {
        "id": "b7d7nTihonbT"
      },
      "source": [
        "Hasta ahora hemos visto que para trabajar con un fichero es importante tanto abrirlo como cerrarlo. En Python existe un mecanismo que asegura que estas operaciones se hacen automáticamente: un bloque ```with```. Esta estructura es útil para manejar recursos como ficheros. Observa cómo se utilizaría en el siguiente ejemplo:"
      ]
    },
    {
      "cell_type": "code",
      "execution_count": 1,
      "metadata": {
        "colab": {
          "base_uri": "https://localhost:8080/",
          "height": 119
        },
        "id": "i2rcWSuhpCtt",
        "outputId": "84d2640d-3a3f-4175-bde0-de1cfaeeb3d1"
      },
      "outputs": [
        {
          "name": "stdout",
          "output_type": "stream",
          "text": [
            "he leído: Esto es un mensaje. Esto es otro mensaje en la misma línea. \n",
            "\n",
            "he leído: Esto es un mensaje en una nueva línea.Esto es un mensaje añadido. \n",
            "\n",
            "he leído: Línea añadida de un listado \n",
            "\n",
            "he leído: otra línea añadida \n",
            "\n",
            "he leído: Esto es un mensaje añadido. \n",
            "\n"
          ]
        }
      ],
      "source": [
        "with open(\"fichero.txt\", mode=\"rt\", encoding=\"utf-8\") as f:\n",
        "  for linea in f:\n",
        "    print(\"he leído: \" + linea)"
      ]
    },
    {
      "cell_type": "markdown",
      "metadata": {
        "id": "avyGUKZkN9ar"
      },
      "source": [
        "## 1.4 Ejercicios"
      ]
    },
    {
      "cell_type": "markdown",
      "metadata": {
        "id": "_blZ6JjrOBLs"
      },
      "source": [
        "1. Escribe un programa que genere un fichero de texto con los números del 1 al 5000 y sus cuadrados.\n",
        "2. Escribe una función que reciba el nombre de un fichero que contiene palabras (cada línea tiene una palabra) y que devuelva la palabra que tiene una longitud máxima y su longitud.\n",
        "3. Escribe una función que recibe el nombre de un fichero (cada línea puede tener varias palabras) y una letra, y que muestre por pantalla las palabras del fichero que contienen la letra.\n",
        "4. Escribe una función que reciba el nombre de un fichero y que muestre por pantalla cuántas veces aparece cada palabra.\n",
        "5. Escribe una función generadora que devuelva una palabra de un fichero cada vez que es llamada.\n",
        "5. Escribe un función que anonimice el fichero `interview.txt`.\n",
        "Este fichero contiene una entrevista con Trump, pero su nombre no puede aparecer y hay que cambiarlo a \"Mr. X\" para anonimizar el fichero. El resultado, será escrito en un fichero `anonymous.txt`.\n",
        "6. Escribe un programa que lee el nombre del fichero de texto del teclado y muestra por pantalla el texto codificado de forma que sólo las letras minúsculas se sustituyen por las siguientes según el abecedario (una `a` por una `b`, una `b` por una `c`, etc.)."
      ]
    },
    {
      "cell_type": "markdown",
      "metadata": {
        "id": "A6-pF9jAQ6PU"
      },
      "source": [
        "# 2 Otros tipos de ficheros"
      ]
    },
    {
      "cell_type": "markdown",
      "metadata": {
        "id": "2iZZyR5SMHd7"
      },
      "source": [
        "A parte de ficheros de texto, Python ofrece soporte para leer otros tipos de ficheros, como ficheros **binarios** (p.e. una imagen). La manera de leer un fichero binario consiste en abrir el fichero en modo binario (con la opción `b`). Por tanto, la opción `rb` nos permite abrir el fichero binario para lectura mientras que la opción `wb` nos permite abrirlo para escritura:"
      ]
    },
    {
      "cell_type": "code",
      "execution_count": 3,
      "metadata": {
        "colab": {
          "base_uri": "https://localhost:8080/"
        },
        "id": "2I7ygushNwMY",
        "outputId": "451b4735-47f9-4670-93f2-74357686b149"
      },
      "outputs": [
        {
          "name": "stdout",
          "output_type": "stream",
          "text": [
            "b'\\x89PNG\\r\\n\\x1a\\n\\x00\\x00\\x00\\rIHDR\\x00\\x00\\x00\\xe1\\x00\\x00\\x00\\xe1\\x08\\x03\\x00\\x00\\x00\\tm\"H\\x00\\x00\\x02\\x1cPLTE\\xff\\xff\\xff^z\\xf7\\xd8A.\\\\\\xbd:\\xf0\\xc0\\x06`\\xbb:\\xfd\\xfd\\xfe\\xea\\xc3\\x06\\xfe\\xfb\\xff\\xf7\\xff\\xf6\\xf7\\xff\\xf9\\x9a\\xaa\\xe5Yv\\xf5\\xfe\\xfb\\xf1\\xff\\xff\\xf9\\xe7\\xc0\\x03\\x87\\x96\\xe5\\xff\\xf9\\xff\\xf9\\xff\\xfdY}\\xf7\\xb6\\xc2\\xf0Xs\\xeb`\\xb9A\\xfe\\xfb\\xf2\\xff\\xf6\\xff\\xfe\\xfd\\xfb\\xf2\\xff\\xff\\xfd\\xff\\xf6\\xee\\xc1\\x06Y\\xbf8^y\\xfb\\xf3\\xff\\xea\\xd3C.\\xfd\\xff\\xf0\\xd5;\\'\\xe4;.\\xdcA&\\xd6B.\\xff\\xf8\\xf3\\xff\\xfd\\xe2X\\xbeA`\\xb9FU\\xc23\\xf0\\xff\\xf6\\xd04\\x1e\\xcdG+\\xd9?5\\xe1;3\\xff\\xda\\xd3\\xe0?%\\xe4\\xc7\\x00\\xf0\\xd3j\\xe6\\xc7\\\\\\x97\\xaf\\xe4Q~\\xece\\xb0I\\xed\\xba\\x0feu\\xff^|\\xee^\\xbf)\\xf2\\xff\\xe3\\xe0\\xf6\\xd4\\xff\\xee\\xda\\xfa\\xdb\\xc9\\xf3\\xc6\\xba\\xec\\xb0\\xaa\\xe2\\x9b\\x99\\xd1\\x8d\\x8b\\xea\\xa5\\xa3\\xe7\\xd0\\xd5\\xf4\\xe2\\xe7\\xfc\\xe4\\xc5\\xe9\\xc2\\xa7\\xd8\\x9e\\x8d\\xd3yq\\xc6UP\\xb62\\r\\xbfO-\\xcdlI\\xd3\\x87d\\xde\\xb7\\xa7\\xc1hb\\xc01/\\xd3\\x86v\\xbbXG\\xc1B3\\xc7;\\x1f\\xafR.\\xaf?+\\xcbJ\\x1d\\xe5\\xe0\\xdf\\xb8;$\\xe6<\\x1f\\xe2:>\\xdaD\\x1d\\xcdzk\\xcfB<\\xadL:\\xbeA<\\xdd\\xb1\\xae\\xb3PN\\xd8\\xaa\\xb7\\xdeyd\\xfb\\xcb\\xcd\\xe8\\xb0\\xa0\\xd6\\xcc\\xce\\xdc\\xa5\\x89\\xd7;@\\xb0kV\\xf1\\xc1\\xac\\xb1nH\\xcdK8\\xceXX\\xec\\x9a\\x96\\xff\\xe0\\xf2\\xdb\\x92\\xa8\\xb1D<\\xba]c\\xc7\\x85q\\xff\\xf2\\x8b\\xe1\\x9e,\\xd5V\\x00\\xed\\xdcV\\xfc\\xaa(\\xd3p\\x12\\xf6\\xf3\\xb0\\xfb\\xb9\\xbd\\xfa\\xb5\\x1e\\xe7\\x8d!\\xc3V\\x0e\\xf4\\xect\\xde3L\\xfe\\xf2\\xc0\\xd9\\xc1+\\xbbj\\x00\\xf7\\x9c\\'\\xe2\\xb7%\\xf3\\xd5\\x96\\xd6\\xd0\\xf1\\xff\\xee\\xca\\xe0\\xf1\\xfe\\xf7\\xe3\\x91\\xff\\xf9\\xd4\\xd3\\xcb\\x0c\\xf4\\xf2\\xa3\\xb0\\xc0\\xe1\\xc9\\xdb\\x86\\xd0\\xc9\\xf1\\x8f\\x86\\xc8\\x82\\x94\\xf6\\x90\\xaf \\x80\\xb1^x\\xb6%\\xc2\\xec\\xc4\\x83\\xa9\\x1d\\x8e\\xca\\x84\\xd2\\xf1\\xb5S\\x83\\xd5\\x7f\\xd8Yov\\xd3\\xc6\\xcb(\\x8b\\xb2\\xdf\\xaa\\xd4\\x9d\\xb1\\xb3H~\\xa6%\\xc8\\xcf\\xaa\\x83\\xb6p\\x89\\xcbxm\\x9c\\x84V\\x86\\xb1T\\xb1jK\\xa3\\xa5P\\x87\\xcd\\xaf\\xd8\\xafY\\xbc]T\\xa7\\x82X\\x94\\xae\\x8e\\xdew\\xb5\\xc0\\x90\\x9c\\xdc\\x8cM\\x15\\x13\\x0f\\x00\\x00\\x0e\\x89IDATx\\x9c\\xed\\x9c\\x8d\\x7f\\x13\\xc7\\x99\\x80\\xd7\\xfa\\x18\\xaf\\x84\\xb5\\xf2\\xae\\x83\\xac\\xdd\\xb5>F\\x96\\xd6\\x96\\x84V\\xb6\\x00\\xaf\\xac\\x0fl(!\\x05\\xda$\\x04\\xdb\\xc55\\x1f\\x8e\\xd36\\xb4\\x94\\xd2\\xf6r\\x97\\x94\\x86s\\x92\\xb3\\xaf\\t\\xb1M}W\\x90\\x1d\\x9b\\xc2\\xf9.8I\\x13\\xd2+\\xff`gfel\\xe4]c\\xd9F\\xbb\\xe67\\x0f?@\\xa0\\x0f\\xe6\\xe1\\x9dyg\\xde\\xd9Y1\\x0c\\x85B\\xa1P(\\x14\\n\\x85B\\xa1P(\\x14\\n\\x85B\\xa1P(\\x14\\n\\x85B\\xa1P(\\x14\\n\\x85B\\xa1P(\\x14\\n\\x85B\\xa1l\\x1f\\xb0\\x86\\xe8\\xf1\\xa4\\xd3i\\xcfS\\x04\\x0c\\xd8\\x80\\xd5-\\xdd)\\xeb\\x06\\xfc\\xb3\\x80Z\\xacn\\xe9NY7\\x90$\\xc0\\xb2\\xd2SX\\xcc\\xfe7\\xdc(\\x80\\xba(\\xc7\\xc9:\\x9c\\xec\\xd9\\x14H\\xab\\xdb\\xba3H\\xbb\\xf5\\xb6+\\xc7\\x06\\x06\\x8f\\x9f\\xf8\\x01\\xe1\\xc4\\x89\\x93\\xc7_=u\\x8a\\x07\\xd5\\x17\\x91qja3w\\x06\\x10\\x15Q\\x04\\x82$\\t\\xa2\\xf2\\xda\\x0fO\\x9f9{\\x08\\x13\\xd3A\\x8f~\\xf4\\xa3\\x1f\\xbf\\xfe\\xc6\\x9b\\x03>\\xaf\\x14\\x0c\\xf2<\\xab\\x88(\\xbeV\\xb7\\xb9>PX\\x04\\x14#\\xdf\\xb1\\xc1\\x13\\xe7\\xa2Q5\\x9bu<K&\\x93\\x89\\x8e\\xbc\\xf5\\xd6\\xd93\\'\\x8fA\\x0f\\x1a\\x97\\xc2Z\\xb0\\xf7\\x0f\\xa8\\x87\\x8a\\xca\\xab\\xe7\\x87\\x86\\x13\\xd9\\xce\\xce\\xdex\\xbc\\xd60\\xe1\\xe8D\\xc4b#?y\\xe3z\\x8f(2(\\xf1X\\xdd\\xe4\\xed\\xb1\\x965\\x00PzN\\x0f]\\x18W\\xd5\\xce\\xceD4\\x9a\\xc98jA~\\x0e\\xc7\\xc8\\xe8ho,:qfPQXi\\xfd\\xbdvN<\\xa4ux*\\xff\\xe9\\xf9\\xa1\\xb1C\\x17/]RQ\\x1fU7\\xf7R\\xa4\\x17\\xcdd\\xb3\\xf1\\xcb\\x97c\\x89\\xe8\\xc8\\xc8\\x85+\\x83\\xbe4\\xb3\\x96\\x9bll\\x88&v\\x16\\xcd|i\\xb9\\xe7\\xfcplS\\xd4\\xb6`\\xfc\\x92\\xfa\\x8b\\x1f*\\xb2W\\x00\\xd5\\xa5\\x8e\\xd5&f\\xa0\\xac\\x8f\\xe99\\xfd\\xf6p\\xb4\\x1eA\\xc7\\xb8zi\\xfc\\xc2\\x95\\x01\\x9f \\xd9|z\\x04\\xc0\\xdb\\xae(\\xef\\xdc\\x88F\\x1d\\xb5\\xa9ekn\\xa0~\\xac\\xc6\\x86O+\\x02\\x9a:P\\x16\\xb6\\xad!J\\x9fJ\\xcf\\x99\\t\\x07\\x9e\\xf4\\xea2L\\xa0\\x9f\\xd9xb\\xf8\\\\\\x0f\\x9a\\x1emn\\xf8\\xce\\xcf\\xc6\\xb3h\\xaeS\\xd5\\xba\\x0cc\\t4Af\\x12jt\\xec\\xe7\\xf64$C\\x075M|\\xed\\x17c\\xd1xo]r5\\x8c\\\\\\x19\\xe0$\\x9ee\\x04\\xc1j\\xa9g \\x86\\x02\\x1b|\\xf7\\xdc\\xf0\\x8d]\\x1a:PO\\x15\\xedgH\\xe6\\xb1\\xb4\\xef\\xf8\\xc4\\xb5q\\xd5\\xb1;\\xc3\\xac:\\xfe\\xb3A[\\x1a\\x02\\xa6\\xfd\\xea\\xb0\\x9aU\\xb3\\x8eM+\\xb4\\xfa\\xe8\\xcc\\x8e\\xbf\\xfdK\\xc6n\\x86\\xa4\\xfc9y!\\x11GI\\xbfsw\\x86Q\\xb4\\xca{\\xfd\\x14\\xb0\\x9b!\\x0f$\\xf8\\xabC\\xbb\\n\\xdd\\x1a\\xd7\\xd4\\xb1_\\x1f\\xb3]*ed\\xafr|xO\\x04\\x1d\\x89\\xccP\\x0fk7C F\\xe0\\xd5\\xb7.\\xed\\x8d\\xe1\\xe8\\xeb=\\xbcd#C\\xb2\\x84\\x04\"\\xbc>\\xac\\xee\\x8da\\xec7\\x03d\\x87\\xcaj\\xb1\\xa7T\\r{\\x86\\xe2\\xb1\\x1bf\\x8dN\\x98\\xeal~&\\xa6\\xbe&K@\\x11\\xedd\\x887b\\x8e\\xdd\\xc8\\x98\\x94\\x12\\xaa\\x1a\\xcd\\x8c\\xa2\\'\\xd5K\\xf1x\\xfcP/\\xd9\\xa5\\x19\\x1bsdQ\\xd5\\x1f\\xc3uq&\\xaa\\xbf1\\x1a\\x8d&\\x127F\\xd0\\x18$\\xdbR\\xb6\\x8a!+\\xa5\\x953#\\xe6\\x86h\\x01p\\xb1\\x17\\x19\\\\xo\\xe8\\xca\\xe97\\xdf\\xbc~\\xfd\\xfa\\xd5\\xab\\'\\xce\\x9c\\x9b\\x18W;/\\xf6\\xf6\\xc6\\xabSK\\x14\\xa3F\\x87\\x06 c\\xaf\\n\\x18\\xefe\\xa7#W\\xcd\\x87`B\\xdf\\xad\\x18\\x1b\\xba\\xf2N\\x8f\\xe2\\x83\\\\\\x15E9\\xf5\\xee\\xe9\\xa1L\\x0c\\xe9_\\xae\\xbe\\x12\\x05\\xf4\\xdao{\\xe0\\xd3B\\xdf\\x16\\xe8\\xabQn\\xe0\\x02\\xd9r1\\x1cn\\xa8/\\xde\\x18{\\xef\\xca\\xf1c>\\x1e\\xcd\\x99\\x12\\xd9\\x07&\\x97,$I\\x86\\x03\\xbf;;\\x1c\\x8d\\x91\\xd7\\xe1=\\x8d\\xb1s\\xef\\x06\\x81`\\xab\\xfaW\\xdf\\xad?\\xf5\\xdb\\xe8(V4\\xec\\xa7\\x17\\xe3c?y\\xa3GQD}sB\\xf0\\xa2\\x1f\\xa8\\xc6eE\\xbc\\xa7/\\x89=\\'\\'\\xf4*\\xab3\\x16\\xcd\\xfc\\xf85\\x91\\r\\x06\\xedbH\\xda\\xc1aA\\xf1w\\x87z7o\\xa4!2\\xf1^4\\xc6\\xc6\\xce\\x93\\xa1\\xf5\\xec{\\xab\\xbf3\\x12\\x08\\xfe\\xfe_.D\\xb3\\xd9D\"1<4`\\xb7\\x01\\xa87G\\xec9\\x1b36\\x8c\\xf7v\\xaa\\xc3\\xbf\\x1eT\\x94\\xdaz\\xf6\\xa9!\\xea\\x92<\\x1b\\x1c<7\\x1c\\xeb\\xbd\\x9c9\\xdb\\xa3\\xd8%|\\x04\\xfd\\x82\\x99\\xe0iW~0\\x1c\\x8f\\x1b\\x1avv\\xaa\\x13\\xe7\\x15/\\x1aq\\xa6\\xcd\\xc6\\xebkI:u~\\xac\\x13M\\x13A\\xd6~\\x86A\\xc1\\x03\\x07\\'\\xa2\\xf1\\xb8\\xe1\\x10\\x8c\\xa9\\x13\\'\\x15\\x01_I\\xdb\\xd2P\\x90\\x04\\xdf\\xd5\\xf7\\xfe\\xb5\\x1aA\\xdb\\x19F\\xba\\xfeM\\x8d]61\\x1c;\\xae\\xa4y^\\xf4x\\xcc\\x9b\\rX\\x94b\\xbd\\x1e\\xe5\\x9d\\xdf\\xa3\\x0c\\xcb\\x89v3\\x14\\xa1\\x14y\\xff\\x83?\\x8c\\xa2\\xb9\\xfar\\xdc\\xb1q\\xeb)\\x13\\xbf\\xd8\\xab\\xa2\\xd9[`\\x9f{\\xe1\\x8c\\xac\\xfa\\xf4\\x11m#=\\xa6j(\\ns7\\xf3\\x7f\\xfcpT\\xdfX\\x8bm\\x88_o\\xafc|\\x00\\xa6\\x05\\xfe\\xb9\\x1do\\xfd\\x02\\xa9\\x9d\\x02\\xc8T\\x1b\\xc6\\x82[9W\\xc7\\xe4\\x87\\xa3\\x89khqvy]0\\xdb\\xe9\\x98\\xf8w\\x18A\\x86\\xdb\\xfd(\\xa0?z\\xc1\\xad\\xae\\x87\\xearf6\\xd7\\xe1wM~\\xf41\\x0e\\xe2\\x86\\x18f\\x13\\x17N\\xf2d\\x8e\\xdf\\xeeGU\\x1f\\xbd\\xd8F\\xd7\\x05\\xe9\\xa5\\x91\\xb9#\\xfe\\x8e\\xbc+?\\xf9\\xc1\\xe5C\\x0e\\xf5\\xda\\xba\\xa1:v\\xde\\'\\xf1A\\x94D\\xb6\\xf9Q64d\\xc8U\\x98Or~\\x7f3f\\xf2\\xa3Q\\xf5?.^\\xec\\xcc^\\x8a\\xc5\\xe2h\\xaa?\\xabH\\xd2s\\x87\\xa0\\xed\\x01\\xc0ws\\xcd\\x10\\xf7T<\\xed\\xab\\xaa^\\x01\\x0e*\\x82\\xbd\\x96\\xd0;\\x020S\\xd3\\xcd\\x1d\\xcd\\xcd\\xd81\\xd7\\x9c\\xff\\xe0?3\\xb8H\\x1c\\x89;\\xa2c\\xbf\\xf2\\xb1\\xac\\xb2\\xdf\\xfd\\xb0\\xe1\\xac\\xbf\\xa3\\x03E\\x11)\\xe6r~W\\xfe\\xc3\\x8fGG\\x1c\\xa3\\xf1\\xec\\xf8\\xdb]>\\x16\\xc8\\xfb^\\x90\\x01\\xe2a\\xbf\\xabj\\x88\"\\xd9\\xe1\\xfa\\xe3G\\x1f\\x8f\\xaa\\xc8\\xf0\\xad\\x13P\\x04Rz\\x7f\\x1b\\x82\\xa0O\\x10\\xa7\\x90]\\x87\\x8bP\\x1d\\x8c\\x7f\\xfa83\\x1c\\x8b\\r\\x9d2]\\xc5@(\\x8b\\x8c\\xa7>\\xbc^=#7\\xf8\\x7f,(\\x0b\\xdc\\x9fk\\r\\xf3\\x93\\x7f\\xfap$\\x16=a\\xbe\\xa1+\\xe2\\x83Al\\x9dX3\\x97\\xb02\\xf0\\xcd\\xfa\\x9b\\xd7\\x0cIO\\xedp\\xe5\\xf3\\x93\\x7f\\x18}\\xfbU\\xf3\\r]\\xd4JN\\xf6a\\xda\\xeb\\xf9\\x050\\xa0\\xe1\\x86\\xc0\\x0b\\xe0\\xe1\\xf5\\x18V\\x07c\\xb3\\xdf?\\xf9\\xd1\\x1b\\x8a\\x99!\\x00\\x9c\\x88B\\xe2\\xad\\x1b\\x064~\\xd5*xA\\xd7\\xf4fC\\x94S?\\xfd\\xccgj(vA\\xf6\\xf6\\x81\\xfa\\xf9%\\xd3\\xf8\\xc2\\n\\x8d\\xa6\\xcf?%^\\xae\\xa7\\xe8\\xf3\\xc6\\xf4-\\x8e5/y!\\xf7\\xca\\xc1\\x96\\xbaiMC\\xb6\\xd1\\x17\\xdb\\xb0\\xa1\\xdf\\xd0\\xf0\\xe6\\x1c\\xf3\\x1c\\xc3\\xa6zi\\xb9+5\\xde\\x90\\x93\\xc1T\\x8e,g6\\x1a\\xe2\\x91x\\x18\\xb2{nX\\x98\\x81\\xecv\\x16\\xf1{\\x89(s\\x9f\\xe5\\xf49\\xe2)z\\xae\\x99\\x05\\xachzaeg\\x86M-3\\x1c\\xdb\\xf0\\xd3\\xa7\\xb2<klx\\x8b\\xe7\\xb9=6\\x0c\\xf7\\xcf\\x8b\\xac\\xa7\\xa1z\\xa8\\x97\\xb2]\\x87]5\\xe3\\x900\\xfd9\\x0b\\xf8=\\xee\\xa5M\\x85W\\x80\\xaf\\xd1\\xbd\\xd4\\xdcp\\x0e\\x08/\\xc0\\x90\\xb1\\xc2\\xf0\\x88\\xa1\\xe1\\xcd.V\\xde\\xebLc\\xa5a\\xb3\\x91!4\\xbf\\xc0\\xb9S\\xc3\\xa36\\x8a\\xe1\\x91c,l\\x7f\\x19\\x0cE\\x06\\x19\\x1aq\\x04\\xb2\\x903}\\xdb\\x0e\\r\\xfb\\x8e\\n\\r\\xbf\\xb2ojHz\\xa9\\xe9\\xdb^\\x06\\xc3\\xe99\\xf1\\xa51<ll8\\xc5A\\xf3\\xc6\\xec3\\xc3\\x0e#\\xc3;\\xb7d\\xf9\\xa50d\\xf0\\x8e\\xbe\\xa1\\xe1\\x9f\\x01\\xdbn\\xf2\\x1eT\\xe2\\xed\\xcc\\xf0\\xe0<\\xc3\\xd7^+\\x7f\\xe1x\\x99\\xcf\\x8c\\rg\\xb9\\x97\\xc3\\x10\\xd5\\xf8S\\x86\\x86\\xb9\\xc3]\\xa6\\x17\\x0c\\xf7\\x99!\\xfb\\xf9\\xb4\\x91a\\xc7\\xcd)\\xcel\\xc3a\\xe7\\x86\\xb7-0\\x14\\xd89CC\\xd7\\xf4-\\xf8\\x1c\\xc3\\xad\\xf6+\\x0c\\x05[\\x9af@\\xc3\\rQ\\x8d\\xdfu\\xd3\\xffl}8\\x99w5\\xe7\\xf2\\xd3\\xff\\x15\\xe1\\xcc\\x0cE\\xc8\\xb1\\xff\\xfd\\x97V3\\xee\\xdem-\\x84\\x8d\\x0c\\x0b\\x16\\xecb\\x88\\x10\\xc0Oj\\x0c\\xf3\\xa8\\x8f6\\xdf\\xb9W)\\x9b\\xc6\\x10\\x192\\x80\\x17\\x8c\\xb7\\x0c\\x05oZ\\x92\\x8e>02\\xbc+4~\\x17\\x83\\x85\\x80\\x9b\\xcd#E\\xff\\xba!\\xfaCnz\\xc1\\xfdx\\xd1\\xbc\\xb6\\xe0d\\x08\\xa1h\\x02\\xd7\\x05\\xa5V\\xa3Q\\xdar@\\xf05\\xbc\\xc6\\xe7\\xa1\\xc0N\\xe5\\xf1n\\xdb\\x06\\xc3\\xdc\\xc3{_$\\xbb\\x93K%\\xd3\\x1b^9\\xach\\xbcw\\xcf\\xf3\\xbc\"\\xcc\\x18\\xf7\\xd2yNa\\x1b=\\x0e\\xf9\\x8878\\xf7i\\xc7F\\xc3\\xbc\\xeb\\xce\\xbd\\x85n\\xcd\\x1d\\xd2\\x96M\\re\\x0e\\xb0\\xac`\\x06\\x94\\xe6\\xef\\xb7\\x19\\x19\\xcex\\xc4\\x86g\\x1ar\\x8cw\\xd6\\xef\"aD\\xe4r\\xae\\xc9;\\x0b\\xc5P\\xd2\\x8d\\xf8kI\\xe4Y\\xa9\\xee\\x8f\\xe4\\xe6\\x84\\xd6\\xb6Z\\xc3\\xfe\\xbe\\xb6\\xfe\\x07\\xac\\xd8\\xf8\\xdb\\xd9\\xc9&\\xfb\\xad\\\\G\\xd5\\x10M\\xfew\\xee}\\xb1\\x90\\n\\x05\\xb0\\xa1{\\x19\\xf2\\xf5\\xe7>\\x94\\x87f\\x1e\\x18\\x19\\x86[\\xad\\xb8`N\\xfe\\xcd\\xb9\\x9b\\xfe<\\xbe\\xcc\\x8d\\r\\xa7\\x17R\\xc9\\xeeP\\x88\\x08\\xbaW\\xcbr\\xdd\\x86\\x80\\x01\\xd2\\xd1BS_\\x8da\\xb8\\x10ny\\xc5\\x8aS\\x1a\\xc4P\\xfe\\xc4\\x9fw\\x11\\xc3;\\x0f\\xef\\xb9S\\x81\\x80\\xdb\\xe9$\\x86\\xdaJD4/\\xf4M>\\x8faf\\xd0(\\xac5l)\\x84\\x0f\\xceXq\\xab\\xbe~<\\xf8}b\\x88x\\x88:\\xe8\\xc2\\xc2\\x82\\xdbY\\rb\\xa5\\xec\\xab\\xd7\\x10\\x8d\\xb3\\xff\\xb9\\xdf\\xb4\\xc9\\xb0\\xa9-\\\\\\xb0\\xce\\x90\\x9b:\\xe2wu\\xe4;\\xee\\xdcs\\xbbQ\\xf0\\x9cO\\t\\xb9\\xb5\\xb2\\xb7\\x1d\\xf0\\xf2v\\x12\\xa0~TU.\\xa5g\\x8c\\xd6l}\\xe1\\x96\\x03\\xe6\\xc77_ \\xfaa\\xb4\\xae\\xf7\\xfd\\xcdy\\xb4\\x8cY \\x81{\\xc6\\xf0Q\\tO\\x0c\\xdb\\t\\xa4\\xfeQ0=\\xf3\\xad\\x81`S\\x01-\\xbb-1\\xd4\\xbf\\xf8\\x82\\xbbu3\\x97\\xc3\\xb3`\\x8da\\xb7\\xd3\\xad-E$\\xb0\\xad;\\xb4H\\xf3\\xa1\\xd7x9\\x83\\xc6\\xe1\\x83\\x99F/\\xd8\\xd6[&\\x80\\xae\\xd9\\x87\\x0f\\xbfp\\x87R\\xb5\\x86\\xa1\\xa2;\\xb9\\x12\\xd9\\xde\\xbd\\xf5\\xe4y/\\xca\\xa3F\\xcb\\x99\\xa6\\xfe\\xc2\\x01\\xa9\\xe1\\xe5\\xfdZ\\xcbD(\\x88S\\xff\\xfb\\x7f\\x81\\xee\\xd4&\\xc3T\\xaa\\x18\\xaa\\xacD\\xe4v\\xf1y\\'h\\xf5\\xbb3\\x810\\xff\\xc0\\xcc\\xf0\\xb6`\\x99!@\\x8b\\xcc\\xae/\\xb5\\xeeT1\\xe0|\\x16=\\xa1jK\\xe54\\x842\\xb7\\xe5]L\\x00\\x04Y\\x01\\xd7\\x14}}\\x9b\\xa6\\xc2pS\\xa1\\xd0\\x7f@0\\xad7_4\\xc8\\x90\\x83\\xb0\\xb4\\x9a\\x0c\\x85\\x0c\\r\\x8b(\\xdd,BT\\x11\\x9a_\\x8a\"\\x9f\"\\xfa8\\xe9h_!\\xdcfhx\\xf0\\x15\\xce2C\\\\) \\x16\\xb5\\xee\\x90\\xdb\\xd0\\xb0\\x18Hj\\xdf\\x95 \\x08n\\xd5>4Q03\\xad-\\xe1p\\x7f\\xd8\\xc0\\xb0\\xad\\xd0\\xca*>\\xeb\\xee\\x08\\x96\\xf1\\xf1\\x18\\xf8(\\x19\\xea62$\\x8f\\xb4\\xd5\\xe5\\x084=\\xc4M\\xf2P\\xfa\\xbb\\xaf\\xbeF=4\\xdc_;\\x04\\xb1\\xe1\\xc1\\xdb\\xbc([g\\x08\\xf1\\x94\\xc7\\xe2 \\x1a\\x19&\\xbb\\xbbC\\xa9T\\xb7\\xb6R\\x16E3CF\\x14\\x7f\\xaa\\xb9\\x9d\\xdf\\xfc\\xed\\xdb\\xbep\\x7f\\xad\"2<x\\x97\\r*\\x9cU\\xb3\\x85\\xdeF\\x10\\xf4~\\xa7\\x15kr\\xe9\\xb3\\x81\\x0c--\\x97|\\x80\\x1cP#\\xb5.\\xaa\\xe6EQ\\x10\\xd0l\\x19)\\xafT4\\xf2\\xe2\\xbf}\\xdd\\xd7\\xdf\\x8f\\x92MA\\x97k\\xc3\\xdc\\x0f\\xa3Dj\\xf9\\x11~\\xd4h\\xa1\\xb4\\x1a\\xd8\\xd2\\xd0\\xa9i\\x8fV\\xca\\xe5\\x12\\x94E}\\xb1\\x87\\xbf\\xb6\\rFJ\\xe5\\xe5\\xa5\\x8aVMR\\x8f\\xbf\\xff\\xba\\x0f\\xf7\\xca\\xb6\\xc2\\xba!\\xfa\\x8b\\x03\\x92\\xe5\\x86\\xf8F\\x90t\\xb9\\x12\\xc0\\x98\\x1a\\x86\\x9c(\\xe7hO\\x96\\xcb\\xe5\\x08\\xa6T*\\x95\\xcb_\\xaeT\\x92N\\xf4\\x9eT\\x8a\\xbc\\xa4\\x18\\xf8\\xfe\\xef\\xdf\\xa2~YM\\xa8\\xc40\\xdc\\xf2\\x00\\x15\\xf7\\xd6\\x1b*,\\xf0|\\x19H\"\\xcc\\r1\\xee\\x80\\xa6U*\\xab\\x84JE\\xd3\\xb4@(E\\x9e\\xd0\\r\\x8b\\xc9o\\xbeG\\x83\\xb1i\\xa3\\xe1\\x83yA\\xb6\\xc1i\\xf1v\\x9eg\\xe1\\xffoi\\x88\\x8a\\xaaT*\\xe4tn\\x14Ff(\\x139\\xdd\\x01\\xfdm\\x81P1\\x94\\xc4Q\\xdc`x\\xf0\\x80$\\xd8\\xe4~6\\xc0\\xc0G\\x81\\x90\\xd3h0nM\\xcd;\\xdch0\\xf6\\xf5\\x87\\xdb\\nh4\\xa2\\xd9\\xbeu&\\x02\\xb7s\\xd3M\\x03@\\xb3vy\\xd5\\x1d\\xda\\xb5a@C\\xd3F\\x18\\x83\\xf2M\\xe1\\xfem\\xc9#\\x06\\xadv\\xd3A\\t\\xd5\\xb3\\xac\\xb9woX,>\\xfe\\xea>J\\xa1a,8/x9\\xde6\\x86\\x0c\\x80\\xcb\\x95\\xdd\\xf7\\xd2\"*\\xba\\xbe\\xff\\xfb}\\x9cS\\x1f\\xccK\\xa2\\x08x\\xbb\\xf4R\\x11\\xb2A\\xcf\\xa2s\\xb7\\x86\\xc5\\xe4cw1\\xf5\\xcd\\xd7}\\x07\\x9bZ\\x0eH\\x11>\\xc8sV\\x15N\\x9b e \\x9a\\x16C\\xdd8i\\xba\\x8d\\x9a\\xbf]\\xd7\\x80[\\xfb\\xea\\xdb\\xbey\\xef\\x16\\':\\xac\\x80\\xdc!\\x99.\\xaf\\x06\\x0c\\x1b]\\x97a(\\x15\\xf8\\xe6\\xaby\\t\\xda%\\x8dnDH\\x97\\x9fhZ2\\xe0\\x0c\\xed\\xc60\\x95rk+\\xe9H\\x84\\xb3\\xe1\\x97}\\xb2@\\x88\\xa0\\x95t\\xd2\\x99\\xda\\x8d\\xa13PY.\\xa1\\xc2\\xd9\\x06\\xf3\\xfc&\\xda\\xf9 +/\\xa3baW\\x86\\x81\\xd5\\xb2\\x97\\xc7_\\x9ehCC\\xb2H\\x96\\xcaKxft\\x86B5\\xcd\\xdfZ8\\x99\\xec\\xc6\\xcbT\\xf4\\xda\\x7f\\x94 \\xb0\\xa5\\x1e\\xb3\\xb6\\xb5+D\\x96+\\x01\\xf7Z\\xcd\\xb0]C\\xb7;\\x84\\xd6\\xaeN\\xad\\xb2\\xdc\\xd5\\x05E\\xbb\\x1a\\x12\\x82\\xbc\\x08KO\\xb4d\\xa8>\\xc3b\\x11\\xbd*\\xa0\\xad\\x94d\\x08e[,\\xb6Maq\\x17\\x83\\xa8\\xab&\\xeb2\\x0c\\xb9Q\\x05\\xb9\\xb2\\x18\\x11yQ\\xb4G9a\\n\\xf4p\\x0c\\x08\\xb2\\x91\\xc5\\xa5\\xba\\x0c\\x9dImi\\x99\\x13\\x81~7\\x9e\\x9d\\xbe\\'\\xca\\x18\\xfcM\\xd7\"\\xde\\x83\\t\\x902\\x10\\xads\\xdcd\\x17@\\xdf\\xed \\x8f\\x92\\xe8q1\\x99\\x0ctw\\xa3\\x9f\\xce\\x90\\xb6\\xba\\x98^\\xffJ\\x18\\xfbC\\x968\\xb0T^yDJ\\xf9\\x14\\xce\\x92z\\xa1\\x8f\\xe9\\xc6\\xa0\\x8eY,\\x92\\xbf\\xebNj\\x95\\'\\x8b\\xa5\\x08\\xc7\\xee+CTm\\xf0@\\x96#\\xe5\\x95\\xd5\\xa4\\x93D)\\x85!\\xe1#\\x86D\\x0e\\xc76\\xf9\\xf8\\xc9r\\t\\'\\x17Q\\xb1\\xba\\xd9u\\xa0\\xc7\\x02\\x0f)\\x19Ery\\xe5Q\\x05\\xc5\\x92\\xf4M\\x8c\\xdeaQf\\xd1\\xb4\\xd5\\xa5\\x95r9\\xe2ax$\\xc8\\x99\\x1d\\xda\\xb4#\\xe4;%<^\\x01\\xb0\\x82\\x80j<\\x19Y>y\\x82\\xf7\\x9f\\x88!V\\xd3*Hny\\xb1\\x9cf\\x83A\\x1e\\xfdOtE\\xa0\\xc7\\xd2\\x8d\\xdf\\x1d\\x026\\x8c,r\\xb0\\xab\\x8c)\\x95J\\x91\\x08\\xf9#`\\xf6\\xcd\\xc03\\x01\\xd4\\xb0v\\xa3:\\xf4\\xc8\\x1b\\x9f\\xb7\\xb8\\x95{\\n9\\xdcE.YY\\xdd\\x92\\x17\\xcaK\\x17\\xb7\\x8d\\x90\\xf0\\x91\\xcb3V\\xb7\\x84B\\xa1P(\\x14\\n\\x85B\\xa1P(\\x14\\n\\x85B\\xa1P(\\x14\\n\\x85B\\xa1P(\\x14\\n\\x85B\\xa1P(\\x14\\n\\x85B\\xa1P(\\x14\\n\\xc5\\x84\\x7f\\x02?\\xc9\\xac\\xe3\\x05\\x8b5\\x92\\x00\\x00\\x00\\x00IEND\\xaeB`\\x82'\n"
          ]
        }
      ],
      "source": [
        "f = open('lena.png', 'rb')\n",
        "contenido = f.read()\n",
        "print(contenido)"
      ]
    },
    {
      "cell_type": "markdown",
      "metadata": {
        "id": "k6CUTd6FNXtF"
      },
      "source": [
        "Una de las ventajas de Python es la cantidad de paquetes que existen. En concreto, el paquete `xlwt` nos permite trabajar con ficheros **Excel**. A continuación tienes un ejemplo de cómo podemos generar un Excel con diferente información. Para profundizar más, puedes consultar la documentación: https://xlwt.readthedocs.io/en/latest/"
      ]
    },
    {
      "cell_type": "code",
      "execution_count": null,
      "metadata": {
        "id": "d4LJTTcSQ-Rs"
      },
      "outputs": [],
      "source": [
        "import xlwt\n",
        "from xlwt import Workbook\n",
        "\n",
        "wb = Workbook()\n",
        "\n",
        "sheet1 = wb.add_sheet(\"Sheet 1\")\n",
        "\n",
        "sheet1.write(1, 0, 'AAAA')\n",
        "sheet1.write(2, 0, 'BBBB')\n",
        "sheet1.write(3, 0, 'CCCC')\n",
        "sheet1.write(4, 0, 'DDDD')\n",
        "sheet1.write(5, 0, 'EEEE')\n",
        "sheet1.write(0, 1, '1111')\n",
        "sheet1.write(0, 2, '2222')\n",
        "sheet1.write(0, 3, '3333')\n",
        "sheet1.write(0, 4, '4444')\n",
        "sheet1.write(0, 5, '5555')\n",
        "\n",
        "wb.save(\"xlwt example.xls\")\n"
      ]
    },
    {
      "cell_type": "markdown",
      "metadata": {
        "id": "Ebb0afbkSU_9"
      },
      "source": [
        "Otro tipo de ficheros que vamos a trabajar son los ficheros separados por comas (**CSV**). A través del paquete `csv`, podemos leer ficheros de este tipo. Observa el siguiente ejemplo cómo podemos leer cada fila y guardarla en una lista:\n"
      ]
    },
    {
      "cell_type": "code",
      "execution_count": null,
      "metadata": {
        "id": "bh-6iD6yPq15"
      },
      "outputs": [],
      "source": [
        "import csv\n",
        "with open('colours.csv', 'r') as file:\n",
        "    reader = csv.reader(file)\n",
        "    for row in reader:\n",
        "        print(row)"
      ]
    },
    {
      "cell_type": "markdown",
      "metadata": {
        "id": "r3Gne03OSd-m"
      },
      "source": [
        "En ocasiones, un fichero csv utiliza separadores diferentes como un tabulador. Esto lo podríamos especificar también en la llamada a `reader`:"
      ]
    },
    {
      "cell_type": "code",
      "execution_count": null,
      "metadata": {
        "id": "Krmh3vzpQff5"
      },
      "outputs": [],
      "source": [
        "reader = csv.reader(file, delimiter = \"\\t\")"
      ]
    },
    {
      "cell_type": "markdown",
      "metadata": {
        "id": "KO2tsLEwQ9w8"
      },
      "source": [
        "Si quieres profundizar más, puedes acceder a la documentación: https://docs.python.org/3/library/csv.html"
      ]
    }
  ],
  "metadata": {
    "colab": {
      "provenance": [],
      "toc_visible": true
    },
    "kernelspec": {
      "display_name": "Python 3",
      "language": "python",
      "name": "python3"
    },
    "language_info": {
      "codemirror_mode": {
        "name": "ipython",
        "version": 3
      },
      "file_extension": ".py",
      "mimetype": "text/x-python",
      "name": "python",
      "nbconvert_exporter": "python",
      "pygments_lexer": "ipython3",
      "version": "3.8.10"
    }
  },
  "nbformat": 4,
  "nbformat_minor": 0
}
