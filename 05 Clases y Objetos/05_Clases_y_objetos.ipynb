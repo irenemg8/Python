{
  "nbformat": 4,
  "nbformat_minor": 0,
  "metadata": {
    "colab": {
      "provenance": [],
      "toc_visible": true
    },
    "kernelspec": {
      "name": "python3",
      "display_name": "Python 3"
    }
  },
  "cells": [
    {
      "cell_type": "markdown",
      "source": [
        "**NOTA**: Si detectas algún error en este Colab, pon un mensaje en el foro para que lo podamos solucionar o envía un correo."
      ],
      "metadata": {
        "id": "1H66kHdNDFw6"
      }
    },
    {
      "cell_type": "markdown",
      "metadata": {
        "id": "rZqYlEzlTcEj"
      },
      "source": [
        "# 1 Clases y objetos\n"
      ]
    },
    {
      "cell_type": "markdown",
      "metadata": {
        "id": "9MPrUn5KyRmn"
      },
      "source": [
        "Python es un lenguaje que también soporta el paradigma de Programación Orientada a Objetos (POO). Como ya sabemos de otros lenguajes, las clases definen la estructura y comportamiento de objetos. El término *clase* hace referencia a una plantilla que define atributos (variables propias de la clase) y métodos (funciones propias de la clase). Por contra, un *objeto* es la instanciación en tiempo de ejecución de una clase.\n",
        "\n",
        "Podemos crear una clase en Python utilizando la palabra reservada `class` seguida de un espacio y el nombre de nuestra clase. Por convención, el nombre de la clase lo pondremos en PascalCase (i.e. la primera letra en mayúscula).\n",
        "\n",
        "Las clases utilizan un método ```__init__``` (con doble subrayado anterior y posterior) como inicializador. Este método recibe un primer parámetro de entrada llamado ```self``` y que se usa para referirse al propio objeto (como el ```this``` de otros lenguajes). A parte de este primer parámetro, podemos añadir más, que serán **atributos** de la clase. En comparación con otros lenguajes como Java o C#, el método `__init__` no es realmente el constructor, sino un iniciador. En Python, este método se utiliza para configurar un objeto que ya existe en el momento en que se llama.\n",
        "\n",
        "Por convención, los atributos seguirán las indicaciones de las variables. Esto es, en minúsculas con un subrayado (_) para separar las distintas palabras que tenga.\n",
        "\n",
        "Observa el siguiente ejemplo donde definimos una clase persona con dos parámetros adicionales: nombre (n) y edad (e). Estos parámetros los utilizaremos para asignarlos a dos atributos de la clase, llamados nombre y edad:"
      ]
    },
    {
      "cell_type": "code",
      "metadata": {
        "id": "oIeQ6HmGz7wo"
      },
      "source": [
        "# Definimos una clase Persona\n",
        "class Persona:\n",
        "  \"\"\" Creamos una nueva persona con un nombre y una edad \"\"\"\n",
        "  def __init__(self, n, e):\n",
        "    self.nombre = n\n",
        "    self.edad = e"
      ],
      "execution_count": null,
      "outputs": []
    },
    {
      "cell_type": "markdown",
      "metadata": {
        "id": "B_u5Pa4Y16BY"
      },
      "source": [
        "Como has podido comprobar, a diferencia de otros lenguajes, en Python **no es necesario hacer explícitos** los atributos de la clase, sino que son creados en el momento que utilizamos la sintaxis ```self.atributo```. Podemos ver la palabra `self` como el `this` que utilizamos en otros lenguajes.\n",
        "\n",
        "De hecho, si definimos un atributo a nivel de clase (igual que hacemos en otros lenguajes como Java o C#), estaremos definiendo un **atributo de clase**, es decir, un atributo que tiene el mismo valor para todos los objetos que se creen:\n",
        "\n"
      ]
    },
    {
      "cell_type": "code",
      "metadata": {
        "id": "xeYGJKkMgg8Z"
      },
      "source": [
        "# Definimos una clase Persona\n",
        "class Persona:\n",
        "  \"\"\" Atributo de clase (mismo valor para todas las personas) \"\"\"\"\n",
        "  unidad_masa = \"kg\"\n",
        "\n",
        "  \"\"\" Atributos de instanacia. Cada persona puede tener un nombre y una edad distintos \"\"\"\n",
        "  def __init__(self, n, e):\n",
        "    self.nombre = n\n",
        "    self.edad = e"
      ],
      "execution_count": null,
      "outputs": []
    },
    {
      "cell_type": "markdown",
      "metadata": {
        "id": "icK-zQ5KaqYx"
      },
      "source": [
        "\n",
        "Para crear un objeto o instancia de una clase, simplemente llamaremos a una función cuyo nombre es el nombre propio de la clase y pasando por parámetro aquellos que reciba su función ```__init__``` a excepción del primer parámetro ```self```. Una vez creado el objeto, podemos acceder a sus atributos simplemente con un punto:"
      ]
    },
    {
      "cell_type": "code",
      "metadata": {
        "id": "jM-1wt0y3R9H"
      },
      "source": [
        "p = Persona(\"Juan\", 25)\n",
        "\n",
        "print(\"El nombre de p es \",p.nombre, \" y la edad es \",p.edad)"
      ],
      "execution_count": null,
      "outputs": []
    },
    {
      "cell_type": "markdown",
      "metadata": {
        "id": "b57hdYYOQCfX"
      },
      "source": [
        "De forma similar a los atributos, podemos definir **métodos** al igual que definimos cualquier función. Lo único que tenemos que tener en cuenta es que los métodos de clase tienen que ir **identados** dentro de la clase y que debemos **añadir** ```self``` como primer parámetro. A continuación se muestra el ejemplo de uso de un método ```mostrar_info()```:"
      ]
    },
    {
      "cell_type": "code",
      "metadata": {
        "id": "prPHg4kxQcEk"
      },
      "source": [
        "# Definimos una clase Persona\n",
        "class Persona:\n",
        "  \"\"\" Creamos una nueva persona con un nombre y una edad \"\"\"\n",
        "  def __init__(self, n, e):\n",
        "    self.nombre = n\n",
        "    self.edad = e\n",
        "\n",
        "  def mostrar(self):\n",
        "    print(\"El nombre es \",self.nombre, \" y la edad es \",self.edad)\n",
        "\n",
        "p = Persona(\"Juan\", 25)\n",
        "p.mostrar()"
      ],
      "execution_count": null,
      "outputs": []
    },
    {
      "cell_type": "markdown",
      "metadata": {
        "id": "CFb97CgW2wRY"
      },
      "source": [
        "En otros lenguajes, se utiliza `Null` para hacer referencia a un puntero que no apunta a nada, denotando un objeto o una variable vacía. Python utiliza `None` para definir objetos y variables nulas. Lo podrás ver normalmente en alguna función que no devuelve nada.\n",
        "\n",
        "En el siguiente ejemplo puedes ver una función que devuelve la cantidad de claves de un diccionario cuyo valor coincida con el valor pasado por parámetro. Si no existe ninguna, devuelve `None`. Observa también como, por convenio, utilizamos `is` y `is not` para comparar con `None` en vez de `==` y `!=`"
      ]
    },
    {
      "cell_type": "code",
      "metadata": {
        "id": "lFMb8kW4UpvE"
      },
      "source": [
        "def matching_list(dict, value):\n",
        "  matchings = []\n",
        "  for item in dict:\n",
        "    if dict[item] == value:\n",
        "      matchings.append(item)\n",
        "\n",
        "  if len(matchings) != 0:\n",
        "    return len(matchings)\n",
        "  else:\n",
        "    return None\n",
        "\n",
        "pairs = {\"item1\" : \"coche\", \"item2\" : \"moto\", \"item3\" : \"bicicleta\"}\n",
        "\n",
        "res = matching_list(pairs, \"moto\")\n",
        "if res is not None:\n",
        "  print(\"Se han encontrado \"+str(res)+\" elementos\")\n",
        "else:\n",
        "  print(\"No hay ningún item que coincida\")"
      ],
      "execution_count": null,
      "outputs": []
    },
    {
      "cell_type": "markdown",
      "metadata": {
        "id": "uIF8NduONbBA"
      },
      "source": [
        "## 1.1 Visibilidad"
      ]
    },
    {
      "cell_type": "markdown",
      "metadata": {
        "id": "ZNOpTdG7jMsO"
      },
      "source": [
        "Por defecto, todos los atributos y métodos de una clase son públicos. Si queremos hacerlos privados, debemos añadir el **doble subrayado** delante del nombre (__). Observa en el siguiente ejemplo cómo desde fuera de la clase sí que podemos acceder a los atributos y métodos públicos pero no podemos acceder a los privados:"
      ]
    },
    {
      "cell_type": "code",
      "metadata": {
        "id": "7ix39rn0iVZi"
      },
      "source": [
        "# Definimos una clase Persona\n",
        "class Persona:\n",
        "\n",
        "\n",
        "  def __init__(self, n, e):\n",
        "    self.nombre = n #público\n",
        "    self.__edad = e #privado\n",
        "\n",
        "  def mostrar(self): #público\n",
        "    print(\"El nombre es \",self.nombre, \" y la edad es \",self.__edad)\n",
        "\n",
        "  def __mostrar(self): #privado\n",
        "    print(\"El nombre es \",self.nombre, \" y la edad es \",self.__edad)\n",
        "\n",
        "p = Persona(\"Juan\", 25)\n",
        "print(\"El nombre es \"+p.nombre)\n",
        "p.mostrar()\n",
        "\n",
        "#Estos fallan\n",
        "print(\"La edad es \"+p.__edad)\n",
        "p.__mostrar()"
      ],
      "execution_count": null,
      "outputs": []
    },
    {
      "cell_type": "markdown",
      "metadata": {
        "id": "9alLLCgdbTi2"
      },
      "source": [
        "También puedes encontrar atributos o métodos que tienen un subrayado simple **(_)**. Esto, por convención, también se utiliza para hacer referencia a que son privados, aunque a nivel práctico, no lo serían."
      ]
    },
    {
      "cell_type": "markdown",
      "metadata": {
        "id": "K7dCBCQQkHWf"
      },
      "source": [
        "En Python también existen métodos especiales de clases. Ya hemos visto `__init__` pero también podemos utilizar otros. Un ejemplo es `__str__` el cual devuelve una cadena con lo que queremos que se muestre por pantalla cuando imprimimos el objeto. Observa el siguiente ejemplo y después comenta la función `__str__` para comprobar la diferencia:"
      ]
    },
    {
      "cell_type": "code",
      "metadata": {
        "id": "18T1c0rpkZp3"
      },
      "source": [
        "# Definimos una clase Persona\n",
        "class Persona:\n",
        "\n",
        "  def __init__(self, n, e):\n",
        "    self.nombre = n\n",
        "    self.edad = e\n",
        "\n",
        "  def __str__(self):\n",
        "    return \"El nombre es \"+self.nombre+\" y la edad es \"+str(self.edad)\n",
        "\n",
        "p = Persona(\"Juan\", 25)\n",
        "print(\"El nombre es \"+p.nombre)\n",
        "print(p)\n"
      ],
      "execution_count": null,
      "outputs": []
    },
    {
      "cell_type": "markdown",
      "metadata": {
        "id": "1ze8roQAq19A"
      },
      "source": [
        "## 1.2 Herencia"
      ]
    },
    {
      "cell_type": "markdown",
      "metadata": {
        "id": "60SgO2SZq3wE"
      },
      "source": [
        "La herencia nos permite crear nuevas clases derivadas (subclases) a partir de una clase principal. Para definir una subclase que herede de otra clase, debemos situarnos después de la clase principal y utilizar el nombre de la clase principal en la propia definición de la subclase. En el siguiente ejemplo puedes ver cómo definiríamos la clase `Circulo` como una subclase de `Figura`:"
      ]
    },
    {
      "cell_type": "code",
      "metadata": {
        "id": "3AmeXnF9lnhH"
      },
      "source": [
        "class Figura:\n",
        "  def __init__(self, tipo):\n",
        "    self.tipo = tipo\n",
        "    self.area = 0\n",
        "    self.perimetro = 0\n",
        "\n",
        "  def __str__(self):\n",
        "    return \"Figura: \"+self.tipo+\". Area: \"+str(self.area)+\" y perímetro: \"+str(self.perimetro)+\" \\n\"\n",
        "\n",
        "class Circulo(Figura): #definimos subclase de Figura\n",
        "  PI = 3.14\n",
        "\n",
        "  def __init__(self, radio):\n",
        "    super().__init__(\"circulo\") #llamamos al inicializador de la clase principal\n",
        "    self.radio = radio #atributo específico de la subclase\n",
        "    self.area = self.PI * self.radio**2\n",
        "    self.perimetro = 2 * self.PI * self.radio\n",
        "\n",
        "c = Circulo(3)\n",
        "print(c) #__str__ se hereda de figura\n"
      ],
      "execution_count": null,
      "outputs": []
    },
    {
      "cell_type": "markdown",
      "metadata": {
        "id": "AkuKlMy70Eqw"
      },
      "source": [
        "Como puedes ver en el ejemplo anterior, en la subclase ```Circulo``` podemos definir atributos específicos (p.e. ```radio```) y también añadir parámetros específicos en el método ```__init__``` (redefiniendo el método con los parámetros de la clase principal y los nuevos de la subclase). Los parámetros que pertenecen a la clase principal, se envían al ```__init__``` de la clase principal mediante ```super()```. Los específicos se asignan directamente a algún atributo de la subclase."
      ]
    },
    {
      "cell_type": "markdown",
      "metadata": {
        "id": "eOEwSHEW1JdS"
      },
      "source": [
        "Como sabes, los métodos se heredan de la clase principal, pero si queremos que alguno tenga una funcionalidad distinta, podemos **sobreescribirlo** en la subclase:"
      ]
    },
    {
      "cell_type": "code",
      "metadata": {
        "id": "vycnl7Yg1bI4"
      },
      "source": [
        "class Figura:\n",
        "  def __init__(self, tipo):\n",
        "    self.tipo = tipo\n",
        "    self.area = 0\n",
        "    self.perimetro = 0\n",
        "\n",
        "  def __str__(self):\n",
        "    return \"Figura: \"+self.tipo+\". Area: \"+str(self.area)+\" y perímetro: \"+str(self.perimetro)+\" \\n\"\n",
        "\n",
        "class Circulo(Figura):\n",
        "  PI = 3.14\n",
        "\n",
        "  def __init__(self, radio):\n",
        "    super().__init__(\"circulo\")\n",
        "    self.radio = radio\n",
        "    self.area = self.PI * self.radio**2\n",
        "    self.perimetro = 2 * self.PI * self.radio\n",
        "\n",
        "  def __str__(self): #Sobreescribimos el método en la subclase\n",
        "    return \"Este círculo de radio \"+str(self.radio)+\" tiene area: \"+str(self.area)+\" y perímetro: \"+str(self.perimetro)+\" \\n\"\n",
        "\n",
        "c = Circulo(3)\n",
        "print(c) #__str__ se ha sobreescrito en la subclase"
      ],
      "execution_count": null,
      "outputs": []
    },
    {
      "cell_type": "markdown",
      "metadata": {
        "id": "ziqYJV91lI9L"
      },
      "source": [
        "En caso de que el método `__init__` de la clase principal no reciba nada, podríamos omitir la llamada `super().__init__`. En el siguiente ejemplo, no se hace la llamada y funciona bien porque el método `__init__` de la subclase ya inicializa los atributos. No obstante, si intentas acceder al atributo `self.tipo` que está definido en la clase principal, verás como te da error porque éste solo se inicializa en el `__init__` de la clase principal:"
      ]
    },
    {
      "cell_type": "code",
      "metadata": {
        "id": "ITI-yNablbLi"
      },
      "source": [
        "class Figura:\n",
        "  def __init__(self):#este método no recibe nada\n",
        "    self.tipo = \"default\"\n",
        "    self.area = 0\n",
        "    self.perimetro = 0\n",
        "\n",
        "  def __str__(self):\n",
        "    return \"Figura: \"+self.tipo+\". Area: \"+str(self.area)+\" y perímetro: \"+str(self.perimetro)+\" \\n\"\n",
        "\n",
        "class Circulo(Figura):\n",
        "  PI = 3.14\n",
        "\n",
        "  def __init__(self, radio):\n",
        "    self.radio = radio\n",
        "    self.area = self.PI * self.radio**2\n",
        "    self.perimetro = 2 * self.PI * self.radio\n",
        "\n",
        "  def __str__(self): #Sobreescribimos el método en la subclase\n",
        "    return \"Este círculo de radio \"+ str(self.radio)+\" tiene area: \"+str(self.area)+\" y perímetro: \"+str(self.perimetro)+\" \\n\"\n",
        "\n",
        "c = Circulo(3)\n",
        "print(c) #__str__ se ha sobreescrito en la subclase"
      ],
      "execution_count": null,
      "outputs": []
    },
    {
      "cell_type": "markdown",
      "metadata": {
        "id": "P9kdzSRZYgam"
      },
      "source": [
        "Si queremos hacer una subclase que sea exactamente igual que su clase principal, podemos poner la palabra ```pass``` como primer comando dentro de la clase. Es como decir \"si, ya sé que la clase está vacía, pero no hagas caso y no me muestres error\":"
      ]
    },
    {
      "cell_type": "code",
      "metadata": {
        "id": "FPhDbymsYyoU"
      },
      "source": [
        "class Figura:\n",
        "  def __init__(self, tipo):\n",
        "    self.tipo = tipo\n",
        "    self.area = 0\n",
        "    self.perimetro = 0\n",
        "\n",
        "  def __str__(self):\n",
        "    return \"Figura: \"+self.tipo+\". Area: \"+str(self.area)+\" y perímetro: \"+str(self.perimetro)+\" \\n\"\n",
        "\n",
        "class Circulo(Figura): #definimos subclase de Figura pero sin nada adicional\n",
        "  pass\n",
        "\n",
        "c = Circulo(\"circulo\")\n",
        "print(c)\n"
      ],
      "execution_count": null,
      "outputs": []
    },
    {
      "cell_type": "markdown",
      "metadata": {
        "id": "XSMbyI8Mmq5o"
      },
      "source": [
        "## 1.3 Polimorfismo"
      ]
    },
    {
      "cell_type": "markdown",
      "metadata": {
        "id": "iqeWdFzCmnCc"
      },
      "source": [
        "El concepto de **poliformismo** hace referencia a poder utilizar diferentes tipos de objetos como parámetros de un mismo nombre de función. En el ejemplo anterior, puedes ver que el método `__str__` tiene un comportamiento distinto en la subclase que en la clase principal. En este caso, estamos haciendo una sobreescritura del método.\n",
        "\n",
        "Este concepto también es aplicable cuando tenemos una función que se puede llamar pasándole distintos tipos de atributos. En el siguiente ejemplo puedes ver como la función `mostrar_tipo` acepta varios tipos de objetos:"
      ]
    },
    {
      "cell_type": "code",
      "metadata": {
        "id": "J9dnvNvhoUK5"
      },
      "source": [
        "class Figura:\n",
        "  def __init__(self, tipo):\n",
        "    self.tipo = tipo\n",
        "    self.area = 0\n",
        "    self.perimetro = 0\n",
        "\n",
        "  def __str__(self):\n",
        "    return \"Figura: \"+self.tipo+\". Area: \"+str(self.area)+\" y perímetro: \"+str(self.perimetro)+\" \\n\"\n",
        "\n",
        "class Circulo(Figura):\n",
        "  PI = 3.14\n",
        "\n",
        "  def __init__(self, radio):\n",
        "    super().__init__(\"Circulo\")\n",
        "    self.radio = radio\n",
        "    self.area = self.PI * self.radio**2\n",
        "    self.perimetro = 2 * self.PI * self.radio\n",
        "\n",
        "class Cuadrado(Figura):\n",
        "\n",
        "  def __init__(self, lado):\n",
        "    super().__init__(\"Cuadrado\")\n",
        "    self.lado = lado\n",
        "    self.area = self.lado * self.lado\n",
        "    self.perimetro = self.lado *4\n",
        "\n",
        "#-------------------- main --------------------\n",
        "\n",
        "def mostrar_tipo(figura):#esta función se ejecuta igual para distintos tipos de objetos pasados (p.e. Circulo y Cuadrado)\n",
        "  print(\"El tipo es \"+figura.tipo)\n",
        "\n",
        "c1 = Circulo(2)\n",
        "mostrar_tipo(c1)\n",
        "c2 = Cuadrado(2)\n",
        "mostrar_tipo(c2)"
      ],
      "execution_count": null,
      "outputs": []
    },
    {
      "cell_type": "markdown",
      "metadata": {
        "id": "tm0atQq0rE7d"
      },
      "source": [
        "El polimorfismo en Python se consigue con lo que se denomina **Duck typing**, que hace referencia a que \"Si veo un pájaro que camina como un pato, nada como un pato y hace el mismo sonido que un pato, entonces tiene que ser un pato\".\n",
        "\n",
        "Básicamente, esto significa que la adecuación de un objeto para poderlo utilizar como parámetro de una función se determinará cuando se llame a esa función. A diferencia de otros lenguajes que sí que tienen un tipado estático como Java o C#, en Python, mientras el objeto o variable que reciba la función cuadre con la lógica de la misma, le podemos pasar lo que queramos. Observa el siguiente ejemplo como la función `mostrar_longitud` no le importa el tipo de dato recibido... mientras funcione:"
      ]
    },
    {
      "cell_type": "code",
      "metadata": {
        "id": "bUGyGvjfsmyM"
      },
      "source": [
        "def mostrar_longitud(valor):\n",
        "  print(\"La longitud es \"+str(len(valor)))\n",
        "\n",
        "palabra = \"duck_typing\"\n",
        "mostrar_longitud(palabra)\n",
        "lista = [5, 4, 7, 1]\n",
        "mostrar_longitud(lista)\n",
        "diccionario = {1: \"Pepe\", 2: \"Paco\", 3: \"Marta\"}\n",
        "mostrar_longitud(diccionario)"
      ],
      "execution_count": null,
      "outputs": []
    },
    {
      "cell_type": "markdown",
      "metadata": {
        "id": "TsxeWS2BOSzw"
      },
      "source": [
        "## 1.4 Métodos de clase y métodos estáticos"
      ]
    },
    {
      "cell_type": "markdown",
      "metadata": {
        "id": "G74IDKylOXJ4"
      },
      "source": [
        "Los métodos que hemos visto en los ejemplos anteriores se denominan **métodos de instancia**. Estos métodos son los más habituales que nos encontraremos. Como ya hemos visto, este tipo de métodos tienen el parámetro `self` como primer parámetro y pueden tener un comportamiento diferente dependiendo del objeto (instancia) que creemos de esa clase.\n",
        "\n",
        "Además de estos métodos, nos podemos encontrar también con **métodos de clase**. Estos métodos van anotados con el decorador `@classmethod` y en vez de aceptar un parámetro `self`, reciben un parámetro `cls`. Este parámetro apunta a la clase (no al objeto como `self`), por lo que no puede modificar el estado de un objeto. Normalmente, estos métodos se usan como métodos factory, que devuelven un objeto de la clase con una determinada funcionalidad (i.e. se crea un objeto con algún tipo de características).\n",
        "\n",
        "Finalmente, también podemos tener **métodos estáticos**. Estos métodos van anotados con el decorador `@staticmethod`. Este tipo de métodos no reciben ni `self` ni `cls` y se utilizan principalmente cuando queremos acceder a un método sin necesidad de crear un objeto (una utilidad). Por contra, no puede acceder a atributos ni métodos del propio objeto."
      ]
    },
    {
      "cell_type": "code",
      "metadata": {
        "id": "r4rWjJBaRMoz"
      },
      "source": [
        "from datetime import date\n",
        "\n",
        "class ClaseEjemplo:\n",
        "  def __init__(self, nombre, edad):\n",
        "    self.n = nombre\n",
        "    self.e = edad\n",
        "\n",
        "  def metodo_instancia(self):\n",
        "    print(\"El nombre es \"+self.n)\n",
        "\n",
        "  @classmethod\n",
        "  def metodo_clase(cls, nombre, anyo):\n",
        "    return cls(nombre, date.today().year - anyo)\n",
        "\n",
        "  @staticmethod\n",
        "  def metodo_estatico(base, altura):\n",
        "    print(\"Este metodo es estático y sirve para alguna funcionalidad que no dependa de ningún objeto en si\")\n",
        "    area = base * altura\n",
        "    return area\n",
        "\n",
        "p1 = ClaseEjemplo(\"Pepe\", 20)\n",
        "p1.metodo_instancia()\n",
        "\n",
        "p2 = ClaseEjemplo(\"Ana\", 25)\n",
        "p2.metodo_instancia()\n",
        "print(type(p2))\n",
        "\n",
        "p3 = ClaseEjemplo.metodo_clase(\"Manolo\", 30)\n",
        "p3.metodo_instancia()\n",
        "print(type(p3))\n",
        "\n",
        "res = ClaseEjemplo.metodo_estatico(5, 3)\n",
        "print(res)\n",
        "\n"
      ],
      "execution_count": null,
      "outputs": []
    },
    {
      "cell_type": "markdown",
      "metadata": {
        "id": "EWsojs1fuAkY"
      },
      "source": [
        "# 2 Módulos y paquetes"
      ]
    },
    {
      "cell_type": "markdown",
      "metadata": {
        "id": "zo1TiKcUuEw7"
      },
      "source": [
        "Como hemos visto, Python es un lenguaje modular que nos permite incluir módulos con la sentencia `import`. Cuando trabajamos con clases, es habitual utilizar varios ficheros, pero la manera de poder acceder desde un fichero a una clase definida en otro fichero es la misma: mediante `import`.\n",
        "\n",
        "Por tanto, un módulo es un fichero con extensión .py. Si el módulo que queremos importar está en el mismo directorio, simplemente debemos importarlo de la siguiente manera (si son subdirectorios, bastaría con utilizar un punto como separador):"
      ]
    },
    {
      "cell_type": "code",
      "metadata": {
        "id": "tS0TpGxrv-nv"
      },
      "source": [
        "#Opción 1 para importar\n",
        "#------------------------------\n",
        "import nombre_modulo #importa todo\n",
        "\n",
        "#Uso\n",
        "nombre_modulo.clase\n",
        "\n",
        "#Opción 2 para importar\n",
        "#------------------------------\n",
        "from nombre_modulo import clase #en este caso, únicamente importamos una clase de ese módulo\n",
        "from nombre_modulo import clase, clase2 #importa 2 clases\n",
        "from nombre_modulo import * #importa todo\n",
        "\n",
        "#Uso\n",
        "clase"
      ],
      "execution_count": null,
      "outputs": []
    },
    {
      "cell_type": "markdown",
      "metadata": {
        "id": "PDcA7fIxxs2p"
      },
      "source": [
        "El problema de este enfoque es cuando tenemos un código grande distribuido en varios directorios. En este caso, podemos utilizar **paquetes** para gestionar los distintos módulos de manera que los podemos estructurar jerárquicamente. Un paquete es un **directorio** que contiene ficheros .py. Atendiendo a la documentación actual de Python, cuando realizamos un `import paquete_x`:\n",
        "* Se busca `paquete_x` en los paquetes instalados de Python.\n",
        "* Si no se encuentra, se busca un fichero `paquete_x.py` en la lista de directorios que apunta la variable `sys.path`. Entre otros, esta variable contiene el directorio del script que importa el `paquete_x`.\n",
        "\n",
        "En estos directorios, podemos tener un fichero `__init__.py` que se puede utilizar para ejecutar algún código cuando se importe el paquete. Este fichero era obligatorio en versiones anteriores a la 3.3, pero a partir de esta versión, cualquier directorio es considerado un paquete, tenga o no tenga un `__init__.py`.\n",
        "\n",
        "Para importar un paquete simplemente tenemos que hacerlo igual que un módulo. Imagina que tenemos la siguiente estructura de directorios:\n",
        "\n",
        "<figure style=\"text-align:center\">\n",
        "  <center>\n",
        "  <img width = \"35%\" src=\"https://s3imagenes.s3-us-west-2.amazonaws.com/dir1.PNG\"/>\n",
        "  <figcaption align=\"center\">Paquetes</figcaption>\n",
        "  </center>\n",
        "</figure>\n",
        "\n",
        "Si desde el fichero `main.py` queremos importar el módulo `constants`, tendríamos que escribir el siguiente código:"
      ]
    },
    {
      "cell_type": "code",
      "metadata": {
        "id": "oVt_-2TrU17O"
      },
      "source": [
        "from dir_constants.constants import *"
      ],
      "execution_count": null,
      "outputs": []
    },
    {
      "cell_type": "markdown",
      "metadata": {
        "id": "evyh5kDUzJ9p"
      },
      "source": [
        "Este código funciona porque Python intenta buscar un fichero `constants.py` en el mismo directorio (y subdirectorios) donde se encuentra `main.py`. No obstante, si queremos importar el módulo desde el fichero `fich1.py`, será necesario configurar la variable `sys.path` para indicarle el directorio donde debe buscar este fichero:"
      ]
    },
    {
      "cell_type": "code",
      "metadata": {
        "id": "7_LzypdXViil"
      },
      "source": [
        "import sys\n",
        "sys.path.insert(1, '../dir_constants')\n",
        "from constants import *"
      ],
      "execution_count": null,
      "outputs": []
    },
    {
      "cell_type": "markdown",
      "metadata": {
        "id": "SD3EzPLnVnHu"
      },
      "source": [
        "Habría otra opción para importar el paquete y sería generando un paquete distribuible e instalándolo, pero esta opción queda fuera del objetivo de esta sesión."
      ]
    },
    {
      "cell_type": "markdown",
      "metadata": {
        "id": "n30QLugUyGGf"
      },
      "source": [
        "Por último, en ocasiones encontrarás al final de un fichero .py un código como el siguiente:\n",
        "```python\n",
        "if __name__ == \"__main__\":\n",
        "```\n",
        "\n",
        "Esto lo entontrarás en muchas ocasiones y básicamente se utiliza cuando un fichero puede usarse **como módulo** importado **y también como ejecutable independiente**. Si ejecutas el fichero directamente, no hay diferencia entre poner el código que quieres utilizar dentro de este bloque o fuera. Sin embargo, si este fichero es importado, podrás comprobar que si no tiene este bloque, se ejecuta el código que haya en un nivel principal.\n",
        "\n",
        "Esto ocurre porque cuando Python lee un fichero, asigna a la variable `__name__` un valor y después ejecuta el fichero. En el caso de ejecutar directamente el fichero,  Python asigna el string `\"__main__\"` a la variable `__name__` y después ejecuta el código que haya dentro del fichero. Cuando importamos un fichero (p.e. `funciones.py`), a la variable `__name__` se le asigna el nombre del fichero en sí (i.e. `funciones`). Por tanto, el hecho de poner el código dentro de este bloque hace que solo se ejecute cuando el fichero se ejecuta directamente y no cuando es importado.\n",
        "\n"
      ]
    },
    {
      "cell_type": "markdown",
      "metadata": {
        "id": "AESLIw3ygWDm"
      },
      "source": [
        "## 2.1 Constantes"
      ]
    },
    {
      "cell_type": "markdown",
      "metadata": {
        "id": "c-SOwzD7gbPq"
      },
      "source": [
        "En Python, las constantes normalmente se definen dentro de un módulo. Por convenio, una constante se define con mayúsculas. Imaginemos que tenemos un fichero `constants.py` con el contenido que hay a continuación:"
      ]
    },
    {
      "cell_type": "code",
      "metadata": {
        "id": "S6e4e6sJgqcO"
      },
      "source": [
        "PI = 3.14"
      ],
      "execution_count": null,
      "outputs": []
    },
    {
      "cell_type": "markdown",
      "metadata": {
        "id": "JlKmikyEhgDf"
      },
      "source": [
        "Para utilizar esta constante desde otro fichero, bastaría con realizar el import correspondiente y acceder de cualquiera de las siguientes maneras:"
      ]
    },
    {
      "cell_type": "code",
      "metadata": {
        "id": "gufmrUFnhmw-"
      },
      "source": [
        "#Opción 1\n",
        "from constants import *\n",
        "\n",
        "print(\"El valor es \"+str(PI))\n",
        "\n",
        "#Opción 2\n",
        "import constants\n",
        "\n",
        "print(\"El valor es \"+str(constants.PI))"
      ],
      "execution_count": null,
      "outputs": []
    },
    {
      "cell_type": "markdown",
      "metadata": {
        "id": "wi07mSQtiHQU"
      },
      "source": [
        "En el caso de tener varias variables, es posible agruparlas dentro de una clase, de manera que las constantes se definan como atributos de clase (i.e. atributos definidos a nivel de clase sin `self`). En el ejemplo siguiente, estaríamos definiendo varios estados posibles de alguna máquina de estados:"
      ]
    },
    {
      "cell_type": "code",
      "metadata": {
        "id": "Q0TV5U41ikRw"
      },
      "source": [
        "class states:\n",
        "    INIT = 0\n",
        "    ACTIVE = 1\n",
        "    IDDLE = 2\n",
        "    STOP = 3"
      ],
      "execution_count": null,
      "outputs": []
    },
    {
      "cell_type": "markdown",
      "metadata": {
        "id": "Zh4I2kbWinAl"
      },
      "source": [
        "En este caso, la manera de utilizar estas constantes sería similar a la anterior, pero indicando también la referencia del nombre de la clase:"
      ]
    },
    {
      "cell_type": "code",
      "metadata": {
        "id": "EPCndYu4ivS2"
      },
      "source": [
        "#Opción 1\n",
        "from constants import *\n",
        "\n",
        "print(\"El valor es \"+str(states.INIT))\n",
        "\n",
        "#Opción 2\n",
        "import constants\n",
        "\n",
        "print(\"El valor es \"+str(constants.states.INIT))"
      ],
      "execution_count": null,
      "outputs": []
    },
    {
      "cell_type": "markdown",
      "metadata": {
        "id": "5xnn4pjC8zyt"
      },
      "source": [
        "# 3 Tarea entregable"
      ]
    },
    {
      "cell_type": "markdown",
      "metadata": {
        "id": "z3MZoaTj85Od"
      },
      "source": [
        "En esta tarea vamos a practicar todo lo que hemos visto hasta ahora, programando una aplicación de reservas de vuelos. En la siguiente imagen puedes ver el diagrama de clases que tendrás que desarrollar.\n",
        "\n",
        "<figure style=\"text-align:center\">\n",
        "  <center>\n",
        "  <img width = \"90%\" src=\"https://s3imagenes.s3-us-west-2.amazonaws.com/diagrama.png\"/>\n",
        "  <figcaption align=\"center\">Diagrama de clases</figcaption>\n",
        "  </center>\n",
        "</figure>\n",
        "\n",
        "Como ves, se trata de implementar varias clases con varios métodos. Algunas consideraciones a tener en cuenta:\n",
        "* Cada clase se implementará en un fichero con el mismo nombre. Los nombres de las clases serán los mismos que se ven en el diagrama de clases, siguiendo el convenido de nomenclatura (sólo la primera letra en mayúscula), mientras que los nombres de los ficheros serán en minúscula.\n",
        "* Los nombres de los parámetros de los `__init__` serán los mismos que los atributos de la clase que definen.\n",
        "* Las clases **Airbus** y **Boing** se implementarán en el fichero de la superclase **Aircraft**.\n",
        "* Los atributos de cada clase serán privados. Su nomenclatura empezará por `__` y se utilizarán los *getters* para acceder a su valor.\n",
        "* Por el momento, no hace falta ningún tipo de comprobración de errores.\n",
        "\n",
        "La clase **Aircraft** contiene información de la aeronave. De esta clase, cabe mencionar el método `seating_plan()` que genera una tupla con dos valores. El primero es una lista con el tamaño de filas + 1, siendo `None` el valor de cada elemento de la lista (ten en cuenta que estamos añadiendo un valor de más, pero que no será una fila real que esté disponible). El segundo es un string de letras (p.e. \"ABCDEF\"), que representa los asientos de cada fila. El método `num_seats` simplemente devuelve el número total de asientos reales que tiene la aeronave. A continuación, puedes ver la descripción de ambos métodos:\n",
        "```python\n",
        "seating_plan()\n",
        "    \"\"\"Generates a seating plan for the number of rows and seats per row\n",
        "    Returns:\n",
        "      rows: A list of Nones (size num_rows + 1).\n",
        "      seats: A string of letters such as \"ABCDEF\"\n",
        "    \"\"\"\n",
        "num_seats()\n",
        "    \"\"\"Calculates the number of seats\n",
        "    Returns:\n",
        "      seats: The number of seats\n",
        "    \"\"\"\n",
        "```\n",
        "\n",
        "La clase **Passenger** se utiliza para almacenar la información de cada pasajero: nombre, apellido e id. Esta clase tiene un método `passenger_data()` que devuelve una tupla con los tres valores:\n",
        "```python\n",
        "passenger_data()\n",
        "    \"\"\"Obtains the data of a passenger\n",
        "    Returns:\n",
        "      name: The passenger's name such as 'Jack'\n",
        "      surname: The passenger's family name such as 'Shephard'\n",
        "      id_card: The passenger's id card such as '85994003S'\n",
        "    \"\"\"\n",
        "```\n",
        "\n",
        "La clase **Flight** representa la información de un vuelo. Posiblemente, la parte más complicada es la representación de los asientos, que puedes encontrar en el atributo `seating`. Esto se representa mediante una lista de diccionarios, donde cada posición de la lista hace referencia a una fila de asientos (1, 2, etc.). Para cada fila, habrá un diccionario donde las claves serán las letras de los asientos ('A', 'B', etc.) y los valores serán los datos del pasajero (nombre, apellido e id). Para ello, debes utilizar la información que te devuelve ``seating_plan``. Como la numeración de las filas empieza en 1, mantenemos la fila 0 con un valor ``None`` pero que no será utilizable. En la siguiente imagen puedes ver una representación gráfica (Nota: en la imagen solo aparece el nombre del pasajero):\n",
        "\n",
        "<figure style=\"text-align:center\">\n",
        "  <center>\n",
        "  <img width = \"75%\" src=\"https://s3imagenes.s3-us-west-2.amazonaws.com/booking2.png\"/>\n",
        "  <figcaption align=\"center\">Representación del plan de reservas</figcaption>\n",
        "  </center>\n",
        "</figure>\n",
        "\n",
        "En la función `__init__` se inicializará el atributo `seating`, mediante llamada al método `seating_plan()` del atributo `aircraft`. Asígnale la lista que te devuelve. Por defecto, todos los asientos estarán a ``None`` hasta que se asigne un pasajero. A continuación puedes ver los métodos que nos permiten gestionar los asientos:\n",
        "```python\n",
        "allocate_passenger()\n",
        "    \"\"\"Allocate a seat to a passenger\n",
        "    Args:\n",
        "      seat: A seat designator such as '12C' or '21F'\n",
        "      passenger: The passenger data such as ('Jack', 'Shephard', '85994003S')\n",
        "    \"\"\"\n",
        "reallocate_passenger()\n",
        "    \"\"\"Reallocate a passenger to a different seat\n",
        "    Args:\n",
        "      from_seat: The existing seat designator for the passenger such as '12C'\n",
        "      to_seat: The new seat designator\n",
        "    \"\"\"\n",
        "num_available_seats()\n",
        "    \"\"\"Obtains the amount of unoccupied seats\n",
        "    Returns:\n",
        "      The number of unoccupied seats  \n",
        "    \"\"\"\n",
        "```\n",
        "\n",
        "Además, también tenemos dos métodos que nos permiten imprimir información por consola. El método `print_seating()` mostrará el listado de asientos por consola. Para mostrar las filas una detrás de otra, puedes importar la función `pprint()` del módulo `pprint`:\n",
        "```python\n",
        "from pprint import pprint\n",
        "\n",
        "pprint(seating)\n",
        "```\n",
        "\n",
        "También tenemos el método `print_boarding_cards()` que mostrará por pantalla las tarjetas de embarque de todos los pasajeros. A continuación tienes la definición de estos métodos. Es importante que `print_boarding_cards()` devuelva algo similar a lo que muestra la función (una especie de tarjeta y no solo el nombre):\n",
        "\n",
        "```python\n",
        "print_seating()\n",
        "    \"\"\"Prints in console the seating plan\n",
        "    Example of one row:\n",
        "      {'A': None, 'B': None, 'C': None, 'D': None, 'E': None, 'F': None}\n",
        "    \"\"\"\n",
        "print_boarding_cards()\n",
        "    \"\"\"Prints in console the boarding card for each passenger\n",
        "    Example of one boarding card:\n",
        "    ----------------------------------------------------------\n",
        "    |     Jack Sheppard 85994003S 15E BA758 Airbus A319      |\n",
        "    ----------------------------------------------------------\n",
        "    \"\"\"\n",
        "```\n",
        "\n",
        "También se pide implementar dos métodos privados que serán usados por otros métodos de la clase:\n",
        "\n",
        "```python\n",
        "__parse_seat()\n",
        "    \"\"\"Divide a seat designator in row and letter\n",
        "    Args:\n",
        "      seat: The seat designator to be divided such as '12C'\n",
        "    Returns:\n",
        "      row: The row of the seat such as 12\n",
        "      letter: The letter of the seat such as 'C'\n",
        "    \"\"\"\n",
        "__passenger_seats()\n",
        "    \"\"\"A generator function to iterate the occupied seating locations\n",
        "    Returns:\n",
        "      generator: Tuple of the passenger data and the seat\n",
        "    \"\"\"\n",
        "```\n",
        "\n",
        "Finalmente, aunque a ti no te haga falta, debes implementar explícitamente el método ``get_seating() ``.\n",
        "\n",
        "Para realizar pruebas, deberás definir un fichero `main.py`, que tendrá una estructura similar a la siguiente (puedes copiarla y pegarla con los imports necesarios). Amplíala con lo que necesites, pero el código este que te proporciono, te debería funcionar:\n",
        "\n",
        "\n"
      ]
    },
    {
      "cell_type": "code",
      "metadata": {
        "id": "IgggMCUYMBJX"
      },
      "source": [
        "def make_flights():\n",
        "    f1 = Flight(number = \"BA117\", aircraft = Aircraft(registration = \"G-EUAH\", model = \"Airbus A319\", num_rows = 22, num_seats_per_row=6))\n",
        "    f2 = Flight(number = \"AF92\", aircraft = Boeing(registration = \"F-GSPS\", airline = \"Emirates\"))\n",
        "    f3 = Flight(number = \"BA148\", aircraft = Airbus(registration = \"G-EUPT\", variant = \"A319-100\"))\n",
        "\n",
        "    p1 = Passenger(\"Jack\", \"Shephard\", \"85994003S\")\n",
        "    p2 = Passenger(\"Kate\", \"Austen\", \"12589756P\")\n",
        "    p3 = Passenger(\"James\", \"Ford\", \"56278665F\")\n",
        "    p4 = Passenger(\"John\", \"Locke\", \"10265448H\")\n",
        "    p5 = Passenger(\"Sayid\", \"Jarrah\", \"15758664M\")\n",
        "\n",
        "    f1.allocate_passenger(\"12A\", p1.passenger_data())\n",
        "    f1.allocate_passenger(\"18F\", p2.passenger_data())\n",
        "    f1.allocate_passenger(\"18E\", p3.passenger_data())\n",
        "    f1.allocate_passenger(\"1C\", p4.passenger_data())\n",
        "    f1.allocate_passenger(\"4D\", p5.passenger_data())\n",
        "\n",
        "    return f1, f2, f3\n",
        "\n",
        "f1, f2, f3 = make_flights()\n",
        "for fl in f1, f2, f3:\n",
        "  fl.print_seating()\n",
        "  fl.print_boarding_cards()"
      ],
      "execution_count": null,
      "outputs": []
    }
  ]
}